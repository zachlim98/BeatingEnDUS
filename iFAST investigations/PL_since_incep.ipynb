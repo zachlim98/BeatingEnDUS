{
 "metadata": {
  "language_info": {
   "codemirror_mode": {
    "name": "ipython",
    "version": 3
   },
   "file_extension": ".py",
   "mimetype": "text/x-python",
   "name": "python",
   "nbconvert_exporter": "python",
   "pygments_lexer": "ipython3",
   "version": "3.8.6-final"
  },
  "orig_nbformat": 2,
  "kernelspec": {
   "name": "python3",
   "display_name": "Python 3",
   "language": "python"
  }
 },
 "nbformat": 4,
 "nbformat_minor": 2,
 "cells": [
  {
   "cell_type": "code",
   "execution_count": 67,
   "metadata": {},
   "outputs": [],
   "source": [
    "import pandas as pd\n",
    "import matplotlib as plt "
   ]
  },
  {
   "cell_type": "code",
   "execution_count": 16,
   "metadata": {},
   "outputs": [],
   "source": [
    "#import CSVs\n",
    "buy_side = pd.read_csv(\"buy.csv\")\n",
    "sell_side = pd.read_csv(\"sell.csv\")\n",
    "\n",
    "#Filter only relevant columns\n",
    "buy_side = buy_side[[\"Name of Fund\", \"Investment Amount\", \"Date Completed\"]]\n",
    "buy_side[\"Side\"] = \"Buy\"\n",
    "sell_side = sell_side[[\"Name of Fund\", \"Net Redemption Amount\", \"Date Completed\"]]\n",
    "sell_side[\"Side\"] = \"Sell\"\n",
    "\n",
    "#Extract only the money amount and convert to integer\n",
    "buy_side[\"Buy_Amt\"] = buy_side[\"Investment Amount\"].str.extract(r\"(\\d+)\").astype('int64')\n",
    "sell_side[\"Sell_Amt\"] = sell_side[\"Net Redemption Amount\"].str.extract(r\"(\\d+)\").astype('int64')"
   ]
  },
  {
   "cell_type": "code",
   "execution_count": 50,
   "metadata": {},
   "outputs": [],
   "source": [
    "#group the dfs together and find net p/l\n",
    "\n",
    "bs_amt = buy_side.groupby(by=\"Name of Fund\").sum()\n",
    "ss_amt = sell_side.groupby(by=\"Name of Fund\").sum()\n",
    "net = bs_amt.join(ss_amt,on=\"Name of Fund\")\n",
    "net[\"P/L\"] = net[\"Sell_Amt\"] - net[\"Buy_Amt\"]"
   ]
  },
  {
   "cell_type": "code",
   "execution_count": null,
   "metadata": {},
   "outputs": [],
   "source": []
  }
 ]
}