{
 "cells": [
  {
   "cell_type": "code",
   "execution_count": 1,
   "metadata": {},
   "outputs": [],
   "source": [
    "import pandas as pd\n",
    "import plotly.express as px\n",
    "import random\n",
    "import numpy as np\n",
    "from collections import Counter"
   ]
  },
  {
   "cell_type": "code",
   "execution_count": 2,
   "metadata": {},
   "outputs": [],
   "source": [
    "def single_run(start, prob, runs):\n",
    "    account_start = start\n",
    "    account_hist = []\n",
    "    for i in range(0,runs):\n",
    "        win = (0.06*account_start)/3\n",
    "        if account_start <= 0:\n",
    "            return \"ruin\"\n",
    "        elif np.random.binomial(1, prob) == 1:\n",
    "            account_start += win\n",
    "            account_hist.append(account_start)\n",
    "        else:\n",
    "            account_start -= win*3\n",
    "            account_hist.append(account_start)\n",
    "    if account_start >= 150000:\n",
    "        return \"eli\"\n",
    "    else:\n",
    "        return \"normal\""
   ]
  },
  {
   "cell_type": "code",
   "execution_count": 21,
   "metadata": {},
   "outputs": [],
   "source": [
    "prob_ls = (np.arange(74,91)/100).tolist()\n",
    "ls = [(Counter([single_run(10000, t, 1150) for i in range(0,100)])) for t in prob_ls]\n",
    "prob_eli = [ls[i][\"eli\"]/100 for i in range(len(ls))]"
   ]
  },
  {
   "cell_type": "code",
   "execution_count": 26,
   "metadata": {},
   "outputs": [
    {
     "data": {
      "application/vnd.plotly.v1+json": {
       "config": {
        "plotlyServerURL": "https://plot.ly"
       },
       "data": [
        {
         "hovertemplate": "Win Rate (%)=%{x}<br>Probability of making $150,000=%{y}<extra></extra>",
         "legendgroup": "",
         "line": {
          "color": "#636efa",
          "dash": "solid"
         },
         "marker": {
          "symbol": "circle"
         },
         "mode": "lines",
         "name": "",
         "orientation": "v",
         "showlegend": false,
         "type": "scatter",
         "x": [
          0.74,
          0.75,
          0.76,
          0.77,
          0.78,
          0.79,
          0.8,
          0.81,
          0.82,
          0.83,
          0.84,
          0.85,
          0.86,
          0.87,
          0.88,
          0.89,
          0.9
         ],
         "xaxis": "x",
         "y": [
          0,
          0,
          0.01,
          0.13,
          0.32,
          0.67,
          0.87,
          0.98,
          1,
          1,
          1,
          1,
          1,
          1,
          1,
          1,
          1
         ],
         "yaxis": "y"
        }
       ],
       "layout": {
        "legend": {
         "tracegroupgap": 0
        },
        "template": {
         "data": {
          "bar": [
           {
            "error_x": {
             "color": "#2a3f5f"
            },
            "error_y": {
             "color": "#2a3f5f"
            },
            "marker": {
             "line": {
              "color": "#E5ECF6",
              "width": 0.5
             },
             "pattern": {
              "fillmode": "overlay",
              "size": 10,
              "solidity": 0.2
             }
            },
            "type": "bar"
           }
          ],
          "barpolar": [
           {
            "marker": {
             "line": {
              "color": "#E5ECF6",
              "width": 0.5
             },
             "pattern": {
              "fillmode": "overlay",
              "size": 10,
              "solidity": 0.2
             }
            },
            "type": "barpolar"
           }
          ],
          "carpet": [
           {
            "aaxis": {
             "endlinecolor": "#2a3f5f",
             "gridcolor": "white",
             "linecolor": "white",
             "minorgridcolor": "white",
             "startlinecolor": "#2a3f5f"
            },
            "baxis": {
             "endlinecolor": "#2a3f5f",
             "gridcolor": "white",
             "linecolor": "white",
             "minorgridcolor": "white",
             "startlinecolor": "#2a3f5f"
            },
            "type": "carpet"
           }
          ],
          "choropleth": [
           {
            "colorbar": {
             "outlinewidth": 0,
             "ticks": ""
            },
            "type": "choropleth"
           }
          ],
          "contour": [
           {
            "colorbar": {
             "outlinewidth": 0,
             "ticks": ""
            },
            "colorscale": [
             [
              0,
              "#0d0887"
             ],
             [
              0.1111111111111111,
              "#46039f"
             ],
             [
              0.2222222222222222,
              "#7201a8"
             ],
             [
              0.3333333333333333,
              "#9c179e"
             ],
             [
              0.4444444444444444,
              "#bd3786"
             ],
             [
              0.5555555555555556,
              "#d8576b"
             ],
             [
              0.6666666666666666,
              "#ed7953"
             ],
             [
              0.7777777777777778,
              "#fb9f3a"
             ],
             [
              0.8888888888888888,
              "#fdca26"
             ],
             [
              1,
              "#f0f921"
             ]
            ],
            "type": "contour"
           }
          ],
          "contourcarpet": [
           {
            "colorbar": {
             "outlinewidth": 0,
             "ticks": ""
            },
            "type": "contourcarpet"
           }
          ],
          "heatmap": [
           {
            "colorbar": {
             "outlinewidth": 0,
             "ticks": ""
            },
            "colorscale": [
             [
              0,
              "#0d0887"
             ],
             [
              0.1111111111111111,
              "#46039f"
             ],
             [
              0.2222222222222222,
              "#7201a8"
             ],
             [
              0.3333333333333333,
              "#9c179e"
             ],
             [
              0.4444444444444444,
              "#bd3786"
             ],
             [
              0.5555555555555556,
              "#d8576b"
             ],
             [
              0.6666666666666666,
              "#ed7953"
             ],
             [
              0.7777777777777778,
              "#fb9f3a"
             ],
             [
              0.8888888888888888,
              "#fdca26"
             ],
             [
              1,
              "#f0f921"
             ]
            ],
            "type": "heatmap"
           }
          ],
          "heatmapgl": [
           {
            "colorbar": {
             "outlinewidth": 0,
             "ticks": ""
            },
            "colorscale": [
             [
              0,
              "#0d0887"
             ],
             [
              0.1111111111111111,
              "#46039f"
             ],
             [
              0.2222222222222222,
              "#7201a8"
             ],
             [
              0.3333333333333333,
              "#9c179e"
             ],
             [
              0.4444444444444444,
              "#bd3786"
             ],
             [
              0.5555555555555556,
              "#d8576b"
             ],
             [
              0.6666666666666666,
              "#ed7953"
             ],
             [
              0.7777777777777778,
              "#fb9f3a"
             ],
             [
              0.8888888888888888,
              "#fdca26"
             ],
             [
              1,
              "#f0f921"
             ]
            ],
            "type": "heatmapgl"
           }
          ],
          "histogram": [
           {
            "marker": {
             "pattern": {
              "fillmode": "overlay",
              "size": 10,
              "solidity": 0.2
             }
            },
            "type": "histogram"
           }
          ],
          "histogram2d": [
           {
            "colorbar": {
             "outlinewidth": 0,
             "ticks": ""
            },
            "colorscale": [
             [
              0,
              "#0d0887"
             ],
             [
              0.1111111111111111,
              "#46039f"
             ],
             [
              0.2222222222222222,
              "#7201a8"
             ],
             [
              0.3333333333333333,
              "#9c179e"
             ],
             [
              0.4444444444444444,
              "#bd3786"
             ],
             [
              0.5555555555555556,
              "#d8576b"
             ],
             [
              0.6666666666666666,
              "#ed7953"
             ],
             [
              0.7777777777777778,
              "#fb9f3a"
             ],
             [
              0.8888888888888888,
              "#fdca26"
             ],
             [
              1,
              "#f0f921"
             ]
            ],
            "type": "histogram2d"
           }
          ],
          "histogram2dcontour": [
           {
            "colorbar": {
             "outlinewidth": 0,
             "ticks": ""
            },
            "colorscale": [
             [
              0,
              "#0d0887"
             ],
             [
              0.1111111111111111,
              "#46039f"
             ],
             [
              0.2222222222222222,
              "#7201a8"
             ],
             [
              0.3333333333333333,
              "#9c179e"
             ],
             [
              0.4444444444444444,
              "#bd3786"
             ],
             [
              0.5555555555555556,
              "#d8576b"
             ],
             [
              0.6666666666666666,
              "#ed7953"
             ],
             [
              0.7777777777777778,
              "#fb9f3a"
             ],
             [
              0.8888888888888888,
              "#fdca26"
             ],
             [
              1,
              "#f0f921"
             ]
            ],
            "type": "histogram2dcontour"
           }
          ],
          "mesh3d": [
           {
            "colorbar": {
             "outlinewidth": 0,
             "ticks": ""
            },
            "type": "mesh3d"
           }
          ],
          "parcoords": [
           {
            "line": {
             "colorbar": {
              "outlinewidth": 0,
              "ticks": ""
             }
            },
            "type": "parcoords"
           }
          ],
          "pie": [
           {
            "automargin": true,
            "type": "pie"
           }
          ],
          "scatter": [
           {
            "marker": {
             "colorbar": {
              "outlinewidth": 0,
              "ticks": ""
             }
            },
            "type": "scatter"
           }
          ],
          "scatter3d": [
           {
            "line": {
             "colorbar": {
              "outlinewidth": 0,
              "ticks": ""
             }
            },
            "marker": {
             "colorbar": {
              "outlinewidth": 0,
              "ticks": ""
             }
            },
            "type": "scatter3d"
           }
          ],
          "scattercarpet": [
           {
            "marker": {
             "colorbar": {
              "outlinewidth": 0,
              "ticks": ""
             }
            },
            "type": "scattercarpet"
           }
          ],
          "scattergeo": [
           {
            "marker": {
             "colorbar": {
              "outlinewidth": 0,
              "ticks": ""
             }
            },
            "type": "scattergeo"
           }
          ],
          "scattergl": [
           {
            "marker": {
             "colorbar": {
              "outlinewidth": 0,
              "ticks": ""
             }
            },
            "type": "scattergl"
           }
          ],
          "scattermapbox": [
           {
            "marker": {
             "colorbar": {
              "outlinewidth": 0,
              "ticks": ""
             }
            },
            "type": "scattermapbox"
           }
          ],
          "scatterpolar": [
           {
            "marker": {
             "colorbar": {
              "outlinewidth": 0,
              "ticks": ""
             }
            },
            "type": "scatterpolar"
           }
          ],
          "scatterpolargl": [
           {
            "marker": {
             "colorbar": {
              "outlinewidth": 0,
              "ticks": ""
             }
            },
            "type": "scatterpolargl"
           }
          ],
          "scatterternary": [
           {
            "marker": {
             "colorbar": {
              "outlinewidth": 0,
              "ticks": ""
             }
            },
            "type": "scatterternary"
           }
          ],
          "surface": [
           {
            "colorbar": {
             "outlinewidth": 0,
             "ticks": ""
            },
            "colorscale": [
             [
              0,
              "#0d0887"
             ],
             [
              0.1111111111111111,
              "#46039f"
             ],
             [
              0.2222222222222222,
              "#7201a8"
             ],
             [
              0.3333333333333333,
              "#9c179e"
             ],
             [
              0.4444444444444444,
              "#bd3786"
             ],
             [
              0.5555555555555556,
              "#d8576b"
             ],
             [
              0.6666666666666666,
              "#ed7953"
             ],
             [
              0.7777777777777778,
              "#fb9f3a"
             ],
             [
              0.8888888888888888,
              "#fdca26"
             ],
             [
              1,
              "#f0f921"
             ]
            ],
            "type": "surface"
           }
          ],
          "table": [
           {
            "cells": {
             "fill": {
              "color": "#EBF0F8"
             },
             "line": {
              "color": "white"
             }
            },
            "header": {
             "fill": {
              "color": "#C8D4E3"
             },
             "line": {
              "color": "white"
             }
            },
            "type": "table"
           }
          ]
         },
         "layout": {
          "annotationdefaults": {
           "arrowcolor": "#2a3f5f",
           "arrowhead": 0,
           "arrowwidth": 1
          },
          "autotypenumbers": "strict",
          "coloraxis": {
           "colorbar": {
            "outlinewidth": 0,
            "ticks": ""
           }
          },
          "colorscale": {
           "diverging": [
            [
             0,
             "#8e0152"
            ],
            [
             0.1,
             "#c51b7d"
            ],
            [
             0.2,
             "#de77ae"
            ],
            [
             0.3,
             "#f1b6da"
            ],
            [
             0.4,
             "#fde0ef"
            ],
            [
             0.5,
             "#f7f7f7"
            ],
            [
             0.6,
             "#e6f5d0"
            ],
            [
             0.7,
             "#b8e186"
            ],
            [
             0.8,
             "#7fbc41"
            ],
            [
             0.9,
             "#4d9221"
            ],
            [
             1,
             "#276419"
            ]
           ],
           "sequential": [
            [
             0,
             "#0d0887"
            ],
            [
             0.1111111111111111,
             "#46039f"
            ],
            [
             0.2222222222222222,
             "#7201a8"
            ],
            [
             0.3333333333333333,
             "#9c179e"
            ],
            [
             0.4444444444444444,
             "#bd3786"
            ],
            [
             0.5555555555555556,
             "#d8576b"
            ],
            [
             0.6666666666666666,
             "#ed7953"
            ],
            [
             0.7777777777777778,
             "#fb9f3a"
            ],
            [
             0.8888888888888888,
             "#fdca26"
            ],
            [
             1,
             "#f0f921"
            ]
           ],
           "sequentialminus": [
            [
             0,
             "#0d0887"
            ],
            [
             0.1111111111111111,
             "#46039f"
            ],
            [
             0.2222222222222222,
             "#7201a8"
            ],
            [
             0.3333333333333333,
             "#9c179e"
            ],
            [
             0.4444444444444444,
             "#bd3786"
            ],
            [
             0.5555555555555556,
             "#d8576b"
            ],
            [
             0.6666666666666666,
             "#ed7953"
            ],
            [
             0.7777777777777778,
             "#fb9f3a"
            ],
            [
             0.8888888888888888,
             "#fdca26"
            ],
            [
             1,
             "#f0f921"
            ]
           ]
          },
          "colorway": [
           "#636efa",
           "#EF553B",
           "#00cc96",
           "#ab63fa",
           "#FFA15A",
           "#19d3f3",
           "#FF6692",
           "#B6E880",
           "#FF97FF",
           "#FECB52"
          ],
          "font": {
           "color": "#2a3f5f"
          },
          "geo": {
           "bgcolor": "white",
           "lakecolor": "white",
           "landcolor": "#E5ECF6",
           "showlakes": true,
           "showland": true,
           "subunitcolor": "white"
          },
          "hoverlabel": {
           "align": "left"
          },
          "hovermode": "closest",
          "mapbox": {
           "style": "light"
          },
          "paper_bgcolor": "white",
          "plot_bgcolor": "#E5ECF6",
          "polar": {
           "angularaxis": {
            "gridcolor": "white",
            "linecolor": "white",
            "ticks": ""
           },
           "bgcolor": "#E5ECF6",
           "radialaxis": {
            "gridcolor": "white",
            "linecolor": "white",
            "ticks": ""
           }
          },
          "scene": {
           "xaxis": {
            "backgroundcolor": "#E5ECF6",
            "gridcolor": "white",
            "gridwidth": 2,
            "linecolor": "white",
            "showbackground": true,
            "ticks": "",
            "zerolinecolor": "white"
           },
           "yaxis": {
            "backgroundcolor": "#E5ECF6",
            "gridcolor": "white",
            "gridwidth": 2,
            "linecolor": "white",
            "showbackground": true,
            "ticks": "",
            "zerolinecolor": "white"
           },
           "zaxis": {
            "backgroundcolor": "#E5ECF6",
            "gridcolor": "white",
            "gridwidth": 2,
            "linecolor": "white",
            "showbackground": true,
            "ticks": "",
            "zerolinecolor": "white"
           }
          },
          "shapedefaults": {
           "line": {
            "color": "#2a3f5f"
           }
          },
          "ternary": {
           "aaxis": {
            "gridcolor": "white",
            "linecolor": "white",
            "ticks": ""
           },
           "baxis": {
            "gridcolor": "white",
            "linecolor": "white",
            "ticks": ""
           },
           "bgcolor": "#E5ECF6",
           "caxis": {
            "gridcolor": "white",
            "linecolor": "white",
            "ticks": ""
           }
          },
          "title": {
           "x": 0.05
          },
          "xaxis": {
           "automargin": true,
           "gridcolor": "white",
           "linecolor": "white",
           "ticks": "",
           "title": {
            "standoff": 15
           },
           "zerolinecolor": "white",
           "zerolinewidth": 2
          },
          "yaxis": {
           "automargin": true,
           "gridcolor": "white",
           "linecolor": "white",
           "ticks": "",
           "title": {
            "standoff": 15
           },
           "zerolinecolor": "white",
           "zerolinewidth": 2
          }
         }
        },
        "title": {
         "text": "Monte Carlo Simulation over 1150 Trades"
        },
        "xaxis": {
         "anchor": "y",
         "domain": [
          0,
          1
         ],
         "title": {
          "text": "Win Rate (%)"
         }
        },
        "yaxis": {
         "anchor": "x",
         "domain": [
          0,
          1
         ],
         "title": {
          "text": "Probability of making $150,000"
         }
        }
       }
      }
     },
     "metadata": {},
     "output_type": "display_data"
    }
   ],
   "source": [
    "px.line(x=prob_ls, y=prob_eli, labels=\n",
    "{\"x\":\"Win Rate (%)\", \"y\" : \"Probability of making $150,000\"},\n",
    "title=\"Monte Carlo Simulation over 1150 Trades\")"
   ]
  },
  {
   "cell_type": "code",
   "execution_count": 27,
   "metadata": {},
   "outputs": [],
   "source": [
    "def single_run_w_hist(start, prob, runs):\n",
    "    account_start = start\n",
    "    account_hist = []\n",
    "    for i in range(0,runs):\n",
    "        win = (0.06*account_start)/3\n",
    "        if account_start <= 0:\n",
    "            return \"ruin\"\n",
    "        elif np.random.binomial(1, prob) == 1:\n",
    "            account_start += win\n",
    "            account_hist.append(account_start)\n",
    "        else:\n",
    "            account_start -= win*3\n",
    "            account_hist.append(account_start)\n",
    "    if account_start >= 150000:\n",
    "        return \"eli\", account_hist\n",
    "    else:\n",
    "        return \"normal\", account_hist"
   ]
  },
  {
   "cell_type": "code",
   "execution_count": 28,
   "metadata": {},
   "outputs": [],
   "source": [
    "outcome, history = single_run_w_hist(10000, 0.8, 1150)"
   ]
  },
  {
   "cell_type": "code",
   "execution_count": 33,
   "metadata": {},
   "outputs": [
    {
     "data": {
      "application/vnd.plotly.v1+json": {
       "config": {
        "plotlyServerURL": "https://plot.ly"
       },
       "data": [
        {
         "hovertemplate": "variable=0<br>Trade No.=%{x}<br>Account Value=%{y}<extra></extra>",
         "legendgroup": "0",
         "line": {
          "color": "#636efa",
          "dash": "solid"
         },
         "marker": {
          "symbol": "circle"
         },
         "mode": "lines",
         "name": "0",
         "showlegend": true,
         "type": "scattergl",
         "x": [
          0,
          1,
          2,
          3,
          4,
          5,
          6,
          7,
          8,
          9,
          10,
          11,
          12,
          13,
          14,
          15,
          16,
          17,
          18,
          19,
          20,
          21,
          22,
          23,
          24,
          25,
          26,
          27,
          28,
          29,
          30,
          31,
          32,
          33,
          34,
          35,
          36,
          37,
          38,
          39,
          40,
          41,
          42,
          43,
          44,
          45,
          46,
          47,
          48,
          49,
          50,
          51,
          52,
          53,
          54,
          55,
          56,
          57,
          58,
          59,
          60,
          61,
          62,
          63,
          64,
          65,
          66,
          67,
          68,
          69,
          70,
          71,
          72,
          73,
          74,
          75,
          76,
          77,
          78,
          79,
          80,
          81,
          82,
          83,
          84,
          85,
          86,
          87,
          88,
          89,
          90,
          91,
          92,
          93,
          94,
          95,
          96,
          97,
          98,
          99,
          100,
          101,
          102,
          103,
          104,
          105,
          106,
          107,
          108,
          109,
          110,
          111,
          112,
          113,
          114,
          115,
          116,
          117,
          118,
          119,
          120,
          121,
          122,
          123,
          124,
          125,
          126,
          127,
          128,
          129,
          130,
          131,
          132,
          133,
          134,
          135,
          136,
          137,
          138,
          139,
          140,
          141,
          142,
          143,
          144,
          145,
          146,
          147,
          148,
          149,
          150,
          151,
          152,
          153,
          154,
          155,
          156,
          157,
          158,
          159,
          160,
          161,
          162,
          163,
          164,
          165,
          166,
          167,
          168,
          169,
          170,
          171,
          172,
          173,
          174,
          175,
          176,
          177,
          178,
          179,
          180,
          181,
          182,
          183,
          184,
          185,
          186,
          187,
          188,
          189,
          190,
          191,
          192,
          193,
          194,
          195,
          196,
          197,
          198,
          199,
          200,
          201,
          202,
          203,
          204,
          205,
          206,
          207,
          208,
          209,
          210,
          211,
          212,
          213,
          214,
          215,
          216,
          217,
          218,
          219,
          220,
          221,
          222,
          223,
          224,
          225,
          226,
          227,
          228,
          229,
          230,
          231,
          232,
          233,
          234,
          235,
          236,
          237,
          238,
          239,
          240,
          241,
          242,
          243,
          244,
          245,
          246,
          247,
          248,
          249,
          250,
          251,
          252,
          253,
          254,
          255,
          256,
          257,
          258,
          259,
          260,
          261,
          262,
          263,
          264,
          265,
          266,
          267,
          268,
          269,
          270,
          271,
          272,
          273,
          274,
          275,
          276,
          277,
          278,
          279,
          280,
          281,
          282,
          283,
          284,
          285,
          286,
          287,
          288,
          289,
          290,
          291,
          292,
          293,
          294,
          295,
          296,
          297,
          298,
          299,
          300,
          301,
          302,
          303,
          304,
          305,
          306,
          307,
          308,
          309,
          310,
          311,
          312,
          313,
          314,
          315,
          316,
          317,
          318,
          319,
          320,
          321,
          322,
          323,
          324,
          325,
          326,
          327,
          328,
          329,
          330,
          331,
          332,
          333,
          334,
          335,
          336,
          337,
          338,
          339,
          340,
          341,
          342,
          343,
          344,
          345,
          346,
          347,
          348,
          349,
          350,
          351,
          352,
          353,
          354,
          355,
          356,
          357,
          358,
          359,
          360,
          361,
          362,
          363,
          364,
          365,
          366,
          367,
          368,
          369,
          370,
          371,
          372,
          373,
          374,
          375,
          376,
          377,
          378,
          379,
          380,
          381,
          382,
          383,
          384,
          385,
          386,
          387,
          388,
          389,
          390,
          391,
          392,
          393,
          394,
          395,
          396,
          397,
          398,
          399,
          400,
          401,
          402,
          403,
          404,
          405,
          406,
          407,
          408,
          409,
          410,
          411,
          412,
          413,
          414,
          415,
          416,
          417,
          418,
          419,
          420,
          421,
          422,
          423,
          424,
          425,
          426,
          427,
          428,
          429,
          430,
          431,
          432,
          433,
          434,
          435,
          436,
          437,
          438,
          439,
          440,
          441,
          442,
          443,
          444,
          445,
          446,
          447,
          448,
          449,
          450,
          451,
          452,
          453,
          454,
          455,
          456,
          457,
          458,
          459,
          460,
          461,
          462,
          463,
          464,
          465,
          466,
          467,
          468,
          469,
          470,
          471,
          472,
          473,
          474,
          475,
          476,
          477,
          478,
          479,
          480,
          481,
          482,
          483,
          484,
          485,
          486,
          487,
          488,
          489,
          490,
          491,
          492,
          493,
          494,
          495,
          496,
          497,
          498,
          499,
          500,
          501,
          502,
          503,
          504,
          505,
          506,
          507,
          508,
          509,
          510,
          511,
          512,
          513,
          514,
          515,
          516,
          517,
          518,
          519,
          520,
          521,
          522,
          523,
          524,
          525,
          526,
          527,
          528,
          529,
          530,
          531,
          532,
          533,
          534,
          535,
          536,
          537,
          538,
          539,
          540,
          541,
          542,
          543,
          544,
          545,
          546,
          547,
          548,
          549,
          550,
          551,
          552,
          553,
          554,
          555,
          556,
          557,
          558,
          559,
          560,
          561,
          562,
          563,
          564,
          565,
          566,
          567,
          568,
          569,
          570,
          571,
          572,
          573,
          574,
          575,
          576,
          577,
          578,
          579,
          580,
          581,
          582,
          583,
          584,
          585,
          586,
          587,
          588,
          589,
          590,
          591,
          592,
          593,
          594,
          595,
          596,
          597,
          598,
          599,
          600,
          601,
          602,
          603,
          604,
          605,
          606,
          607,
          608,
          609,
          610,
          611,
          612,
          613,
          614,
          615,
          616,
          617,
          618,
          619,
          620,
          621,
          622,
          623,
          624,
          625,
          626,
          627,
          628,
          629,
          630,
          631,
          632,
          633,
          634,
          635,
          636,
          637,
          638,
          639,
          640,
          641,
          642,
          643,
          644,
          645,
          646,
          647,
          648,
          649,
          650,
          651,
          652,
          653,
          654,
          655,
          656,
          657,
          658,
          659,
          660,
          661,
          662,
          663,
          664,
          665,
          666,
          667,
          668,
          669,
          670,
          671,
          672,
          673,
          674,
          675,
          676,
          677,
          678,
          679,
          680,
          681,
          682,
          683,
          684,
          685,
          686,
          687,
          688,
          689,
          690,
          691,
          692,
          693,
          694,
          695,
          696,
          697,
          698,
          699,
          700,
          701,
          702,
          703,
          704,
          705,
          706,
          707,
          708,
          709,
          710,
          711,
          712,
          713,
          714,
          715,
          716,
          717,
          718,
          719,
          720,
          721,
          722,
          723,
          724,
          725,
          726,
          727,
          728,
          729,
          730,
          731,
          732,
          733,
          734,
          735,
          736,
          737,
          738,
          739,
          740,
          741,
          742,
          743,
          744,
          745,
          746,
          747,
          748,
          749,
          750,
          751,
          752,
          753,
          754,
          755,
          756,
          757,
          758,
          759,
          760,
          761,
          762,
          763,
          764,
          765,
          766,
          767,
          768,
          769,
          770,
          771,
          772,
          773,
          774,
          775,
          776,
          777,
          778,
          779,
          780,
          781,
          782,
          783,
          784,
          785,
          786,
          787,
          788,
          789,
          790,
          791,
          792,
          793,
          794,
          795,
          796,
          797,
          798,
          799,
          800,
          801,
          802,
          803,
          804,
          805,
          806,
          807,
          808,
          809,
          810,
          811,
          812,
          813,
          814,
          815,
          816,
          817,
          818,
          819,
          820,
          821,
          822,
          823,
          824,
          825,
          826,
          827,
          828,
          829,
          830,
          831,
          832,
          833,
          834,
          835,
          836,
          837,
          838,
          839,
          840,
          841,
          842,
          843,
          844,
          845,
          846,
          847,
          848,
          849,
          850,
          851,
          852,
          853,
          854,
          855,
          856,
          857,
          858,
          859,
          860,
          861,
          862,
          863,
          864,
          865,
          866,
          867,
          868,
          869,
          870,
          871,
          872,
          873,
          874,
          875,
          876,
          877,
          878,
          879,
          880,
          881,
          882,
          883,
          884,
          885,
          886,
          887,
          888,
          889,
          890,
          891,
          892,
          893,
          894,
          895,
          896,
          897,
          898,
          899,
          900,
          901,
          902,
          903,
          904,
          905,
          906,
          907,
          908,
          909,
          910,
          911,
          912,
          913,
          914,
          915,
          916,
          917,
          918,
          919,
          920,
          921,
          922,
          923,
          924,
          925,
          926,
          927,
          928,
          929,
          930,
          931,
          932,
          933,
          934,
          935,
          936,
          937,
          938,
          939,
          940,
          941,
          942,
          943,
          944,
          945,
          946,
          947,
          948,
          949,
          950,
          951,
          952,
          953,
          954,
          955,
          956,
          957,
          958,
          959,
          960,
          961,
          962,
          963,
          964,
          965,
          966,
          967,
          968,
          969,
          970,
          971,
          972,
          973,
          974,
          975,
          976,
          977,
          978,
          979,
          980,
          981,
          982,
          983,
          984,
          985,
          986,
          987,
          988,
          989,
          990,
          991,
          992,
          993,
          994,
          995,
          996,
          997,
          998,
          999,
          1000,
          1001,
          1002,
          1003,
          1004,
          1005,
          1006,
          1007,
          1008,
          1009,
          1010,
          1011,
          1012,
          1013,
          1014,
          1015,
          1016,
          1017,
          1018,
          1019,
          1020,
          1021,
          1022,
          1023,
          1024,
          1025,
          1026,
          1027,
          1028,
          1029,
          1030,
          1031,
          1032,
          1033,
          1034,
          1035,
          1036,
          1037,
          1038,
          1039,
          1040,
          1041,
          1042,
          1043,
          1044,
          1045,
          1046,
          1047,
          1048,
          1049,
          1050,
          1051,
          1052,
          1053,
          1054,
          1055,
          1056,
          1057,
          1058,
          1059,
          1060,
          1061,
          1062,
          1063,
          1064,
          1065,
          1066,
          1067,
          1068,
          1069,
          1070,
          1071,
          1072,
          1073,
          1074,
          1075,
          1076,
          1077,
          1078,
          1079,
          1080,
          1081,
          1082,
          1083,
          1084,
          1085,
          1086,
          1087,
          1088,
          1089,
          1090,
          1091,
          1092,
          1093,
          1094,
          1095,
          1096,
          1097,
          1098,
          1099,
          1100,
          1101,
          1102,
          1103,
          1104,
          1105,
          1106,
          1107,
          1108,
          1109,
          1110,
          1111,
          1112,
          1113,
          1114,
          1115,
          1116,
          1117,
          1118,
          1119,
          1120,
          1121,
          1122,
          1123,
          1124,
          1125,
          1126,
          1127,
          1128,
          1129,
          1130,
          1131,
          1132,
          1133,
          1134,
          1135,
          1136,
          1137,
          1138,
          1139,
          1140,
          1141,
          1142,
          1143,
          1144,
          1145,
          1146,
          1147,
          1148,
          1149
         ],
         "xaxis": "x",
         "y": [
          10200,
          10404,
          10612.08,
          9975.3552,
          9376.833888,
          9564.370565759998,
          8990.508331814399,
          9170.318498450686,
          9353.7248684197,
          9540.799365788094,
          9731.615353103856,
          9926.247660165933,
          9330.672800555976,
          9517.286256567095,
          9707.631981698436,
          9901.784621332405,
          10099.820313759054,
          10301.816720034234,
          10507.85305443492,
          10718.010115523619,
          10932.370317834091,
          10276.428098764045,
          9659.842412838203,
          9853.039261094968,
          10050.100046316868,
          10251.102047243205,
          10456.12408818807,
          9828.756642896786,
          10025.331775754721,
          10225.838411269815,
          10430.35517949521,
          10638.962283085115,
          10851.741528746817,
          11068.776359321753,
          11290.151886508189,
          10612.742773317697,
          10824.99762878405,
          11041.497581359732,
          11262.327532986927,
          11487.574083646665,
          10798.319638627865,
          11014.286031400423,
          11234.57175202843,
          11459.263187068998,
          11688.448450810378,
          11922.217419826586,
          11206.884374636991,
          11431.02206212973,
          10745.160738401946,
          10960.063953169985,
          11179.265232233385,
          11402.850536878053,
          11630.907547615614,
          11863.525698567926,
          12100.796212539284,
          12342.81213679007,
          12589.66837952587,
          12841.461747116387,
          13098.290982058716,
          13360.25680169989,
          13627.461937733888,
          13900.011176488566,
          14178.011400018337,
          14461.571628018703,
          14750.803060579077,
          15045.819121790659,
          15346.735504226472,
          15653.670214311001,
          15966.743618597222,
          16286.078490969167,
          16611.80006078855,
          16944.03606200432,
          15927.393898284063,
          16245.941776249743,
          15271.18526967476,
          14354.914153494274,
          14642.012436564159,
          14934.852685295442,
          15233.549739001352,
          15538.220733781378,
          14605.927489754495,
          14898.046039549585,
          15196.006960340577,
          15499.927099547389,
          15809.925641538337,
          16126.124154369103,
          16448.646637456484,
          16777.619570205614,
          17113.171961609725,
          16086.381643913142,
          16408.109276791405,
          16736.271462327233,
          17070.996891573777,
          17412.416829405254,
          17760.66516599336,
          18115.878469313226,
          18478.19603869949,
          18847.759959473482,
          19224.71515866295,
          19609.20946183621,
          18432.656894126038,
          18801.310032008558,
          19177.33623264873,
          18026.696058689806,
          18387.2299798636,
          18754.97457946087,
          17629.67610469322,
          17982.26962678708,
          18341.915019322823,
          18708.753319709278,
          19082.928386103464,
          19464.586953825532,
          19853.878692902043,
          20250.956266760084,
          20655.975392095286,
          21069.09489993719,
          21490.476797935935,
          21920.286333894655,
          22358.69206057255,
          22805.865901784,
          21437.513947676962,
          21866.2642266305,
          22303.58951116311,
          20965.374140493324,
          21384.68162330319,
          20101.600725905,
          20503.632740423098,
          20913.70539523156,
          19658.883071517666,
          18479.350087226605,
          17370.58908199301,
          16328.35373707343,
          16654.9208118149,
          16988.0192280512,
          17327.779612612223,
          17674.335204864467,
          18027.821908961756,
          18388.37834714099,
          18756.145914083812,
          19131.268832365487,
          19513.894209012797,
          19904.172093193054,
          20302.255535056916,
          20708.300645758056,
          21122.466658673216,
          19855.118659152824,
          20252.22103233588,
          20657.2654529826,
          21070.41076204225,
          21491.818977283096,
          21921.655356828756,
          22360.08846396533,
          22807.290233244636,
          23263.436037909527,
          23728.704758667718,
          24203.27885384107,
          24687.344430917892,
          25181.091319536252,
          25684.713145926977,
          26198.407408845516,
          26722.375557022428,
          27256.823068162877,
          27801.959529526135,
          28357.99872011666,
          28925.158694518992,
          29503.66186840937,
          30093.735105777556,
          30695.609807893106,
          31309.522004050967,
          31935.712444131987,
          32574.426693014626,
          33225.91522687492,
          33890.43353141242,
          34568.24220204067,
          35259.60704608148,
          33144.03062331659,
          33806.91123578292,
          34483.04946049858,
          32414.066492868664,
          30469.222503296543,
          28641.06915309875,
          29213.890536160725,
          29798.16834688394,
          30394.131713821618,
          28570.483810992322,
          29141.893487212168,
          29724.73135695641,
          30319.225984095538,
          30925.610503777447,
          31544.122713852998,
          32175.005168130057,
          30244.504858042255,
          30849.3949552031,
          31466.38285430716,
          32095.710511393303,
          32737.62472162117,
          33392.377216053595,
          34060.224760374665,
          34741.42925558216,
          32656.94350024723,
          30697.5268902324,
          28855.675276818456,
          29432.788782354826,
          30021.444558001924,
          30621.87344916196,
          28784.561042212245,
          29360.25226305649,
          29947.45730831762,
          30546.40645448397,
          28713.622067214932,
          29287.89450855923,
          27530.620838045677,
          28081.23325480659,
          28642.857919902723,
          29215.71507830078,
          29800.029379866795,
          30396.029967464132,
          31003.950566813415,
          31624.029578149682,
          32256.510169712677,
          32901.64037310693,
          33559.673180569065,
          34230.866644180445,
          34915.483977064054,
          32820.55493844021,
          33476.966037209015,
          31468.348074976475,
          29580.247190477887,
          30171.852134287445,
          30775.289176973194,
          31390.79496051266,
          32018.610859722914,
          32658.98307691737,
          33312.16273845572,
          31313.432974148378,
          31939.701633631346,
          32578.495666303974,
          33230.065579630056,
          33894.66689122266,
          34572.560229047114,
          35264.01143362805,
          35969.29166230062,
          36688.67749554663,
          37422.451045457565,
          35177.103982730114,
          33066.47774376631,
          33727.80729864163,
          34402.363444614464,
          35090.41071350675,
          35792.21892777689,
          36508.06330633243,
          37238.224572459076,
          35003.931098111534,
          32903.69523222484,
          33561.769136869334,
          34233.00451960672,
          34917.66460999886,
          35616.01790219884,
          33479.05682806691,
          34148.63796462825,
          34831.610723920814,
          35528.24293839923,
          36238.80779716721,
          36963.58395311055,
          37702.85563217277,
          38456.912744816225,
          39226.05099971255,
          36872.48793972979,
          37609.93769852439,
          38362.13645249487,
          36060.408265345184,
          36781.61643065209,
          37517.24875926513,
          38267.593734450435,
          35971.53811038341,
          36690.968872591075,
          34489.51074023561,
          35179.30095504032,
          35882.886974141125,
          36600.544713623945,
          34404.51203080651,
          35092.60227142264,
          35794.45431685109,
          36510.34340318812,
          34319.72279899683,
          32260.53943105702,
          32905.75021967816,
          30931.405206497468,
          29075.52089410762,
          29657.031311989773,
          30250.171938229567,
          28435.161621935793,
          26729.051924619645,
          27263.63296311204,
          27808.90562237428,
          28365.08373482177,
          28932.385409518203,
          29511.033117708568,
          30101.25378006274,
          30703.278855663993,
          28861.082124324155,
          29438.303766810637,
          30027.06984214685,
          28225.44565161804,
          28789.9545646504,
          29365.75365594341,
          29953.068729062277,
          28155.88460531854,
          28719.00229742491,
          29293.38234337341,
          27535.779402771004,
          28086.494990826424,
          26401.30529137684,
          26929.331397204376,
          25313.571513372113,
          25819.842943639556,
          24270.652367021183,
          24756.065414361605,
          25251.186722648836,
          25756.210457101814,
          26271.33466624385,
          26796.761359568725,
          27332.6965867601,
          27879.350518495303,
          26206.589487385583,
          26730.721277133296,
          25126.878000505298,
          25629.415560515405,
          26142.003871725712,
          26664.843949160226,
          25064.95331221061,
          25566.252378454825,
          26077.57742602392,
          26599.128974544397,
          27131.111554035284,
          27673.73378511599,
          28227.20846081831,
          28791.752630034676,
          29367.58768263537,
          27605.53242167725,
          28157.643070110793,
          28720.79593151301,
          29295.21185014327,
          29881.116087146136,
          30478.738408889058,
          31088.31317706684,
          31710.079440608177,
          29807.474674171688,
          30403.62416765512,
          31011.696651008224,
          31631.93058402839,
          32264.569195708955,
          32909.860579623135,
          33568.0577912156,
          34239.418947039914,
          34924.207325980715,
          35622.69147250033,
          36335.14530195034,
          37061.848207989344,
          34838.13731550999,
          35534.90006182018,
          33402.806058110975,
          31398.637694624318,
          32026.610448516803,
          32667.14265748714,
          30707.114098037913,
          31321.25637999867,
          29441.980997198752,
          27675.462137366827,
          28228.971380114162,
          28793.550807716445,
          29369.421823870773,
          29956.81026034819,
          30555.946465555153,
          31167.065394866255,
          31790.40670276358,
          32426.21483681885,
          33074.739133555224,
          33736.23391622633,
          31712.05988125275,
          32346.301078877805,
          32993.22710045536,
          33653.09164246447,
          31633.9061439166,
          29735.871775281605,
          27951.71946876471,
          28510.753858140004,
          26800.108626651603,
          27336.110799184637,
          27882.83301516833,
          28440.489675471697,
          29009.29946898113,
          29589.485458360752,
          30181.27516752797,
          30784.900670878527,
          31400.5986842961,
          32028.610657982023,
          32669.182871141664,
          30709.031898873163,
          28866.489984940774,
          29443.81978463959,
          30032.69618033238,
          28230.734409512435,
          28795.349097702685,
          29371.256079656738,
          29958.681201249874,
          30557.854825274873,
          31169.01192178037,
          31792.392160215975,
          32428.240003420295,
          33076.8048034887,
          33738.340899558476,
          34413.10771754965,
          32348.321254496666,
          32995.2876795866,
          33655.193433178334,
          34328.2973018419,
          35014.86324787874,
          35715.160512836315,
          36429.46372309304,
          37158.0529975549,
          34928.56981770161,
          35627.14121405564,
          33489.512741212304,
          34159.30299603655,
          34842.48905595728,
          32751.939712599844,
          33406.97850685184,
          31402.559796440728,
          32030.610992369544,
          30108.774332827372,
          30710.949819483918,
          31325.168815873596,
          31951.67219219107,
          30034.571860659606,
          30635.263297872796,
          31247.96856383025,
          31872.927935106854,
          32510.38649380899,
          33160.59422368517,
          33823.806108158875,
          34500.28223032205,
          32430.26529650273,
          33078.870602432784,
          33740.44801448144,
          34415.256974771066,
          35103.56211426649,
          32997.3483874105,
          33657.29535515871,
          34330.441262261884,
          35017.05008750712,
          35717.39108925727,
          36431.73891104241,
          34245.834576379864,
          34930.751267907464,
          35629.366293265615,
          36341.95361913093,
          37068.79269151355,
          37810.16854534382,
          38566.3719162507,
          36252.38960127565,
          36977.43739330117,
          37716.98614116719,
          38471.32586399053,
          39240.752381270344,
          36886.307238394125,
          37624.03338316201,
          38376.51405082525,
          39144.04433184176,
          39926.925218478595,
          40725.463722848166,
          41539.97299730513,
          42370.77245725123,
          39828.52610981616,
          40625.09663201248,
          41437.598564652726,
          42266.35053594578,
          43111.677546664694,
          43973.911097597986,
          44853.38931954995,
          45750.45710594095,
          46665.46624805977,
          47598.77557302096,
          48550.75108448138,
          45637.7060194125,
          46550.46013980075,
          43757.432531412705,
          44632.58118204096,
          45525.23280568178,
          46435.73746179541,
          47364.45221103132,
          48311.741255251945,
          49277.97608035698,
          50263.53560196412,
          47247.72346584627,
          48192.67793516319,
          45301.1172590534,
          46207.139604234464,
          47131.282396319155,
          48073.90804424554,
          45189.47356159081,
          46093.26303282262,
          43327.667250853265,
          44194.22059587033,
          45078.10500778774,
          45979.66710794349,
          46899.26045010236,
          47837.24565910441,
          48793.9905722865,
          49769.87038373223,
          50765.26779140688,
          51780.573147235016,
          52816.18461017972,
          53872.508302383314,
          54949.95846843098,
          56048.9576377996,
          57169.93679055559,
          53739.74058312226,
          50515.356148134924,
          51525.66327109763,
          52556.17653651958,
          53607.30006724998,
          54679.446068594974,
          55773.03498996687,
          56888.49568976621,
          58026.26560356154,
          59186.790915632766,
          60370.52673394542,
          61577.93726862433,
          62809.49601399682,
          64065.68593427676,
          65346.999652962295,
          66653.93964602154,
          67987.01843894197,
          69346.75880772082,
          70733.69398387523,
          72148.36786355273,
          73591.33522082379,
          75063.16192524027,
          76564.42516374508,
          71970.55965392037,
          73409.97084699878,
          74878.17026393875,
          76375.73366921753,
          77903.24834260189,
          79461.31330945392,
          81050.53957564301,
          82671.55036715587,
          77711.25734512652,
          79265.48249202906,
          80850.79214186964,
          82467.80798470703,
          84117.16414440118,
          85799.5074272892,
          87515.49757583498,
          89265.80752735167,
          91051.12367789871,
          85588.05625722479,
          80452.7728817913,
          82061.82833942713,
          83703.06490621567,
          85377.12620433999,
          87084.6687284268,
          88826.36210299534,
          90602.88934505524,
          92414.94713195635,
          94263.24607459547,
          96148.51099608738,
          98071.48121600912,
          100032.9108403293,
          102033.56905713589,
          104074.2404382786,
          106155.72524704417,
          108278.83975198506,
          110444.41654702475,
          112653.30487796525,
          114906.37097552455,
          117204.49839503504,
          119548.58836293574,
          121939.56013019446,
          114623.18652238279,
          116915.65025283044,
          119253.96325788705,
          112098.72546241383,
          105372.801934669,
          107480.25797336237,
          109629.86313282962,
          111822.46039548621,
          114058.90960339594,
          116340.08779546386,
          109359.68252773602,
          111546.87617829074,
          113777.81370185655,
          116053.36997589367,
          118374.43737541155,
          111271.97113288686,
          113497.4105555446,
          115767.3587666555,
          118082.7059419886,
          110997.74358546929,
          113217.69845717867,
          115482.05242632225,
          117791.6934748487,
          120147.52734434567,
          122550.47789123259,
          125001.48744905724,
          127501.51719803839,
          130051.54754199916,
          132652.57849283915,
          135305.63006269594,
          138011.74266394987,
          140771.97751722886,
          143587.41706757343,
          134972.17204351904,
          126873.84172090789,
          129411.31855532606,
          131999.54492643257,
          134639.53582496123,
          137332.32654146047,
          140078.97307228966,
          142880.55253373546,
          145738.16358441018,
          148652.92685609838,
          151625.98539322036,
          154658.50510108477,
          157751.67520310645,
          160906.70870716858,
          151252.30618473847,
          154277.35230843324,
          157362.89935460192,
          160510.15734169396,
          163720.36048852783,
          153897.13885921615,
          156975.0816364005,
          160114.5832691285,
          163316.87493451106,
          166583.2124332013,
          169914.8766818653,
          173313.17421550263,
          162914.38376257248,
          166172.67143782394,
          169496.12486658042,
          172886.04736391202,
          162512.8845220773,
          165763.14221251884,
          155817.35367976772,
          158933.70075336308,
          149397.6787081613,
          152385.6322823245,
          155433.34492797102,
          158542.01182653045,
          161712.85206306106,
          164947.10910432227,
          168246.0512864087,
          171610.97231213687,
          161314.31397340866,
          164540.60025287684,
          167831.41225793437,
          171188.04050309304,
          174611.8013131549,
          178104.037339418,
          181666.11808620635,
          185299.44044793048,
          189005.4292568891,
          192785.53784202688,
          196641.24859886742,
          200574.07357084478,
          204585.55504226167,
          192310.42173972598,
          196156.63017452048,
          200079.7627780109,
          188074.97701133025,
          176790.47839065045,
          180326.28795846345,
          169506.71068095564,
          172896.84489457475,
          176354.78179246624,
          179881.87742831555,
          183479.51497688185,
          187149.1052764195,
          190892.08738194787,
          194709.92912958682,
          198604.12771217857,
          186687.88004944785,
          190421.6376504368,
          178996.3393914106,
          168256.55902792598,
          171621.6902084845,
          161324.38879597542,
          164550.87657189494,
          167841.89410333283,
          171198.7319853995,
          174622.7066251075,
          178115.16075760964,
          167428.25111215306,
          170776.81613439613,
          174192.35245708405,
          177676.19950622573,
          167015.6275358522,
          170355.94008656923,
          160134.58368137508,
          150526.50866049257,
          153537.03883370242,
          144324.81650368028,
          147211.31283375388,
          138378.63406372865,
          141146.20674500323,
          132677.43434030304,
          124716.78827988486,
          117233.78098309177,
          119578.4566027536,
          121970.02573480867,
          124409.42624950485,
          126897.61477449494,
          129435.56706998484,
          132024.27841138453,
          134664.7639796122,
          137358.05925920446,
          140105.22044438854,
          142907.3248532763,
          145765.47135034183,
          148680.78077734867,
          151654.39639289564,
          154687.48432075355,
          157781.23400716862,
          160936.858687312,
          164155.59586105825,
          167438.7077782794,
          170787.481933845,
          174203.2315725219,
          177687.29620397234,
          181241.04212805178,
          184865.86297061283,
          188563.1802300251,
          177249.38941622357,
          180794.37720454804,
          184410.264748639,
          173345.64886372065,
          176812.56184099507,
          180348.81307781496,
          183955.78933937126,
          172918.441979009,
          176376.81081858918,
          179904.34703496096,
          183502.43397566018,
          187172.4826551734,
          190915.93230827688,
          194734.25095444242,
          198628.93597353128,
          202601.5146930019,
          190445.4238114218,
          194254.33228765024,
          182599.07235039122,
          186251.05379739904,
          189976.074873347,
          193775.59637081396,
          197651.10829823025,
          201604.13046419487,
          205636.21307347875,
          209748.93733494834,
          197164.00109485144,
          201107.28111674846,
          189040.84424974356,
          192821.66113473845,
          196678.0943574332,
          200611.65624458186,
          204623.8893694735,
          192346.4560073051,
          196193.3851274512,
          200117.25283000025,
          204119.59788660024,
          208201.98984433225,
          195709.8704536723,
          199624.06786274575,
          203616.54922000066,
          191399.55626680062,
          195227.54739213662,
          199132.09833997936,
          203114.74030677896,
          207177.03511291454,
          211320.57581517284,
          215546.9873314763,
          219857.92707810583,
          224255.08561966795,
          228740.18733206132,
          233314.99107870256,
          237981.2909002766,
          242740.91671828213,
          228176.4617151852,
          232739.9909494889,
          237394.7907684787,
          242142.6865838483,
          246985.54031552526,
          251925.25112183575,
          256963.75614427245,
          262103.0312671579,
          267345.09189250105,
          251304.386378951,
          256330.47410653002,
          240950.64566013822,
          245769.65857334097,
          250685.0517448078,
          235643.94864011934,
          221505.31172171218,
          225935.4179561464,
          212379.29287877763,
          216626.8787363532,
          220959.41631108025,
          225378.60463730185,
          229886.17673004788,
          234483.90026464884,
          239173.57826994182,
          243957.04983534064,
          248836.19083204746,
          253812.9146486884,
          258889.17294166217,
          243355.82256516244,
          248222.93901646568,
          253187.397796795,
          258251.1457527309,
          263416.16866778553,
          268684.49204114126,
          252563.42251867277,
          257614.69096904623,
          262766.9847884272,
          247000.96570112155,
          251940.985015144,
          256979.80471544687,
          262119.4008097558,
          267361.78882595093,
          272709.02460246993,
          278163.2050945193,
          283726.4691964097,
          289400.99858033785,
          272036.9386655176,
          277477.67743882793,
          283027.2309876045,
          266045.5971283482,
          250082.8613006473,
          235077.88962260846,
          239779.44741506063,
          244575.03636336184,
          249466.53709062908,
          254455.86783244167,
          239188.51576249517,
          224837.20481674545,
          229333.94891308036,
          215573.91197829554,
          219885.39021786145,
          224283.09802221868,
          210826.11214088555,
          215042.63438370326,
          219343.48707137734,
          223730.35681280488,
          228204.96394906097,
          232769.06322804219,
          237424.44449260304,
          242172.9333824551,
          247016.39205010422,
          232195.40852709796,
          236839.3166976399,
          241576.1030315927,
          227081.53684969715,
          213456.6446387153,
          200649.2459603924,
          204662.23087960025,
          192382.49702682422,
          180839.54720521477,
          169989.17437290188,
          173388.95786035992,
          176856.73701756712,
          180393.87175791847,
          169570.23945244338,
          159396.02508529677,
          149832.26358017896,
          152828.90885178253,
          155885.48702881817,
          146532.35780708908,
          149463.00496323087,
          152452.26506249548,
          155501.3103637454,
          158611.3365710203,
          161783.5633024407,
          165019.23456848954,
          168319.61925985932,
          171686.0116450565,
          161384.8509463531,
          151701.75988957193,
          142599.6542961976,
          145451.64738212156,
          136724.54853919428,
          139459.03950997817,
          142248.22030017775,
          145093.18470618132,
          136387.59362381045,
          139115.34549628667,
          141897.6524062124,
          144735.60545433665,
          147630.3175634234,
          150582.92391469187,
          153594.5823929857,
          144378.90744940657,
          147266.4855983947,
          150211.8153103626,
          153216.05161656986,
          156280.37264890125,
          159405.98010187928,
          162594.09970391687,
          165845.98169799522,
          169162.90133195513,
          172546.15935859425,
          162193.3897970786,
          165437.25759302016,
          168746.00274488056,
          158621.24258018774,
          149103.96802537647,
          152086.04738588398,
          155127.76833360165,
          158230.32370027367,
          161394.93017427914,
          164622.82877776472,
          167915.28535332,
          171273.59106038642,
          174699.06288159415,
          178193.04413922603,
          181756.90502201056,
          170851.49072068994,
          174268.52053510374,
          177753.89094580582,
          181308.96876472194,
          184935.1481400164,
          188633.85110281673,
          192406.52812487306,
          196254.6586873705,
          184479.3791661283,
          188168.96674945086,
          191932.34608443987,
          195770.99300612867,
          199686.41286625125,
          203680.14112357626,
          207753.7439460478,
          211908.81882496874,
          216146.99520146812,
          220469.93510549748,
          224879.33380760744,
          229376.9204837596,
          233964.45889343478,
          238643.74807130347,
          243416.62303272955,
          248284.95549338413,
          233387.8581637811,
          238055.6153270567,
          242816.72763359782,
          247673.0621862698,
          252626.52342999517,
          257679.05389859507,
          262832.63497656694,
          268089.2876760983,
          273451.07342962024,
          278920.09489821264,
          284498.4967961769,
          290188.4667321004,
          295992.2360667424,
          301912.08078807726,
          307950.3224038388,
          289473.30305960844,
          272104.9048760319,
          277547.00297355256,
          283097.9430330236,
          288759.9018936841,
          294535.0999315578,
          300425.80193018896,
          306434.31796879275,
          312563.0043281686,
          293809.22406847845,
          276180.67062436976,
          281704.28403685713,
          287338.3697175943,
          293085.1371119462,
          298946.8398541851,
          304925.7766512688,
          311024.2921842942,
          317244.77802798006,
          323589.67358853965,
          330061.4670603104,
          336662.6964015166,
          343395.95032954693,
          350263.8693361379,
          357269.14672286063,
          364414.52965731785,
          371702.8202504642,
          379136.8766554735,
          386719.614188583,
          394454.00647235464,
          402343.08660180174,
          410389.9483338378,
          418597.74730051454,
          426969.70224652486,
          435509.0962914554,
          444219.2782172845,
          453103.66378163017,
          425917.4439547324,
          434435.792833827,
          443124.50869050354,
          451986.9988643136,
          461026.73884159984,
          470247.2736184318,
          479652.21909080044,
          489245.26347261644,
          499030.16874206875,
          469088.35861754464,
          478470.12578989554,
          488039.5283056935,
          497800.31887180737,
          507756.3252492435,
          517911.4517542284,
          528269.6807893129,
          496573.49994195416,
          466779.0899454369,
          476114.6717443457,
          485636.9651792326,
          495349.70448281727,
          505256.6985724736,
          474941.2966581252,
          484440.1225912877,
          494128.9250431135,
          504011.50354397576,
          514091.7336148553,
          524373.5682871523,
          534861.0396528954,
          502769.3772737217,
          512824.76481919613,
          523081.26011558005,
          533542.8853178916,
          501530.3121988181,
          511560.9184427944,
          480867.26333622675,
          490484.6086029513,
          500294.3007750103,
          510300.18679051055,
          520506.1905263208,
          530916.3143368472,
          499061.3354766363,
          509042.56218616903,
          519223.4134298924,
          529607.8816984902,
          540200.03933246,
          551004.0401191092,
          562024.1209214914,
          528302.6736662019,
          538868.7271395259,
          549646.1016823164,
          516667.3355813774,
          527000.6822930049,
          537540.6959388651,
          548291.5098576423,
          559257.3400547951,
          570442.4868558911,
          581851.3365930088,
          593488.363324869,
          557879.0615253769,
          569036.6427558844,
          580417.3756110021,
          592025.7231232221,
          556504.1797358288,
          567634.2633305454,
          578986.9485971563,
          544247.731681327,
          555132.6863149535,
          566235.3400412526,
          577560.0468420776,
          589111.2477789192,
          600893.4727344975,
          612911.3421891874,
          576136.6616578362,
          587659.3948909929,
          599412.5827888128,
          611400.8344445891,
          623628.8511334809,
          636101.4281561505,
          648823.4567192735,
          661799.9258536589,
          675035.9243707322,
          634533.7689084882,
          647224.444286658,
          608390.9776294585,
          620558.7971820477,
          632969.9731256887,
          645629.3725882025,
          658541.9600399665,
          671712.7992407659,
          685147.0552255812,
          698849.9963300928,
          712826.9962566947,
          727083.5361818286,
          741625.2069054651,
          756457.7110435744,
          771586.8652644459,
          725291.6533485792,
          739797.4864155508,
          754593.4361438619,
          769685.3048667391,
          785079.0109640738,
          800780.5911833553,
          752733.755712354,
          767788.4308266011,
          783144.1994431331,
          798807.0834319957,
          814783.2251006357,
          831078.8896026483,
          847700.4673947013,
          864654.4767425953,
          881947.5662774473,
          899586.5176029962,
          917578.2479550561,
          935929.8129141573,
          954648.4091724404,
          973741.3773558892,
          993216.204903007,
          1013080.5290010672,
          1033342.1395810886,
          1054008.9823727102,
          1075089.1620201645,
          1096590.9452605678,
          1118522.764165779,
          1140893.2194490947,
          1163711.0838380766,
          1186985.305514838,
          1210725.0116251349,
          1234939.5118576374,
          1160843.1411461793,
          1184060.0039691029,
          1207741.204048485,
          1135276.731805576,
          1157982.2664416875,
          1088503.3304551863,
          1023193.1306278751,
          1043656.9932404326,
          1064530.1331052412,
          1000658.3251189267,
          1020671.4916213052,
          959431.202124027,
          978619.8261665074,
          998192.2226898376,
          1018156.0671436343,
          1038519.188486507,
          1059289.5722562373,
          1080475.363701362,
          1102084.8709753891,
          1124126.568394897
         ],
         "yaxis": "y"
        }
       ],
       "layout": {
        "legend": {
         "title": {
          "text": "variable"
         },
         "tracegroupgap": 0
        },
        "margin": {
         "t": 60
        },
        "showlegend": false,
        "template": {
         "data": {
          "bar": [
           {
            "error_x": {
             "color": "#2a3f5f"
            },
            "error_y": {
             "color": "#2a3f5f"
            },
            "marker": {
             "line": {
              "color": "#E5ECF6",
              "width": 0.5
             },
             "pattern": {
              "fillmode": "overlay",
              "size": 10,
              "solidity": 0.2
             }
            },
            "type": "bar"
           }
          ],
          "barpolar": [
           {
            "marker": {
             "line": {
              "color": "#E5ECF6",
              "width": 0.5
             },
             "pattern": {
              "fillmode": "overlay",
              "size": 10,
              "solidity": 0.2
             }
            },
            "type": "barpolar"
           }
          ],
          "carpet": [
           {
            "aaxis": {
             "endlinecolor": "#2a3f5f",
             "gridcolor": "white",
             "linecolor": "white",
             "minorgridcolor": "white",
             "startlinecolor": "#2a3f5f"
            },
            "baxis": {
             "endlinecolor": "#2a3f5f",
             "gridcolor": "white",
             "linecolor": "white",
             "minorgridcolor": "white",
             "startlinecolor": "#2a3f5f"
            },
            "type": "carpet"
           }
          ],
          "choropleth": [
           {
            "colorbar": {
             "outlinewidth": 0,
             "ticks": ""
            },
            "type": "choropleth"
           }
          ],
          "contour": [
           {
            "colorbar": {
             "outlinewidth": 0,
             "ticks": ""
            },
            "colorscale": [
             [
              0,
              "#0d0887"
             ],
             [
              0.1111111111111111,
              "#46039f"
             ],
             [
              0.2222222222222222,
              "#7201a8"
             ],
             [
              0.3333333333333333,
              "#9c179e"
             ],
             [
              0.4444444444444444,
              "#bd3786"
             ],
             [
              0.5555555555555556,
              "#d8576b"
             ],
             [
              0.6666666666666666,
              "#ed7953"
             ],
             [
              0.7777777777777778,
              "#fb9f3a"
             ],
             [
              0.8888888888888888,
              "#fdca26"
             ],
             [
              1,
              "#f0f921"
             ]
            ],
            "type": "contour"
           }
          ],
          "contourcarpet": [
           {
            "colorbar": {
             "outlinewidth": 0,
             "ticks": ""
            },
            "type": "contourcarpet"
           }
          ],
          "heatmap": [
           {
            "colorbar": {
             "outlinewidth": 0,
             "ticks": ""
            },
            "colorscale": [
             [
              0,
              "#0d0887"
             ],
             [
              0.1111111111111111,
              "#46039f"
             ],
             [
              0.2222222222222222,
              "#7201a8"
             ],
             [
              0.3333333333333333,
              "#9c179e"
             ],
             [
              0.4444444444444444,
              "#bd3786"
             ],
             [
              0.5555555555555556,
              "#d8576b"
             ],
             [
              0.6666666666666666,
              "#ed7953"
             ],
             [
              0.7777777777777778,
              "#fb9f3a"
             ],
             [
              0.8888888888888888,
              "#fdca26"
             ],
             [
              1,
              "#f0f921"
             ]
            ],
            "type": "heatmap"
           }
          ],
          "heatmapgl": [
           {
            "colorbar": {
             "outlinewidth": 0,
             "ticks": ""
            },
            "colorscale": [
             [
              0,
              "#0d0887"
             ],
             [
              0.1111111111111111,
              "#46039f"
             ],
             [
              0.2222222222222222,
              "#7201a8"
             ],
             [
              0.3333333333333333,
              "#9c179e"
             ],
             [
              0.4444444444444444,
              "#bd3786"
             ],
             [
              0.5555555555555556,
              "#d8576b"
             ],
             [
              0.6666666666666666,
              "#ed7953"
             ],
             [
              0.7777777777777778,
              "#fb9f3a"
             ],
             [
              0.8888888888888888,
              "#fdca26"
             ],
             [
              1,
              "#f0f921"
             ]
            ],
            "type": "heatmapgl"
           }
          ],
          "histogram": [
           {
            "marker": {
             "pattern": {
              "fillmode": "overlay",
              "size": 10,
              "solidity": 0.2
             }
            },
            "type": "histogram"
           }
          ],
          "histogram2d": [
           {
            "colorbar": {
             "outlinewidth": 0,
             "ticks": ""
            },
            "colorscale": [
             [
              0,
              "#0d0887"
             ],
             [
              0.1111111111111111,
              "#46039f"
             ],
             [
              0.2222222222222222,
              "#7201a8"
             ],
             [
              0.3333333333333333,
              "#9c179e"
             ],
             [
              0.4444444444444444,
              "#bd3786"
             ],
             [
              0.5555555555555556,
              "#d8576b"
             ],
             [
              0.6666666666666666,
              "#ed7953"
             ],
             [
              0.7777777777777778,
              "#fb9f3a"
             ],
             [
              0.8888888888888888,
              "#fdca26"
             ],
             [
              1,
              "#f0f921"
             ]
            ],
            "type": "histogram2d"
           }
          ],
          "histogram2dcontour": [
           {
            "colorbar": {
             "outlinewidth": 0,
             "ticks": ""
            },
            "colorscale": [
             [
              0,
              "#0d0887"
             ],
             [
              0.1111111111111111,
              "#46039f"
             ],
             [
              0.2222222222222222,
              "#7201a8"
             ],
             [
              0.3333333333333333,
              "#9c179e"
             ],
             [
              0.4444444444444444,
              "#bd3786"
             ],
             [
              0.5555555555555556,
              "#d8576b"
             ],
             [
              0.6666666666666666,
              "#ed7953"
             ],
             [
              0.7777777777777778,
              "#fb9f3a"
             ],
             [
              0.8888888888888888,
              "#fdca26"
             ],
             [
              1,
              "#f0f921"
             ]
            ],
            "type": "histogram2dcontour"
           }
          ],
          "mesh3d": [
           {
            "colorbar": {
             "outlinewidth": 0,
             "ticks": ""
            },
            "type": "mesh3d"
           }
          ],
          "parcoords": [
           {
            "line": {
             "colorbar": {
              "outlinewidth": 0,
              "ticks": ""
             }
            },
            "type": "parcoords"
           }
          ],
          "pie": [
           {
            "automargin": true,
            "type": "pie"
           }
          ],
          "scatter": [
           {
            "marker": {
             "colorbar": {
              "outlinewidth": 0,
              "ticks": ""
             }
            },
            "type": "scatter"
           }
          ],
          "scatter3d": [
           {
            "line": {
             "colorbar": {
              "outlinewidth": 0,
              "ticks": ""
             }
            },
            "marker": {
             "colorbar": {
              "outlinewidth": 0,
              "ticks": ""
             }
            },
            "type": "scatter3d"
           }
          ],
          "scattercarpet": [
           {
            "marker": {
             "colorbar": {
              "outlinewidth": 0,
              "ticks": ""
             }
            },
            "type": "scattercarpet"
           }
          ],
          "scattergeo": [
           {
            "marker": {
             "colorbar": {
              "outlinewidth": 0,
              "ticks": ""
             }
            },
            "type": "scattergeo"
           }
          ],
          "scattergl": [
           {
            "marker": {
             "colorbar": {
              "outlinewidth": 0,
              "ticks": ""
             }
            },
            "type": "scattergl"
           }
          ],
          "scattermapbox": [
           {
            "marker": {
             "colorbar": {
              "outlinewidth": 0,
              "ticks": ""
             }
            },
            "type": "scattermapbox"
           }
          ],
          "scatterpolar": [
           {
            "marker": {
             "colorbar": {
              "outlinewidth": 0,
              "ticks": ""
             }
            },
            "type": "scatterpolar"
           }
          ],
          "scatterpolargl": [
           {
            "marker": {
             "colorbar": {
              "outlinewidth": 0,
              "ticks": ""
             }
            },
            "type": "scatterpolargl"
           }
          ],
          "scatterternary": [
           {
            "marker": {
             "colorbar": {
              "outlinewidth": 0,
              "ticks": ""
             }
            },
            "type": "scatterternary"
           }
          ],
          "surface": [
           {
            "colorbar": {
             "outlinewidth": 0,
             "ticks": ""
            },
            "colorscale": [
             [
              0,
              "#0d0887"
             ],
             [
              0.1111111111111111,
              "#46039f"
             ],
             [
              0.2222222222222222,
              "#7201a8"
             ],
             [
              0.3333333333333333,
              "#9c179e"
             ],
             [
              0.4444444444444444,
              "#bd3786"
             ],
             [
              0.5555555555555556,
              "#d8576b"
             ],
             [
              0.6666666666666666,
              "#ed7953"
             ],
             [
              0.7777777777777778,
              "#fb9f3a"
             ],
             [
              0.8888888888888888,
              "#fdca26"
             ],
             [
              1,
              "#f0f921"
             ]
            ],
            "type": "surface"
           }
          ],
          "table": [
           {
            "cells": {
             "fill": {
              "color": "#EBF0F8"
             },
             "line": {
              "color": "white"
             }
            },
            "header": {
             "fill": {
              "color": "#C8D4E3"
             },
             "line": {
              "color": "white"
             }
            },
            "type": "table"
           }
          ]
         },
         "layout": {
          "annotationdefaults": {
           "arrowcolor": "#2a3f5f",
           "arrowhead": 0,
           "arrowwidth": 1
          },
          "autotypenumbers": "strict",
          "coloraxis": {
           "colorbar": {
            "outlinewidth": 0,
            "ticks": ""
           }
          },
          "colorscale": {
           "diverging": [
            [
             0,
             "#8e0152"
            ],
            [
             0.1,
             "#c51b7d"
            ],
            [
             0.2,
             "#de77ae"
            ],
            [
             0.3,
             "#f1b6da"
            ],
            [
             0.4,
             "#fde0ef"
            ],
            [
             0.5,
             "#f7f7f7"
            ],
            [
             0.6,
             "#e6f5d0"
            ],
            [
             0.7,
             "#b8e186"
            ],
            [
             0.8,
             "#7fbc41"
            ],
            [
             0.9,
             "#4d9221"
            ],
            [
             1,
             "#276419"
            ]
           ],
           "sequential": [
            [
             0,
             "#0d0887"
            ],
            [
             0.1111111111111111,
             "#46039f"
            ],
            [
             0.2222222222222222,
             "#7201a8"
            ],
            [
             0.3333333333333333,
             "#9c179e"
            ],
            [
             0.4444444444444444,
             "#bd3786"
            ],
            [
             0.5555555555555556,
             "#d8576b"
            ],
            [
             0.6666666666666666,
             "#ed7953"
            ],
            [
             0.7777777777777778,
             "#fb9f3a"
            ],
            [
             0.8888888888888888,
             "#fdca26"
            ],
            [
             1,
             "#f0f921"
            ]
           ],
           "sequentialminus": [
            [
             0,
             "#0d0887"
            ],
            [
             0.1111111111111111,
             "#46039f"
            ],
            [
             0.2222222222222222,
             "#7201a8"
            ],
            [
             0.3333333333333333,
             "#9c179e"
            ],
            [
             0.4444444444444444,
             "#bd3786"
            ],
            [
             0.5555555555555556,
             "#d8576b"
            ],
            [
             0.6666666666666666,
             "#ed7953"
            ],
            [
             0.7777777777777778,
             "#fb9f3a"
            ],
            [
             0.8888888888888888,
             "#fdca26"
            ],
            [
             1,
             "#f0f921"
            ]
           ]
          },
          "colorway": [
           "#636efa",
           "#EF553B",
           "#00cc96",
           "#ab63fa",
           "#FFA15A",
           "#19d3f3",
           "#FF6692",
           "#B6E880",
           "#FF97FF",
           "#FECB52"
          ],
          "font": {
           "color": "#2a3f5f"
          },
          "geo": {
           "bgcolor": "white",
           "lakecolor": "white",
           "landcolor": "#E5ECF6",
           "showlakes": true,
           "showland": true,
           "subunitcolor": "white"
          },
          "hoverlabel": {
           "align": "left"
          },
          "hovermode": "closest",
          "mapbox": {
           "style": "light"
          },
          "paper_bgcolor": "white",
          "plot_bgcolor": "#E5ECF6",
          "polar": {
           "angularaxis": {
            "gridcolor": "white",
            "linecolor": "white",
            "ticks": ""
           },
           "bgcolor": "#E5ECF6",
           "radialaxis": {
            "gridcolor": "white",
            "linecolor": "white",
            "ticks": ""
           }
          },
          "scene": {
           "xaxis": {
            "backgroundcolor": "#E5ECF6",
            "gridcolor": "white",
            "gridwidth": 2,
            "linecolor": "white",
            "showbackground": true,
            "ticks": "",
            "zerolinecolor": "white"
           },
           "yaxis": {
            "backgroundcolor": "#E5ECF6",
            "gridcolor": "white",
            "gridwidth": 2,
            "linecolor": "white",
            "showbackground": true,
            "ticks": "",
            "zerolinecolor": "white"
           },
           "zaxis": {
            "backgroundcolor": "#E5ECF6",
            "gridcolor": "white",
            "gridwidth": 2,
            "linecolor": "white",
            "showbackground": true,
            "ticks": "",
            "zerolinecolor": "white"
           }
          },
          "shapedefaults": {
           "line": {
            "color": "#2a3f5f"
           }
          },
          "ternary": {
           "aaxis": {
            "gridcolor": "white",
            "linecolor": "white",
            "ticks": ""
           },
           "baxis": {
            "gridcolor": "white",
            "linecolor": "white",
            "ticks": ""
           },
           "bgcolor": "#E5ECF6",
           "caxis": {
            "gridcolor": "white",
            "linecolor": "white",
            "ticks": ""
           }
          },
          "title": {
           "x": 0.05
          },
          "xaxis": {
           "automargin": true,
           "gridcolor": "white",
           "linecolor": "white",
           "ticks": "",
           "title": {
            "standoff": 15
           },
           "zerolinecolor": "white",
           "zerolinewidth": 2
          },
          "yaxis": {
           "automargin": true,
           "gridcolor": "white",
           "linecolor": "white",
           "ticks": "",
           "title": {
            "standoff": 15
           },
           "zerolinecolor": "white",
           "zerolinewidth": 2
          }
         }
        },
        "xaxis": {
         "anchor": "y",
         "domain": [
          0,
          1
         ],
         "title": {
          "text": "Trade No."
         }
        },
        "yaxis": {
         "anchor": "x",
         "domain": [
          0,
          1
         ],
         "title": {
          "text": "Account Value"
         }
        }
       }
      }
     },
     "metadata": {},
     "output_type": "display_data"
    }
   ],
   "source": [
    "fig = px.line(history, labels={\"value\":\"Account Value\", \"index\" : \"Trade No.\"})\n",
    "fig.update_layout(showlegend=False)"
   ]
  },
  {
   "cell_type": "code",
   "execution_count": 63,
   "metadata": {},
   "outputs": [],
   "source": [
    "def single_run_with_slippage(start, prob, runs):\n",
    "    account_start = start\n",
    "    account_hist = []\n",
    "    for i in range(0,runs):\n",
    "        win = (0.06*account_start)/3\n",
    "        if account_start <= 0:\n",
    "            return \"ruin\"\n",
    "        elif np.random.binomial(1, prob) == 1:\n",
    "            account_start += win\n",
    "            account_hist.append(account_start)\n",
    "        else:\n",
    "            if np.random.binomial(1,0.92) == 1:\n",
    "                account_start -= win*3\n",
    "                account_hist.append(account_start)\n",
    "            else:\n",
    "                slippage = np.random.randint(1,5)\n",
    "                account_start -= win*(3+slippage)\n",
    "                account_hist.append(account_start)\n",
    "\n",
    "    if account_start >= 150000:\n",
    "        return \"eli\"\n",
    "    else:\n",
    "        return \"normal\""
   ]
  },
  {
   "cell_type": "code",
   "execution_count": 64,
   "metadata": {},
   "outputs": [],
   "source": [
    "prob_ls = (np.arange(74,91)/100).tolist()\n",
    "ls = [(Counter([single_run_with_slippage(10000, t, 1150) for i in range(0,100)])) for t in prob_ls]\n",
    "prob_eli = [ls[i][\"eli\"]/100 for i in range(len(ls))]"
   ]
  },
  {
   "cell_type": "code",
   "execution_count": 68,
   "metadata": {},
   "outputs": [
    {
     "data": {
      "application/vnd.plotly.v1+json": {
       "config": {
        "plotlyServerURL": "https://plot.ly"
       },
       "data": [
        {
         "hovertemplate": "Win Rate (%)=%{x}<br>Probability of making $150,000=%{y}<extra></extra>",
         "legendgroup": "",
         "line": {
          "color": "#636efa",
          "dash": "solid"
         },
         "marker": {
          "symbol": "circle"
         },
         "mode": "lines",
         "name": "",
         "orientation": "v",
         "showlegend": false,
         "type": "scatter",
         "x": [
          0.74,
          0.75,
          0.76,
          0.77,
          0.78,
          0.79,
          0.8,
          0.81,
          0.82,
          0.83,
          0.84,
          0.85,
          0.86,
          0.87,
          0.88,
          0.89,
          0.9
         ],
         "xaxis": "x",
         "y": [
          0,
          0,
          0,
          0,
          0.08,
          0.24,
          0.54,
          0.8,
          0.98,
          0.99,
          1,
          1,
          1,
          1,
          1,
          1,
          1
         ],
         "yaxis": "y"
        }
       ],
       "layout": {
        "legend": {
         "tracegroupgap": 0
        },
        "template": {
         "data": {
          "bar": [
           {
            "error_x": {
             "color": "#2a3f5f"
            },
            "error_y": {
             "color": "#2a3f5f"
            },
            "marker": {
             "line": {
              "color": "#E5ECF6",
              "width": 0.5
             },
             "pattern": {
              "fillmode": "overlay",
              "size": 10,
              "solidity": 0.2
             }
            },
            "type": "bar"
           }
          ],
          "barpolar": [
           {
            "marker": {
             "line": {
              "color": "#E5ECF6",
              "width": 0.5
             },
             "pattern": {
              "fillmode": "overlay",
              "size": 10,
              "solidity": 0.2
             }
            },
            "type": "barpolar"
           }
          ],
          "carpet": [
           {
            "aaxis": {
             "endlinecolor": "#2a3f5f",
             "gridcolor": "white",
             "linecolor": "white",
             "minorgridcolor": "white",
             "startlinecolor": "#2a3f5f"
            },
            "baxis": {
             "endlinecolor": "#2a3f5f",
             "gridcolor": "white",
             "linecolor": "white",
             "minorgridcolor": "white",
             "startlinecolor": "#2a3f5f"
            },
            "type": "carpet"
           }
          ],
          "choropleth": [
           {
            "colorbar": {
             "outlinewidth": 0,
             "ticks": ""
            },
            "type": "choropleth"
           }
          ],
          "contour": [
           {
            "colorbar": {
             "outlinewidth": 0,
             "ticks": ""
            },
            "colorscale": [
             [
              0,
              "#0d0887"
             ],
             [
              0.1111111111111111,
              "#46039f"
             ],
             [
              0.2222222222222222,
              "#7201a8"
             ],
             [
              0.3333333333333333,
              "#9c179e"
             ],
             [
              0.4444444444444444,
              "#bd3786"
             ],
             [
              0.5555555555555556,
              "#d8576b"
             ],
             [
              0.6666666666666666,
              "#ed7953"
             ],
             [
              0.7777777777777778,
              "#fb9f3a"
             ],
             [
              0.8888888888888888,
              "#fdca26"
             ],
             [
              1,
              "#f0f921"
             ]
            ],
            "type": "contour"
           }
          ],
          "contourcarpet": [
           {
            "colorbar": {
             "outlinewidth": 0,
             "ticks": ""
            },
            "type": "contourcarpet"
           }
          ],
          "heatmap": [
           {
            "colorbar": {
             "outlinewidth": 0,
             "ticks": ""
            },
            "colorscale": [
             [
              0,
              "#0d0887"
             ],
             [
              0.1111111111111111,
              "#46039f"
             ],
             [
              0.2222222222222222,
              "#7201a8"
             ],
             [
              0.3333333333333333,
              "#9c179e"
             ],
             [
              0.4444444444444444,
              "#bd3786"
             ],
             [
              0.5555555555555556,
              "#d8576b"
             ],
             [
              0.6666666666666666,
              "#ed7953"
             ],
             [
              0.7777777777777778,
              "#fb9f3a"
             ],
             [
              0.8888888888888888,
              "#fdca26"
             ],
             [
              1,
              "#f0f921"
             ]
            ],
            "type": "heatmap"
           }
          ],
          "heatmapgl": [
           {
            "colorbar": {
             "outlinewidth": 0,
             "ticks": ""
            },
            "colorscale": [
             [
              0,
              "#0d0887"
             ],
             [
              0.1111111111111111,
              "#46039f"
             ],
             [
              0.2222222222222222,
              "#7201a8"
             ],
             [
              0.3333333333333333,
              "#9c179e"
             ],
             [
              0.4444444444444444,
              "#bd3786"
             ],
             [
              0.5555555555555556,
              "#d8576b"
             ],
             [
              0.6666666666666666,
              "#ed7953"
             ],
             [
              0.7777777777777778,
              "#fb9f3a"
             ],
             [
              0.8888888888888888,
              "#fdca26"
             ],
             [
              1,
              "#f0f921"
             ]
            ],
            "type": "heatmapgl"
           }
          ],
          "histogram": [
           {
            "marker": {
             "pattern": {
              "fillmode": "overlay",
              "size": 10,
              "solidity": 0.2
             }
            },
            "type": "histogram"
           }
          ],
          "histogram2d": [
           {
            "colorbar": {
             "outlinewidth": 0,
             "ticks": ""
            },
            "colorscale": [
             [
              0,
              "#0d0887"
             ],
             [
              0.1111111111111111,
              "#46039f"
             ],
             [
              0.2222222222222222,
              "#7201a8"
             ],
             [
              0.3333333333333333,
              "#9c179e"
             ],
             [
              0.4444444444444444,
              "#bd3786"
             ],
             [
              0.5555555555555556,
              "#d8576b"
             ],
             [
              0.6666666666666666,
              "#ed7953"
             ],
             [
              0.7777777777777778,
              "#fb9f3a"
             ],
             [
              0.8888888888888888,
              "#fdca26"
             ],
             [
              1,
              "#f0f921"
             ]
            ],
            "type": "histogram2d"
           }
          ],
          "histogram2dcontour": [
           {
            "colorbar": {
             "outlinewidth": 0,
             "ticks": ""
            },
            "colorscale": [
             [
              0,
              "#0d0887"
             ],
             [
              0.1111111111111111,
              "#46039f"
             ],
             [
              0.2222222222222222,
              "#7201a8"
             ],
             [
              0.3333333333333333,
              "#9c179e"
             ],
             [
              0.4444444444444444,
              "#bd3786"
             ],
             [
              0.5555555555555556,
              "#d8576b"
             ],
             [
              0.6666666666666666,
              "#ed7953"
             ],
             [
              0.7777777777777778,
              "#fb9f3a"
             ],
             [
              0.8888888888888888,
              "#fdca26"
             ],
             [
              1,
              "#f0f921"
             ]
            ],
            "type": "histogram2dcontour"
           }
          ],
          "mesh3d": [
           {
            "colorbar": {
             "outlinewidth": 0,
             "ticks": ""
            },
            "type": "mesh3d"
           }
          ],
          "parcoords": [
           {
            "line": {
             "colorbar": {
              "outlinewidth": 0,
              "ticks": ""
             }
            },
            "type": "parcoords"
           }
          ],
          "pie": [
           {
            "automargin": true,
            "type": "pie"
           }
          ],
          "scatter": [
           {
            "marker": {
             "colorbar": {
              "outlinewidth": 0,
              "ticks": ""
             }
            },
            "type": "scatter"
           }
          ],
          "scatter3d": [
           {
            "line": {
             "colorbar": {
              "outlinewidth": 0,
              "ticks": ""
             }
            },
            "marker": {
             "colorbar": {
              "outlinewidth": 0,
              "ticks": ""
             }
            },
            "type": "scatter3d"
           }
          ],
          "scattercarpet": [
           {
            "marker": {
             "colorbar": {
              "outlinewidth": 0,
              "ticks": ""
             }
            },
            "type": "scattercarpet"
           }
          ],
          "scattergeo": [
           {
            "marker": {
             "colorbar": {
              "outlinewidth": 0,
              "ticks": ""
             }
            },
            "type": "scattergeo"
           }
          ],
          "scattergl": [
           {
            "marker": {
             "colorbar": {
              "outlinewidth": 0,
              "ticks": ""
             }
            },
            "type": "scattergl"
           }
          ],
          "scattermapbox": [
           {
            "marker": {
             "colorbar": {
              "outlinewidth": 0,
              "ticks": ""
             }
            },
            "type": "scattermapbox"
           }
          ],
          "scatterpolar": [
           {
            "marker": {
             "colorbar": {
              "outlinewidth": 0,
              "ticks": ""
             }
            },
            "type": "scatterpolar"
           }
          ],
          "scatterpolargl": [
           {
            "marker": {
             "colorbar": {
              "outlinewidth": 0,
              "ticks": ""
             }
            },
            "type": "scatterpolargl"
           }
          ],
          "scatterternary": [
           {
            "marker": {
             "colorbar": {
              "outlinewidth": 0,
              "ticks": ""
             }
            },
            "type": "scatterternary"
           }
          ],
          "surface": [
           {
            "colorbar": {
             "outlinewidth": 0,
             "ticks": ""
            },
            "colorscale": [
             [
              0,
              "#0d0887"
             ],
             [
              0.1111111111111111,
              "#46039f"
             ],
             [
              0.2222222222222222,
              "#7201a8"
             ],
             [
              0.3333333333333333,
              "#9c179e"
             ],
             [
              0.4444444444444444,
              "#bd3786"
             ],
             [
              0.5555555555555556,
              "#d8576b"
             ],
             [
              0.6666666666666666,
              "#ed7953"
             ],
             [
              0.7777777777777778,
              "#fb9f3a"
             ],
             [
              0.8888888888888888,
              "#fdca26"
             ],
             [
              1,
              "#f0f921"
             ]
            ],
            "type": "surface"
           }
          ],
          "table": [
           {
            "cells": {
             "fill": {
              "color": "#EBF0F8"
             },
             "line": {
              "color": "white"
             }
            },
            "header": {
             "fill": {
              "color": "#C8D4E3"
             },
             "line": {
              "color": "white"
             }
            },
            "type": "table"
           }
          ]
         },
         "layout": {
          "annotationdefaults": {
           "arrowcolor": "#2a3f5f",
           "arrowhead": 0,
           "arrowwidth": 1
          },
          "autotypenumbers": "strict",
          "coloraxis": {
           "colorbar": {
            "outlinewidth": 0,
            "ticks": ""
           }
          },
          "colorscale": {
           "diverging": [
            [
             0,
             "#8e0152"
            ],
            [
             0.1,
             "#c51b7d"
            ],
            [
             0.2,
             "#de77ae"
            ],
            [
             0.3,
             "#f1b6da"
            ],
            [
             0.4,
             "#fde0ef"
            ],
            [
             0.5,
             "#f7f7f7"
            ],
            [
             0.6,
             "#e6f5d0"
            ],
            [
             0.7,
             "#b8e186"
            ],
            [
             0.8,
             "#7fbc41"
            ],
            [
             0.9,
             "#4d9221"
            ],
            [
             1,
             "#276419"
            ]
           ],
           "sequential": [
            [
             0,
             "#0d0887"
            ],
            [
             0.1111111111111111,
             "#46039f"
            ],
            [
             0.2222222222222222,
             "#7201a8"
            ],
            [
             0.3333333333333333,
             "#9c179e"
            ],
            [
             0.4444444444444444,
             "#bd3786"
            ],
            [
             0.5555555555555556,
             "#d8576b"
            ],
            [
             0.6666666666666666,
             "#ed7953"
            ],
            [
             0.7777777777777778,
             "#fb9f3a"
            ],
            [
             0.8888888888888888,
             "#fdca26"
            ],
            [
             1,
             "#f0f921"
            ]
           ],
           "sequentialminus": [
            [
             0,
             "#0d0887"
            ],
            [
             0.1111111111111111,
             "#46039f"
            ],
            [
             0.2222222222222222,
             "#7201a8"
            ],
            [
             0.3333333333333333,
             "#9c179e"
            ],
            [
             0.4444444444444444,
             "#bd3786"
            ],
            [
             0.5555555555555556,
             "#d8576b"
            ],
            [
             0.6666666666666666,
             "#ed7953"
            ],
            [
             0.7777777777777778,
             "#fb9f3a"
            ],
            [
             0.8888888888888888,
             "#fdca26"
            ],
            [
             1,
             "#f0f921"
            ]
           ]
          },
          "colorway": [
           "#636efa",
           "#EF553B",
           "#00cc96",
           "#ab63fa",
           "#FFA15A",
           "#19d3f3",
           "#FF6692",
           "#B6E880",
           "#FF97FF",
           "#FECB52"
          ],
          "font": {
           "color": "#2a3f5f"
          },
          "geo": {
           "bgcolor": "white",
           "lakecolor": "white",
           "landcolor": "#E5ECF6",
           "showlakes": true,
           "showland": true,
           "subunitcolor": "white"
          },
          "hoverlabel": {
           "align": "left"
          },
          "hovermode": "closest",
          "mapbox": {
           "style": "light"
          },
          "paper_bgcolor": "white",
          "plot_bgcolor": "#E5ECF6",
          "polar": {
           "angularaxis": {
            "gridcolor": "white",
            "linecolor": "white",
            "ticks": ""
           },
           "bgcolor": "#E5ECF6",
           "radialaxis": {
            "gridcolor": "white",
            "linecolor": "white",
            "ticks": ""
           }
          },
          "scene": {
           "xaxis": {
            "backgroundcolor": "#E5ECF6",
            "gridcolor": "white",
            "gridwidth": 2,
            "linecolor": "white",
            "showbackground": true,
            "ticks": "",
            "zerolinecolor": "white"
           },
           "yaxis": {
            "backgroundcolor": "#E5ECF6",
            "gridcolor": "white",
            "gridwidth": 2,
            "linecolor": "white",
            "showbackground": true,
            "ticks": "",
            "zerolinecolor": "white"
           },
           "zaxis": {
            "backgroundcolor": "#E5ECF6",
            "gridcolor": "white",
            "gridwidth": 2,
            "linecolor": "white",
            "showbackground": true,
            "ticks": "",
            "zerolinecolor": "white"
           }
          },
          "shapedefaults": {
           "line": {
            "color": "#2a3f5f"
           }
          },
          "ternary": {
           "aaxis": {
            "gridcolor": "white",
            "linecolor": "white",
            "ticks": ""
           },
           "baxis": {
            "gridcolor": "white",
            "linecolor": "white",
            "ticks": ""
           },
           "bgcolor": "#E5ECF6",
           "caxis": {
            "gridcolor": "white",
            "linecolor": "white",
            "ticks": ""
           }
          },
          "title": {
           "x": 0.05
          },
          "xaxis": {
           "automargin": true,
           "gridcolor": "white",
           "linecolor": "white",
           "ticks": "",
           "title": {
            "standoff": 15
           },
           "zerolinecolor": "white",
           "zerolinewidth": 2
          },
          "yaxis": {
           "automargin": true,
           "gridcolor": "white",
           "linecolor": "white",
           "ticks": "",
           "title": {
            "standoff": 15
           },
           "zerolinecolor": "white",
           "zerolinewidth": 2
          }
         }
        },
        "title": {
         "text": "Monte Carlo Simulation over 1150 Trades (w Slippage)"
        },
        "xaxis": {
         "anchor": "y",
         "domain": [
          0,
          1
         ],
         "title": {
          "text": "Win Rate (%)"
         }
        },
        "yaxis": {
         "anchor": "x",
         "domain": [
          0,
          1
         ],
         "title": {
          "text": "Probability of making $150,000"
         }
        }
       }
      }
     },
     "metadata": {},
     "output_type": "display_data"
    }
   ],
   "source": [
    "px.line(x=prob_ls, y=prob_eli, labels=\n",
    "{\"x\":\"Win Rate (%)\", \"y\" : \"Probability of making $150,000\"},\n",
    "title=\"Monte Carlo Simulation over 1150 Trades (w Slippage)\")"
   ]
  },
  {
   "cell_type": "code",
   "execution_count": null,
   "metadata": {},
   "outputs": [],
   "source": []
  }
 ],
 "metadata": {
  "interpreter": {
   "hash": "5fa0e3b4db78a6fa4cc51b3f743ede9c33406a2f48e2b249c119b66b85dbb832"
  },
  "kernelspec": {
   "display_name": "Python 3.7.0 64-bit ('base': conda)",
   "language": "python",
   "name": "python3"
  },
  "language_info": {
   "codemirror_mode": {
    "name": "ipython",
    "version": 3
   },
   "file_extension": ".py",
   "mimetype": "text/x-python",
   "name": "python",
   "nbconvert_exporter": "python",
   "pygments_lexer": "ipython3",
   "version": "3.8.12"
  },
  "orig_nbformat": 4
 },
 "nbformat": 4,
 "nbformat_minor": 2
}
