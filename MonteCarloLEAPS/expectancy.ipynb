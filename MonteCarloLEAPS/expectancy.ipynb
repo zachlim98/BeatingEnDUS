{
 "cells": [
  {
   "cell_type": "code",
   "execution_count": 99,
   "metadata": {},
   "outputs": [],
   "source": [
    "import pandas as pd\n",
    "import plotly.express as px\n",
    "import random\n",
    "import numpy as np\n",
    "from collections import Counter"
   ]
  },
  {
   "cell_type": "code",
   "execution_count": 97,
   "metadata": {},
   "outputs": [],
   "source": [
    "def single_run(start, prob, win, runs):\n",
    "    account_start = start\n",
    "    account_hist = []\n",
    "    for i in range(0,runs):\n",
    "        if account_start <= 0:\n",
    "            return \"ruin\"\n",
    "        elif np.random.binomial(1, prob) == 1:\n",
    "            account_start += win\n",
    "            account_hist.append(account_start)\n",
    "        else:\n",
    "            account_start -= win*3\n",
    "            account_hist.append(account_start)\n",
    "    if account_start >= 150000:\n",
    "        return \"eli\"\n",
    "    else:\n",
    "        return \"normal\"\n",
    "\n"
   ]
  },
  {
   "cell_type": "code",
   "execution_count": 98,
   "metadata": {},
   "outputs": [
    {
     "data": {
      "text/plain": [
       "[(0.65, Counter({'ruin': 100})),\n",
       " (0.7, Counter({'ruin': 100})),\n",
       " (0.75, Counter({'ruin': 52, 'normal': 48})),\n",
       " (0.8, Counter({'normal': 100})),\n",
       " (0.85, Counter({'normal': 96, 'eli': 4})),\n",
       " (0.9, Counter({'eli': 100})),\n",
       " (0.95, Counter({'eli': 100}))]"
      ]
     },
     "execution_count": 98,
     "metadata": {},
     "output_type": "execute_result"
    }
   ],
   "source": [
    "[(t,Counter([single_run(10000, t, 200, 252*6) for i in range(0,100)])) for t in [0.65,0.7,0.75,0.8,0.85,0.9,0.95]]"
   ]
  },
  {
   "cell_type": "code",
   "execution_count": null,
   "metadata": {},
   "outputs": [],
   "source": []
  }
 ],
 "metadata": {
  "interpreter": {
   "hash": "5fa0e3b4db78a6fa4cc51b3f743ede9c33406a2f48e2b249c119b66b85dbb832"
  },
  "kernelspec": {
   "display_name": "Python 3.7.0 64-bit ('base': conda)",
   "language": "python",
   "name": "python3"
  },
  "language_info": {
   "codemirror_mode": {
    "name": "ipython",
    "version": 3
   },
   "file_extension": ".py",
   "mimetype": "text/x-python",
   "name": "python",
   "nbconvert_exporter": "python",
   "pygments_lexer": "ipython3",
   "version": "3.8.12"
  },
  "orig_nbformat": 4
 },
 "nbformat": 4,
 "nbformat_minor": 2
}
