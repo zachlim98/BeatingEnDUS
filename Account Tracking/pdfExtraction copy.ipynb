{
 "metadata": {
  "language_info": {
   "codemirror_mode": {
    "name": "ipython",
    "version": 3
   },
   "file_extension": ".py",
   "mimetype": "text/x-python",
   "name": "python",
   "nbconvert_exporter": "python",
   "pygments_lexer": "ipython3",
   "version": "3.8.6-final"
  },
  "orig_nbformat": 2,
  "kernelspec": {
   "name": "python3",
   "display_name": "Python 3",
   "language": "python"
  }
 },
 "nbformat": 4,
 "nbformat_minor": 2,
 "cells": [
  {
   "cell_type": "code",
   "execution_count": 2,
   "metadata": {},
   "outputs": [],
   "source": [
    "import pandas as pd \n",
    "import plotly.express as px\n",
    "import mibian as mb\n",
    "import yfinance\n",
    "from datetime import datetime"
   ]
  },
  {
   "cell_type": "code",
   "execution_count": 157,
   "metadata": {},
   "outputs": [],
   "source": [
    "raw_options = pd.read_csv(\"rawtrades.csv\") #import data\n",
    "raw_options[\"Underlying\"] = [yfinance.Ticker(i).history(period=\"6mo\").loc[d][[\"High\", \"Low\"]].mean() for i,d in zip(ticker_names,ticker_dates)] #get mean price of underlying"
   ]
  },
  {
   "cell_type": "code",
   "execution_count": 169,
   "metadata": {},
   "outputs": [],
   "source": [
    "vol = [mb.BS([i,j,1,k], callPrice=l).impliedVolatility if t==\"C\" else mb.BS([i,j,1,k], putPrice=l).impliedVolatility for i,j,k,l,t in zip(raw_options[\"Underlying\"], raw_options[\"Strike\"], raw_options[\"DTE\"], (raw_options[\"Cost\"]/100), raw_options[\"Type\"])] # get implied volaility for greek calculations"
   ]
  },
  {
   "cell_type": "code",
   "execution_count": 180,
   "metadata": {},
   "outputs": [],
   "source": [
    "theta = [mb.BS([i,j,1,k], volatility=l).callTheta if t==\"C\" else mb.BS([i,j,1,k], volatility=l).putTheta for i,j,k,l,t in zip(raw_options[\"Underlying\"], raw_options[\"Strike\"], raw_options[\"DTE\"], raw_options[\"ImpliedVol\"], raw_options[\"Type\"])]"
   ]
  },
  {
   "cell_type": "code",
   "execution_count": 199,
   "metadata": {},
   "outputs": [],
   "source": [
    "adjThe = [th if a==\"BTO\" else -th for th,a in zip(theta,raw_options[\"Action\"])]"
   ]
  },
  {
   "cell_type": "code",
   "execution_count": 200,
   "metadata": {},
   "outputs": [],
   "source": [
    "raw_options[\"Theta\"] = adjThe"
   ]
  },
  {
   "cell_type": "code",
   "execution_count": 203,
   "metadata": {},
   "outputs": [],
   "source": [
    "summed = raw_options.groupby(by=\"Trade ID\").sum()"
   ]
  },
  {
   "cell_type": "code",
   "execution_count": 207,
   "metadata": {},
   "outputs": [],
   "source": [
    "summed[\"PL\"] = summed[\"Credit\"] + summed[\"Debit\"]"
   ]
  },
  {
   "cell_type": "code",
   "execution_count": 211,
   "metadata": {},
   "outputs": [],
   "source": [
    "summed = summed[summed[\"PL\"] > -200]"
   ]
  },
  {
   "cell_type": "code",
   "execution_count": 3,
   "metadata": {},
   "outputs": [
    {
     "output_type": "error",
     "ename": "NameError",
     "evalue": "name 'summed' is not defined",
     "traceback": [
      "\u001b[1;31m---------------------------------------------------------------------------\u001b[0m",
      "\u001b[1;31mNameError\u001b[0m                                 Traceback (most recent call last)",
      "\u001b[1;32m<ipython-input-3-6e31bd7742a5>\u001b[0m in \u001b[0;36m<module>\u001b[1;34m\u001b[0m\n\u001b[1;32m----> 1\u001b[1;33m \u001b[0mpx\u001b[0m\u001b[1;33m.\u001b[0m\u001b[0mscatter\u001b[0m\u001b[1;33m(\u001b[0m\u001b[0msummed\u001b[0m\u001b[1;33m,\u001b[0m \u001b[0mx\u001b[0m\u001b[1;33m=\u001b[0m\u001b[1;34m\"PL\"\u001b[0m\u001b[1;33m,\u001b[0m \u001b[0my\u001b[0m\u001b[1;33m=\u001b[0m\u001b[1;34m\"Delta\"\u001b[0m\u001b[1;33m)\u001b[0m\u001b[1;33m\u001b[0m\u001b[1;33m\u001b[0m\u001b[0m\n\u001b[0m",
      "\u001b[1;31mNameError\u001b[0m: name 'summed' is not defined"
     ]
    }
   ],
   "source": [
    "px.scatter(summed, x=\"PL\", y=\"Delta\")"
   ]
  },
  {
   "cell_type": "code",
   "execution_count": 220,
   "metadata": {},
   "outputs": [
    {
     "output_type": "execute_result",
     "data": {
      "text/plain": [
       "          Strike  DTE   Credit    Debit     Cost  Underlying  ImpliedVol  \\\n",
       "Trade ID                                                                   \n",
       "1           92.0  132    49.68   -39.56    89.24   94.400000  499.259949   \n",
       "2           46.0   50    73.84   -72.14   145.98   46.480001   70.610046   \n",
       "3           40.0   80   319.28  -297.71   616.99   45.374999  294.731140   \n",
       "4           42.0   85   215.29  -285.71   501.00   43.400001  189.601898   \n",
       "5          260.0  178   119.53  -257.42   376.95  262.205333  269.874573   \n",
       "6           92.0  336   301.13  -279.08   580.21   98.480000  730.773926   \n",
       "7           40.0  134   305.28  -335.71   640.99   39.710001  186.403275   \n",
       "8           36.0  316   374.28  -380.71   754.99   39.710001  192.018509   \n",
       "9           52.0   56    60.29   -81.71   142.00   54.090919   79.757690   \n",
       "10          36.0   96   317.28  -330.71   647.99   38.094999  285.976410   \n",
       "11         644.0  152   337.36  -325.56   662.92  640.139999  467.210770   \n",
       "12         400.0  172   262.15  -246.84   508.99  379.020004  658.115387   \n",
       "13          54.0   70    27.29   -14.71    42.00   56.790204   40.782928   \n",
       "14          12.0   14     8.29    -4.01    12.30   15.585000  302.368164   \n",
       "15          42.0   42    31.29   -15.71    47.00   45.885000   91.621399   \n",
       "16         712.0   32   250.38  -203.56   453.94  703.180008  746.854782   \n",
       "17         750.0  120  1382.55 -1289.42  2671.97  797.040009  201.992035   \n",
       "19         295.0  158   249.98  -159.98   409.96  323.970001  136.675835   \n",
       "20         125.0   86   261.28  -143.71   404.99  153.500000  145.334244   \n",
       "22         372.5   44   592.28  -513.71  1105.99  396.419998  111.342430   \n",
       "23         470.0  132   376.68  -281.28   657.96  547.711530  194.601059   \n",
       "24          46.0   78   246.68  -348.28   594.96   60.660001  810.997009   \n",
       "25          14.0   18   261.68   -90.27   351.95   10.000000  957.000732   \n",
       "26           5.5   17     0.00   -66.14    66.14    4.940000  205.093384   \n",
       "27          10.0  724     0.00  -151.14   151.14    4.940000   91.293335   \n",
       "\n",
       "             Delta     Theta      PL  \n",
       "Trade ID                              \n",
       "1         0.297695  0.056329   10.12  \n",
       "2        -0.868179  0.033205    1.70  \n",
       "3        -0.682616  0.095767   21.57  \n",
       "4        -0.833371  0.061052  -70.42  \n",
       "5         1.159561  0.687124 -137.89  \n",
       "6         1.111354  0.062844   22.05  \n",
       "7        -0.852454  0.045753  -30.43  \n",
       "8        -0.632668  0.027698   -6.43  \n",
       "9        -0.676293  0.038882  -21.42  \n",
       "10       -0.715585  0.077691  -13.43  \n",
       "11        0.106391  0.251291   11.80  \n",
       "12        0.009448  0.150352   15.31  \n",
       "13       -0.398164  0.013824   12.58  \n",
       "14       -0.155890  0.035546    4.28  \n",
       "15       -0.346907  0.034310   15.58  \n",
       "16        0.071029  0.801963   46.82  \n",
       "17       -1.212113  0.280061   93.13  \n",
       "19       -0.757062  0.058598   90.00  \n",
       "20       -0.345288  0.016312  117.57  \n",
       "22       -0.597866  0.008588   78.57  \n",
       "23       -0.556923  0.106675   95.40  \n",
       "24       -1.048852  0.112385 -101.60  \n",
       "25        0.940130  0.018891  171.41  \n",
       "26        0.491923 -0.025699  -66.14  \n",
       "27        0.543727 -0.001772 -151.14  "
      ],
      "text/html": "<div>\n<style scoped>\n    .dataframe tbody tr th:only-of-type {\n        vertical-align: middle;\n    }\n\n    .dataframe tbody tr th {\n        vertical-align: top;\n    }\n\n    .dataframe thead th {\n        text-align: right;\n    }\n</style>\n<table border=\"1\" class=\"dataframe\">\n  <thead>\n    <tr style=\"text-align: right;\">\n      <th></th>\n      <th>Strike</th>\n      <th>DTE</th>\n      <th>Credit</th>\n      <th>Debit</th>\n      <th>Cost</th>\n      <th>Underlying</th>\n      <th>ImpliedVol</th>\n      <th>Delta</th>\n      <th>Theta</th>\n      <th>PL</th>\n    </tr>\n    <tr>\n      <th>Trade ID</th>\n      <th></th>\n      <th></th>\n      <th></th>\n      <th></th>\n      <th></th>\n      <th></th>\n      <th></th>\n      <th></th>\n      <th></th>\n      <th></th>\n    </tr>\n  </thead>\n  <tbody>\n    <tr>\n      <th>1</th>\n      <td>92.0</td>\n      <td>132</td>\n      <td>49.68</td>\n      <td>-39.56</td>\n      <td>89.24</td>\n      <td>94.400000</td>\n      <td>499.259949</td>\n      <td>0.297695</td>\n      <td>0.056329</td>\n      <td>10.12</td>\n    </tr>\n    <tr>\n      <th>2</th>\n      <td>46.0</td>\n      <td>50</td>\n      <td>73.84</td>\n      <td>-72.14</td>\n      <td>145.98</td>\n      <td>46.480001</td>\n      <td>70.610046</td>\n      <td>-0.868179</td>\n      <td>0.033205</td>\n      <td>1.70</td>\n    </tr>\n    <tr>\n      <th>3</th>\n      <td>40.0</td>\n      <td>80</td>\n      <td>319.28</td>\n      <td>-297.71</td>\n      <td>616.99</td>\n      <td>45.374999</td>\n      <td>294.731140</td>\n      <td>-0.682616</td>\n      <td>0.095767</td>\n      <td>21.57</td>\n    </tr>\n    <tr>\n      <th>4</th>\n      <td>42.0</td>\n      <td>85</td>\n      <td>215.29</td>\n      <td>-285.71</td>\n      <td>501.00</td>\n      <td>43.400001</td>\n      <td>189.601898</td>\n      <td>-0.833371</td>\n      <td>0.061052</td>\n      <td>-70.42</td>\n    </tr>\n    <tr>\n      <th>5</th>\n      <td>260.0</td>\n      <td>178</td>\n      <td>119.53</td>\n      <td>-257.42</td>\n      <td>376.95</td>\n      <td>262.205333</td>\n      <td>269.874573</td>\n      <td>1.159561</td>\n      <td>0.687124</td>\n      <td>-137.89</td>\n    </tr>\n    <tr>\n      <th>6</th>\n      <td>92.0</td>\n      <td>336</td>\n      <td>301.13</td>\n      <td>-279.08</td>\n      <td>580.21</td>\n      <td>98.480000</td>\n      <td>730.773926</td>\n      <td>1.111354</td>\n      <td>0.062844</td>\n      <td>22.05</td>\n    </tr>\n    <tr>\n      <th>7</th>\n      <td>40.0</td>\n      <td>134</td>\n      <td>305.28</td>\n      <td>-335.71</td>\n      <td>640.99</td>\n      <td>39.710001</td>\n      <td>186.403275</td>\n      <td>-0.852454</td>\n      <td>0.045753</td>\n      <td>-30.43</td>\n    </tr>\n    <tr>\n      <th>8</th>\n      <td>36.0</td>\n      <td>316</td>\n      <td>374.28</td>\n      <td>-380.71</td>\n      <td>754.99</td>\n      <td>39.710001</td>\n      <td>192.018509</td>\n      <td>-0.632668</td>\n      <td>0.027698</td>\n      <td>-6.43</td>\n    </tr>\n    <tr>\n      <th>9</th>\n      <td>52.0</td>\n      <td>56</td>\n      <td>60.29</td>\n      <td>-81.71</td>\n      <td>142.00</td>\n      <td>54.090919</td>\n      <td>79.757690</td>\n      <td>-0.676293</td>\n      <td>0.038882</td>\n      <td>-21.42</td>\n    </tr>\n    <tr>\n      <th>10</th>\n      <td>36.0</td>\n      <td>96</td>\n      <td>317.28</td>\n      <td>-330.71</td>\n      <td>647.99</td>\n      <td>38.094999</td>\n      <td>285.976410</td>\n      <td>-0.715585</td>\n      <td>0.077691</td>\n      <td>-13.43</td>\n    </tr>\n    <tr>\n      <th>11</th>\n      <td>644.0</td>\n      <td>152</td>\n      <td>337.36</td>\n      <td>-325.56</td>\n      <td>662.92</td>\n      <td>640.139999</td>\n      <td>467.210770</td>\n      <td>0.106391</td>\n      <td>0.251291</td>\n      <td>11.80</td>\n    </tr>\n    <tr>\n      <th>12</th>\n      <td>400.0</td>\n      <td>172</td>\n      <td>262.15</td>\n      <td>-246.84</td>\n      <td>508.99</td>\n      <td>379.020004</td>\n      <td>658.115387</td>\n      <td>0.009448</td>\n      <td>0.150352</td>\n      <td>15.31</td>\n    </tr>\n    <tr>\n      <th>13</th>\n      <td>54.0</td>\n      <td>70</td>\n      <td>27.29</td>\n      <td>-14.71</td>\n      <td>42.00</td>\n      <td>56.790204</td>\n      <td>40.782928</td>\n      <td>-0.398164</td>\n      <td>0.013824</td>\n      <td>12.58</td>\n    </tr>\n    <tr>\n      <th>14</th>\n      <td>12.0</td>\n      <td>14</td>\n      <td>8.29</td>\n      <td>-4.01</td>\n      <td>12.30</td>\n      <td>15.585000</td>\n      <td>302.368164</td>\n      <td>-0.155890</td>\n      <td>0.035546</td>\n      <td>4.28</td>\n    </tr>\n    <tr>\n      <th>15</th>\n      <td>42.0</td>\n      <td>42</td>\n      <td>31.29</td>\n      <td>-15.71</td>\n      <td>47.00</td>\n      <td>45.885000</td>\n      <td>91.621399</td>\n      <td>-0.346907</td>\n      <td>0.034310</td>\n      <td>15.58</td>\n    </tr>\n    <tr>\n      <th>16</th>\n      <td>712.0</td>\n      <td>32</td>\n      <td>250.38</td>\n      <td>-203.56</td>\n      <td>453.94</td>\n      <td>703.180008</td>\n      <td>746.854782</td>\n      <td>0.071029</td>\n      <td>0.801963</td>\n      <td>46.82</td>\n    </tr>\n    <tr>\n      <th>17</th>\n      <td>750.0</td>\n      <td>120</td>\n      <td>1382.55</td>\n      <td>-1289.42</td>\n      <td>2671.97</td>\n      <td>797.040009</td>\n      <td>201.992035</td>\n      <td>-1.212113</td>\n      <td>0.280061</td>\n      <td>93.13</td>\n    </tr>\n    <tr>\n      <th>19</th>\n      <td>295.0</td>\n      <td>158</td>\n      <td>249.98</td>\n      <td>-159.98</td>\n      <td>409.96</td>\n      <td>323.970001</td>\n      <td>136.675835</td>\n      <td>-0.757062</td>\n      <td>0.058598</td>\n      <td>90.00</td>\n    </tr>\n    <tr>\n      <th>20</th>\n      <td>125.0</td>\n      <td>86</td>\n      <td>261.28</td>\n      <td>-143.71</td>\n      <td>404.99</td>\n      <td>153.500000</td>\n      <td>145.334244</td>\n      <td>-0.345288</td>\n      <td>0.016312</td>\n      <td>117.57</td>\n    </tr>\n    <tr>\n      <th>22</th>\n      <td>372.5</td>\n      <td>44</td>\n      <td>592.28</td>\n      <td>-513.71</td>\n      <td>1105.99</td>\n      <td>396.419998</td>\n      <td>111.342430</td>\n      <td>-0.597866</td>\n      <td>0.008588</td>\n      <td>78.57</td>\n    </tr>\n    <tr>\n      <th>23</th>\n      <td>470.0</td>\n      <td>132</td>\n      <td>376.68</td>\n      <td>-281.28</td>\n      <td>657.96</td>\n      <td>547.711530</td>\n      <td>194.601059</td>\n      <td>-0.556923</td>\n      <td>0.106675</td>\n      <td>95.40</td>\n    </tr>\n    <tr>\n      <th>24</th>\n      <td>46.0</td>\n      <td>78</td>\n      <td>246.68</td>\n      <td>-348.28</td>\n      <td>594.96</td>\n      <td>60.660001</td>\n      <td>810.997009</td>\n      <td>-1.048852</td>\n      <td>0.112385</td>\n      <td>-101.60</td>\n    </tr>\n    <tr>\n      <th>25</th>\n      <td>14.0</td>\n      <td>18</td>\n      <td>261.68</td>\n      <td>-90.27</td>\n      <td>351.95</td>\n      <td>10.000000</td>\n      <td>957.000732</td>\n      <td>0.940130</td>\n      <td>0.018891</td>\n      <td>171.41</td>\n    </tr>\n    <tr>\n      <th>26</th>\n      <td>5.5</td>\n      <td>17</td>\n      <td>0.00</td>\n      <td>-66.14</td>\n      <td>66.14</td>\n      <td>4.940000</td>\n      <td>205.093384</td>\n      <td>0.491923</td>\n      <td>-0.025699</td>\n      <td>-66.14</td>\n    </tr>\n    <tr>\n      <th>27</th>\n      <td>10.0</td>\n      <td>724</td>\n      <td>0.00</td>\n      <td>-151.14</td>\n      <td>151.14</td>\n      <td>4.940000</td>\n      <td>91.293335</td>\n      <td>0.543727</td>\n      <td>-0.001772</td>\n      <td>-151.14</td>\n    </tr>\n  </tbody>\n</table>\n</div>"
     },
     "metadata": {},
     "execution_count": 220
    }
   ],
   "source": [
    "summed"
   ]
  },
  {
   "cell_type": "code",
   "execution_count": null,
   "metadata": {},
   "outputs": [],
   "source": []
  }
 ]
}