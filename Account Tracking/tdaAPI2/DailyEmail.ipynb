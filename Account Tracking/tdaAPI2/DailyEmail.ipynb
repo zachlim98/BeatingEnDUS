{
 "metadata": {
  "language_info": {
   "codemirror_mode": {
    "name": "ipython",
    "version": 3
   },
   "file_extension": ".py",
   "mimetype": "text/x-python",
   "name": "python",
   "nbconvert_exporter": "python",
   "pygments_lexer": "ipython3",
   "version": "3.8.6-final"
  },
  "orig_nbformat": 2,
  "kernelspec": {
   "name": "python3",
   "display_name": "Python 3.8.6 32-bit",
   "metadata": {
    "interpreter": {
     "hash": "a080e381fb8d998a55638006a69e5958108d914a9dc610571a96145ee1400b24"
    }
   }
  }
 },
 "nbformat": 4,
 "nbformat_minor": 2,
 "cells": [
  {
   "cell_type": "code",
   "execution_count": 75,
   "metadata": {
    "tags": []
   },
   "outputs": [],
   "source": [
    "from tda import auth, client\n",
    "import json\n",
    "\n",
    "token_path = 'C:/Users/Zachary/Desktop/token.pickle'\n",
    "api_key = 'DRSMU4TL964FO3QNBQHVL78X9SUPGGIL@AMER.OAUTHAP'\n",
    "redirect_uri = \"http://localhost\"\n",
    "try:\n",
    "    c = auth.client_from_token_file(token_path, api_key)\n",
    "except FileNotFoundError:\n",
    "    from selenium import webdriver\n",
    "    with webdriver.Chrome() as driver:\n",
    "        c = auth.client_from_login_flow(\n",
    "            driver, api_key, redirect_uri, token_path)"
   ]
  },
  {
   "cell_type": "code",
   "execution_count": null,
   "metadata": {},
   "outputs": [],
   "source": [
    "r = c.get_price_history('AAPL',\n",
    "        period_type=client.Client.PriceHistory.PeriodType.YEAR,\n",
    "        period=client.Client.PriceHistory.Period.TWENTY_YEARS,\n",
    "        frequency_type=client.Client.PriceHistory.FrequencyType.DAILY,\n",
    "        frequency=client.Client.PriceHistory.Frequency.DAILY)\n",
    "assert r.status_code == 200, r.raise_for_status()\n",
    "print(json.dumps(r.json(), indent=4))"
   ]
  },
  {
   "cell_type": "code",
   "execution_count": 85,
   "metadata": {},
   "outputs": [],
   "source": [
    "p = client.Client.Account.Fields(\"positions\")"
   ]
  },
  {
   "cell_type": "code",
   "execution_count": 86,
   "metadata": {},
   "outputs": [],
   "source": [
    "a = c.get_accounts(fields=p)"
   ]
  },
  {
   "cell_type": "code",
   "execution_count": 87,
   "metadata": {},
   "outputs": [],
   "source": [
    "assert a.status_code == 200, a.raise_for_status()\n",
    "data = a.json()"
   ]
  },
  {
   "cell_type": "code",
   "execution_count": 88,
   "metadata": {},
   "outputs": [],
   "source": [
    "import pandas as pd"
   ]
  },
  {
   "cell_type": "code",
   "execution_count": 89,
   "metadata": {},
   "outputs": [],
   "source": [
    "dictd = data[0]"
   ]
  },
  {
   "cell_type": "code",
   "execution_count": 90,
   "metadata": {},
   "outputs": [],
   "source": [
    "df = pd.json_normalize(dictd)"
   ]
  },
  {
   "cell_type": "code",
   "execution_count": 93,
   "metadata": {},
   "outputs": [
    {
     "output_type": "execute_result",
     "data": {
      "text/plain": [
       "     type  accountId  roundTrips  isDayTrader  isClosingOnlyRestricted  \\\n",
       "0  MARGIN  220535376           0        False                    False   \n",
       "\n",
       "                                           positions  \\\n",
       "0  [{'shortQuantity': 0.0, 'averagePrice': 42.43,...   \n",
       "\n",
       "   initialBalances.accruedInterest  \\\n",
       "0                              0.0   \n",
       "\n",
       "   initialBalances.availableFundsNonMarginableTrade  \\\n",
       "0                                           3207.56   \n",
       "\n",
       "   initialBalances.bondValue  initialBalances.buyingPower  ...  \\\n",
       "0                        0.0                      7214.82  ...   \n",
       "\n",
       "   currentBalances.bondValue  projectedBalances.availableFunds  \\\n",
       "0                        0.0                           3205.35   \n",
       "\n",
       "   projectedBalances.availableFundsNonMarginableTrade  \\\n",
       "0                                            3205.35    \n",
       "\n",
       "   projectedBalances.buyingPower  projectedBalances.dayTradingBuyingPower  \\\n",
       "0                        7214.82                                      0.0   \n",
       "\n",
       "   projectedBalances.dayTradingBuyingPowerCall  \\\n",
       "0                                          0.0   \n",
       "\n",
       "   projectedBalances.maintenanceCall  projectedBalances.regTCall  \\\n",
       "0                                0.0                         0.0   \n",
       "\n",
       "   projectedBalances.isInCall  projectedBalances.stockBuyingPower  \n",
       "0                       False                             7214.82  \n",
       "\n",
       "[1 rows x 75 columns]"
      ],
      "text/html": "<div>\n<style scoped>\n    .dataframe tbody tr th:only-of-type {\n        vertical-align: middle;\n    }\n\n    .dataframe tbody tr th {\n        vertical-align: top;\n    }\n\n    .dataframe thead th {\n        text-align: right;\n    }\n</style>\n<table border=\"1\" class=\"dataframe\">\n  <thead>\n    <tr style=\"text-align: right;\">\n      <th></th>\n      <th>type</th>\n      <th>accountId</th>\n      <th>roundTrips</th>\n      <th>isDayTrader</th>\n      <th>isClosingOnlyRestricted</th>\n      <th>positions</th>\n      <th>initialBalances.accruedInterest</th>\n      <th>initialBalances.availableFundsNonMarginableTrade</th>\n      <th>initialBalances.bondValue</th>\n      <th>initialBalances.buyingPower</th>\n      <th>...</th>\n      <th>currentBalances.bondValue</th>\n      <th>projectedBalances.availableFunds</th>\n      <th>projectedBalances.availableFundsNonMarginableTrade</th>\n      <th>projectedBalances.buyingPower</th>\n      <th>projectedBalances.dayTradingBuyingPower</th>\n      <th>projectedBalances.dayTradingBuyingPowerCall</th>\n      <th>projectedBalances.maintenanceCall</th>\n      <th>projectedBalances.regTCall</th>\n      <th>projectedBalances.isInCall</th>\n      <th>projectedBalances.stockBuyingPower</th>\n    </tr>\n  </thead>\n  <tbody>\n    <tr>\n      <th>0</th>\n      <td>MARGIN</td>\n      <td>220535376</td>\n      <td>0</td>\n      <td>False</td>\n      <td>False</td>\n      <td>[{'shortQuantity': 0.0, 'averagePrice': 42.43,...</td>\n      <td>0.0</td>\n      <td>3207.56</td>\n      <td>0.0</td>\n      <td>7214.82</td>\n      <td>...</td>\n      <td>0.0</td>\n      <td>3205.35</td>\n      <td>3205.35</td>\n      <td>7214.82</td>\n      <td>0.0</td>\n      <td>0.0</td>\n      <td>0.0</td>\n      <td>0.0</td>\n      <td>False</td>\n      <td>7214.82</td>\n    </tr>\n  </tbody>\n</table>\n<p>1 rows × 75 columns</p>\n</div>"
     },
     "metadata": {},
     "execution_count": 93
    }
   ],
   "source": [
    "account_dataframes = []\n",
    "for accountId, value in dictd.items():\n",
    "    account_dataframes.append(pd.io.json.json_normalize(value))\n",
    "    account_dataframes[-1].columns = [\n",
    "        c.replace(\"securitiesAccount.\", \"\")\n",
    "        for c in account_dataframes[-1].columns\n",
    "    ]\n",
    "\n",
    "pd.concat(account_dataframes)"
   ]
  },
  {
   "cell_type": "code",
   "execution_count": 101,
   "metadata": {},
   "outputs": [
    {
     "output_type": "execute_result",
     "data": {
      "text/plain": [
       "    shortQuantity  averagePrice  currentDayProfitLoss  \\\n",
       "0             0.0        42.430                6.9500   \n",
       "1             0.0         2.377              -16.5000   \n",
       "2             1.0         3.113               19.0000   \n",
       "3             0.0         5.057              -14.5000   \n",
       "4             1.0         6.443               25.0000   \n",
       "5             0.0        46.350                1.6155   \n",
       "6             1.0         2.443              -49.0000   \n",
       "7             0.0        25.717              127.5000   \n",
       "8             1.0         0.293               -6.5000   \n",
       "9             0.0         4.627              -37.5000   \n",
       "10            1.0         6.063               47.5000   \n",
       "\n",
       "    currentDayProfitLossPercentage  longQuantity  settledLongQuantity  \\\n",
       "0                             2.85           5.0                  5.0   \n",
       "1                            -6.98           1.0                  1.0   \n",
       "2                             6.13           0.0                  0.0   \n",
       "3                            -6.29           1.0                  1.0   \n",
       "4                             7.52           0.0                  0.0   \n",
       "5                             0.51           5.0                  5.0   \n",
       "6                           -20.16           0.0                  0.0   \n",
       "7                             5.54           1.0                  1.0   \n",
       "8                           -27.08           0.0                  0.0   \n",
       "9                            -8.93           1.0                  1.0   \n",
       "10                            8.56           0.0                  0.0   \n",
       "\n",
       "    settledShortQuantity  marketValue  maintenanceRequirement  \\\n",
       "0                    0.0     250.7000                  125.35   \n",
       "1                    0.0     220.0000                    0.00   \n",
       "2                   -1.0    -291.0000                  250.00   \n",
       "3                    0.0     216.0000                    0.00   \n",
       "4                   -1.0    -307.5000                  500.00   \n",
       "5                    0.0     315.8155                  157.91   \n",
       "6                   -1.0    -292.0000                    0.00   \n",
       "7                    0.0    2430.0000                    0.00   \n",
       "8                   -1.0     -30.5000                  190.50   \n",
       "9                    0.0     382.5000                    0.00   \n",
       "10                  -1.0    -507.5000                  500.00   \n",
       "\n",
       "   instrument.assetType  instrument.cusip  instrument.symbol  \\\n",
       "0                EQUITY         98422D105               XPEV   \n",
       "1                OPTION  0AAPL.OJ10127500  AAPL_031921P127.5   \n",
       "2                OPTION  0AAPL.OJ10130000    AAPL_031921P130   \n",
       "3                OPTION  0PTON.OJ10120000    PTON_031921P120   \n",
       "4                OPTION  0PTON.OJ10125000    PTON_031921P125   \n",
       "5                EQUITY         62914V106                NIO   \n",
       "6                OPTION  0AMD..CJ10100000     AMD_031921C100   \n",
       "7                OPTION  0AMD..AL20080000      AMD_012122C80   \n",
       "8                OPTION  0RKT..OJ10016000      RKT_031921P16   \n",
       "9                OPTION  0FB...OJ10250000      FB_031921P250   \n",
       "10               OPTION  0FB...OJ10255000      FB_031921P255   \n",
       "\n",
       "        instrument.description instrument.putCall instrument.underlyingSymbol  \n",
       "0                          NaN                NaN                         NaN  \n",
       "1   AAPL Mar 19 2021 127.5 Put                PUT                        AAPL  \n",
       "2   AAPL Mar 19 2021 130.0 Put                PUT                        AAPL  \n",
       "3   PTON Mar 19 2021 120.0 Put                PUT                        PTON  \n",
       "4   PTON Mar 19 2021 125.0 Put                PUT                        PTON  \n",
       "5                          NaN                NaN                         NaN  \n",
       "6   AMD Mar 19 2021 100.0 Call               CALL                         AMD  \n",
       "7    AMD Jan 21 2022 80.0 Call               CALL                         AMD  \n",
       "8     RKT Mar 19 2021 16.0 Put                PUT                         RKT  \n",
       "9     FB Mar 19 2021 250.0 Put                PUT                          FB  \n",
       "10    FB Mar 19 2021 255.0 Put                PUT                          FB  "
      ],
      "text/html": "<div>\n<style scoped>\n    .dataframe tbody tr th:only-of-type {\n        vertical-align: middle;\n    }\n\n    .dataframe tbody tr th {\n        vertical-align: top;\n    }\n\n    .dataframe thead th {\n        text-align: right;\n    }\n</style>\n<table border=\"1\" class=\"dataframe\">\n  <thead>\n    <tr style=\"text-align: right;\">\n      <th></th>\n      <th>shortQuantity</th>\n      <th>averagePrice</th>\n      <th>currentDayProfitLoss</th>\n      <th>currentDayProfitLossPercentage</th>\n      <th>longQuantity</th>\n      <th>settledLongQuantity</th>\n      <th>settledShortQuantity</th>\n      <th>marketValue</th>\n      <th>maintenanceRequirement</th>\n      <th>instrument.assetType</th>\n      <th>instrument.cusip</th>\n      <th>instrument.symbol</th>\n      <th>instrument.description</th>\n      <th>instrument.putCall</th>\n      <th>instrument.underlyingSymbol</th>\n    </tr>\n  </thead>\n  <tbody>\n    <tr>\n      <th>0</th>\n      <td>0.0</td>\n      <td>42.430</td>\n      <td>6.9500</td>\n      <td>2.85</td>\n      <td>5.0</td>\n      <td>5.0</td>\n      <td>0.0</td>\n      <td>250.7000</td>\n      <td>125.35</td>\n      <td>EQUITY</td>\n      <td>98422D105</td>\n      <td>XPEV</td>\n      <td>NaN</td>\n      <td>NaN</td>\n      <td>NaN</td>\n    </tr>\n    <tr>\n      <th>1</th>\n      <td>0.0</td>\n      <td>2.377</td>\n      <td>-16.5000</td>\n      <td>-6.98</td>\n      <td>1.0</td>\n      <td>1.0</td>\n      <td>0.0</td>\n      <td>220.0000</td>\n      <td>0.00</td>\n      <td>OPTION</td>\n      <td>0AAPL.OJ10127500</td>\n      <td>AAPL_031921P127.5</td>\n      <td>AAPL Mar 19 2021 127.5 Put</td>\n      <td>PUT</td>\n      <td>AAPL</td>\n    </tr>\n    <tr>\n      <th>2</th>\n      <td>1.0</td>\n      <td>3.113</td>\n      <td>19.0000</td>\n      <td>6.13</td>\n      <td>0.0</td>\n      <td>0.0</td>\n      <td>-1.0</td>\n      <td>-291.0000</td>\n      <td>250.00</td>\n      <td>OPTION</td>\n      <td>0AAPL.OJ10130000</td>\n      <td>AAPL_031921P130</td>\n      <td>AAPL Mar 19 2021 130.0 Put</td>\n      <td>PUT</td>\n      <td>AAPL</td>\n    </tr>\n    <tr>\n      <th>3</th>\n      <td>0.0</td>\n      <td>5.057</td>\n      <td>-14.5000</td>\n      <td>-6.29</td>\n      <td>1.0</td>\n      <td>1.0</td>\n      <td>0.0</td>\n      <td>216.0000</td>\n      <td>0.00</td>\n      <td>OPTION</td>\n      <td>0PTON.OJ10120000</td>\n      <td>PTON_031921P120</td>\n      <td>PTON Mar 19 2021 120.0 Put</td>\n      <td>PUT</td>\n      <td>PTON</td>\n    </tr>\n    <tr>\n      <th>4</th>\n      <td>1.0</td>\n      <td>6.443</td>\n      <td>25.0000</td>\n      <td>7.52</td>\n      <td>0.0</td>\n      <td>0.0</td>\n      <td>-1.0</td>\n      <td>-307.5000</td>\n      <td>500.00</td>\n      <td>OPTION</td>\n      <td>0PTON.OJ10125000</td>\n      <td>PTON_031921P125</td>\n      <td>PTON Mar 19 2021 125.0 Put</td>\n      <td>PUT</td>\n      <td>PTON</td>\n    </tr>\n    <tr>\n      <th>5</th>\n      <td>0.0</td>\n      <td>46.350</td>\n      <td>1.6155</td>\n      <td>0.51</td>\n      <td>5.0</td>\n      <td>5.0</td>\n      <td>0.0</td>\n      <td>315.8155</td>\n      <td>157.91</td>\n      <td>EQUITY</td>\n      <td>62914V106</td>\n      <td>NIO</td>\n      <td>NaN</td>\n      <td>NaN</td>\n      <td>NaN</td>\n    </tr>\n    <tr>\n      <th>6</th>\n      <td>1.0</td>\n      <td>2.443</td>\n      <td>-49.0000</td>\n      <td>-20.16</td>\n      <td>0.0</td>\n      <td>0.0</td>\n      <td>-1.0</td>\n      <td>-292.0000</td>\n      <td>0.00</td>\n      <td>OPTION</td>\n      <td>0AMD..CJ10100000</td>\n      <td>AMD_031921C100</td>\n      <td>AMD Mar 19 2021 100.0 Call</td>\n      <td>CALL</td>\n      <td>AMD</td>\n    </tr>\n    <tr>\n      <th>7</th>\n      <td>0.0</td>\n      <td>25.717</td>\n      <td>127.5000</td>\n      <td>5.54</td>\n      <td>1.0</td>\n      <td>1.0</td>\n      <td>0.0</td>\n      <td>2430.0000</td>\n      <td>0.00</td>\n      <td>OPTION</td>\n      <td>0AMD..AL20080000</td>\n      <td>AMD_012122C80</td>\n      <td>AMD Jan 21 2022 80.0 Call</td>\n      <td>CALL</td>\n      <td>AMD</td>\n    </tr>\n    <tr>\n      <th>8</th>\n      <td>1.0</td>\n      <td>0.293</td>\n      <td>-6.5000</td>\n      <td>-27.08</td>\n      <td>0.0</td>\n      <td>0.0</td>\n      <td>-1.0</td>\n      <td>-30.5000</td>\n      <td>190.50</td>\n      <td>OPTION</td>\n      <td>0RKT..OJ10016000</td>\n      <td>RKT_031921P16</td>\n      <td>RKT Mar 19 2021 16.0 Put</td>\n      <td>PUT</td>\n      <td>RKT</td>\n    </tr>\n    <tr>\n      <th>9</th>\n      <td>0.0</td>\n      <td>4.627</td>\n      <td>-37.5000</td>\n      <td>-8.93</td>\n      <td>1.0</td>\n      <td>1.0</td>\n      <td>0.0</td>\n      <td>382.5000</td>\n      <td>0.00</td>\n      <td>OPTION</td>\n      <td>0FB...OJ10250000</td>\n      <td>FB_031921P250</td>\n      <td>FB Mar 19 2021 250.0 Put</td>\n      <td>PUT</td>\n      <td>FB</td>\n    </tr>\n    <tr>\n      <th>10</th>\n      <td>1.0</td>\n      <td>6.063</td>\n      <td>47.5000</td>\n      <td>8.56</td>\n      <td>0.0</td>\n      <td>0.0</td>\n      <td>-1.0</td>\n      <td>-507.5000</td>\n      <td>500.00</td>\n      <td>OPTION</td>\n      <td>0FB...OJ10255000</td>\n      <td>FB_031921P255</td>\n      <td>FB Mar 19 2021 255.0 Put</td>\n      <td>PUT</td>\n      <td>FB</td>\n    </tr>\n  </tbody>\n</table>\n</div>"
     },
     "metadata": {},
     "execution_count": 101
    }
   ],
   "source": [
    "pd.json_normalize(df[\"securitiesAccount.positions\"][0])"
   ]
  },
  {
   "cell_type": "code",
   "execution_count": 105,
   "metadata": {},
   "outputs": [],
   "source": [
    "direction = c.Movers.Direction(\"down\")\n",
    "change = c.Movers.Change(\"percent\")"
   ]
  },
  {
   "cell_type": "code",
   "execution_count": 110,
   "metadata": {},
   "outputs": [],
   "source": [
    "m = c.get_movers(index=\"$SPX.X\", direction = direction, change = change)"
   ]
  },
  {
   "cell_type": "code",
   "execution_count": 111,
   "metadata": {},
   "outputs": [
    {
     "output_type": "execute_result",
     "data": {
      "text/plain": [
       "[{'change': -0.10095787064507925,\n",
       "  'description': 'Akamai Technologies, Inc. - Common Stock',\n",
       "  'direction': 'down',\n",
       "  'last': 106.06,\n",
       "  'symbol': 'AKAM',\n",
       "  'totalVolume': 3389309},\n",
       " {'change': -0.08444275389882079,\n",
       "  'description': 'Interpublic Group of Companies, Inc. (The) Common Stock',\n",
       "  'direction': 'down',\n",
       "  'last': 24.07,\n",
       "  'symbol': 'IPG',\n",
       "  'totalVolume': 2592882},\n",
       " {'change': -0.08117050532829145,\n",
       "  'description': 'FMC Corporation Common Stock',\n",
       "  'direction': 'down',\n",
       "  'last': 106.915,\n",
       "  'symbol': 'FMC',\n",
       "  'totalVolume': 464473},\n",
       " {'change': -0.05717623974313238,\n",
       "  'description': 'General Motors Company Common Stock',\n",
       "  'direction': 'down',\n",
       "  'last': 52.8547,\n",
       "  'symbol': 'GM',\n",
       "  'totalVolume': 20047029},\n",
       " {'change': -0.048107032703129056,\n",
       "  'description': 'Tesla, Inc.  - Common Stock',\n",
       "  'direction': 'down',\n",
       "  'last': 808.595,\n",
       "  'symbol': 'TSLA',\n",
       "  'totalVolume': 8118560},\n",
       " {'change': -0.045830538788285205,\n",
       "  'description': 'Incyte Corporation - Common Stock',\n",
       "  'direction': 'down',\n",
       "  'last': 85.36,\n",
       "  'symbol': 'INCY',\n",
       "  'totalVolume': 429777},\n",
       " {'change': -0.0453608247422681,\n",
       "  'description': 'Cisco Systems, Inc. - Common Stock',\n",
       "  'direction': 'down',\n",
       "  'last': 46.3,\n",
       "  'symbol': 'CSCO',\n",
       "  'totalVolume': 11390414},\n",
       " {'change': -0.04078549848942604,\n",
       "  'description': 'Leggett & Platt, Incorporated Common Stock',\n",
       "  'direction': 'down',\n",
       "  'last': 41.275,\n",
       "  'symbol': 'LEG',\n",
       "  'totalVolume': 226350},\n",
       " {'change': -0.037324649298597246,\n",
       "  'description': 'Hanesbrands Inc. Common Stock',\n",
       "  'direction': 'down',\n",
       "  'last': 19.215,\n",
       "  'symbol': 'HBI',\n",
       "  'totalVolume': 3073887},\n",
       " {'change': -0.03553028957186001,\n",
       "  'description': 'Masco Corporation Common Stock',\n",
       "  'direction': 'down',\n",
       "  'last': 54.29,\n",
       "  'symbol': 'MAS',\n",
       "  'totalVolume': 472913}]"
      ]
     },
     "metadata": {},
     "execution_count": 111
    }
   ],
   "source": [
    "m.json()"
   ]
  },
  {
   "cell_type": "code",
   "execution_count": 1,
   "metadata": {},
   "outputs": [],
   "source": [
    "import mibian as mb"
   ]
  },
  {
   "cell_type": "code",
   "execution_count": 65,
   "metadata": {},
   "outputs": [],
   "source": [
    "c = mb.BS([468.3, 450, 1, 9], volatility=120)"
   ]
  },
  {
   "cell_type": "code",
   "execution_count": 60,
   "metadata": {},
   "outputs": [
    {
     "output_type": "execute_result",
     "data": {
      "text/plain": [
       "-0.37939599268979585"
      ]
     },
     "metadata": {},
     "execution_count": 60
    }
   ],
   "source": [
    "c.putDelta"
   ]
  },
  {
   "cell_type": "code",
   "execution_count": 66,
   "metadata": {},
   "outputs": [
    {
     "output_type": "execute_result",
     "data": {
      "text/plain": [
       "0.5472176928306169"
      ]
     },
     "metadata": {},
     "execution_count": 66
    }
   ],
   "source": [
    "c.exerciceProbability"
   ]
  },
  {
   "cell_type": "code",
   "execution_count": null,
   "metadata": {},
   "outputs": [],
   "source": []
  }
 ]
}