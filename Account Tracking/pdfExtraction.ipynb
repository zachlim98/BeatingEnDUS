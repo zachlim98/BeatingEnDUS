{
 "metadata": {
  "language_info": {
   "codemirror_mode": {
    "name": "ipython",
    "version": 3
   },
   "file_extension": ".py",
   "mimetype": "text/x-python",
   "name": "python",
   "nbconvert_exporter": "python",
   "pygments_lexer": "ipython3",
   "version": "3.8.6-final"
  },
  "orig_nbformat": 2,
  "kernelspec": {
   "name": "python3",
   "display_name": "Python 3",
   "language": "python"
  }
 },
 "nbformat": 4,
 "nbformat_minor": 2,
 "cells": [
  {
   "cell_type": "code",
   "execution_count": 155,
   "metadata": {},
   "outputs": [],
   "source": [
    "import tabula\n",
    "import pandas as pd \n",
    "import plotly.express as px\n",
    "import numpy as np "
   ]
  },
  {
   "cell_type": "code",
   "execution_count": 2,
   "metadata": {},
   "outputs": [],
   "source": [
    "file = R\"P:\\Adulting\\Banking\\Tsel\\Account Statements\\Oct20_TD.pdf\""
   ]
  },
  {
   "cell_type": "code",
   "execution_count": 3,
   "metadata": {},
   "outputs": [
    {
     "output_type": "stream",
     "name": "stderr",
     "text": [
      "Got stderr: Feb 09, 2021 6:41:51 PM org.apache.pdfbox.pdmodel.font.FileSystemFontProvider loadDiskCache\nWARNING: New fonts found, font cache will be re-built\nFeb 09, 2021 6:41:51 PM org.apache.pdfbox.pdmodel.font.FileSystemFontProvider <init>\nWARNING: Building on-disk font cache, this may take a while\nFeb 09, 2021 6:41:53 PM org.apache.pdfbox.pdmodel.font.FileSystemFontProvider <init>\nWARNING: Finished building on-disk font cache, found 582 fonts\nFeb 09, 2021 6:41:53 PM org.apache.pdfbox.pdmodel.font.PDTrueTypeFont <init>\nWARNING: Could not read embedded TTF for font HelveticaNeueLTStd-Lt\njava.io.IOException: loca is mandatory\n\tat org.apache.fontbox.ttf.TTFParser.parseTables(TTFParser.java:209)\n\tat org.apache.fontbox.ttf.TTFParser.parse(TTFParser.java:150)\n\tat org.apache.fontbox.ttf.TTFParser.parse(TTFParser.java:106)\n\tat org.apache.pdfbox.pdmodel.font.PDTrueTypeFont.<init>(PDTrueTypeFont.java:198)\n\tat org.apache.pdfbox.pdmodel.font.PDFontFactory.createFont(PDFontFactory.java:89)\n\tat org.apache.pdfbox.pdmodel.PDResources.getFont(PDResources.java:146)\n\tat org.apache.pdfbox.contentstream.operator.text.SetFontAndSize.process(SetFontAndSize.java:66)\n\tat org.apache.pdfbox.contentstream.PDFStreamEngine.processOperator(PDFStreamEngine.java:933)\n\tat org.apache.pdfbox.contentstream.PDFStreamEngine.processStreamOperators(PDFStreamEngine.java:515)\n\tat org.apache.pdfbox.contentstream.PDFStreamEngine.processStream(PDFStreamEngine.java:489)\n\tat org.apache.pdfbox.contentstream.PDFStreamEngine.showForm(PDFStreamEngine.java:187)\n\tat org.apache.pdfbox.contentstream.operator.graphics.DrawObject.process(DrawObject.java:86)\n\tat org.apache.pdfbox.contentstream.PDFStreamEngine.processOperator(PDFStreamEngine.java:933)\n\tat org.apache.pdfbox.contentstream.PDFStreamEngine.processStreamOperators(PDFStreamEngine.java:515)\n\tat org.apache.pdfbox.contentstream.PDFStreamEngine.processStream(PDFStreamEngine.java:489)\n\tat org.apache.pdfbox.contentstream.PDFStreamEngine.showForm(PDFStreamEngine.java:187)\n\tat org.apache.pdfbox.contentstream.operator.graphics.DrawObject.process(DrawObject.java:86)\n\tat org.apache.pdfbox.contentstream.PDFStreamEngine.processOperator(PDFStreamEngine.java:933)\n\tat org.apache.pdfbox.contentstream.PDFStreamEngine.processStreamOperators(PDFStreamEngine.java:515)\n\tat org.apache.pdfbox.contentstream.PDFStreamEngine.processStream(PDFStreamEngine.java:489)\n\tat org.apache.pdfbox.contentstream.PDFStreamEngine.processPage(PDFStreamEngine.java:156)\n\tat technology.tabula.ObjectExtractor.extractPage(ObjectExtractor.java:26)\n\tat technology.tabula.PageIterator.next(PageIterator.java:29)\n\tat technology.tabula.CommandLineApp.extractFile(CommandLineApp.java:166)\n\tat technology.tabula.CommandLineApp.extractFileTables(CommandLineApp.java:129)\n\tat technology.tabula.CommandLineApp.extractTables(CommandLineApp.java:111)\n\tat technology.tabula.CommandLineApp.main(CommandLineApp.java:81)\n\nFeb 09, 2021 6:41:53 PM org.apache.pdfbox.pdmodel.font.PDTrueTypeFont <init>\nWARNING: Using fallback font 'TimesNewRomanPSMT' for 'HelveticaNeueLTStd-Lt'\nFeb 09, 2021 6:41:53 PM org.apache.pdfbox.pdmodel.font.PDTrueTypeFont <init>\nWARNING: Could not read embedded TTF for font HelveticaNeueLTStd-Lt\njava.io.IOException: loca is mandatory\n\tat org.apache.fontbox.ttf.TTFParser.parseTables(TTFParser.java:209)\n\tat org.apache.fontbox.ttf.TTFParser.parse(TTFParser.java:150)\n\tat org.apache.fontbox.ttf.TTFParser.parse(TTFParser.java:106)\n\tat org.apache.pdfbox.pdmodel.font.PDTrueTypeFont.<init>(PDTrueTypeFont.java:198)\n\tat org.apache.pdfbox.pdmodel.font.PDFontFactory.createFont(PDFontFactory.java:89)\n\tat org.apache.pdfbox.pdmodel.PDResources.getFont(PDResources.java:146)\n\tat org.apache.pdfbox.contentstream.operator.text.SetFontAndSize.process(SetFontAndSize.java:66)\n\tat org.apache.pdfbox.contentstream.PDFStreamEngine.processOperator(PDFStreamEngine.java:933)\n\tat org.apache.pdfbox.contentstream.PDFStreamEngine.processStreamOperators(PDFStreamEngine.java:515)\n\tat org.apache.pdfbox.contentstream.PDFStreamEngine.processStream(PDFStreamEngine.java:489)\n\tat org.apache.pdfbox.contentstream.PDFStreamEngine.showForm(PDFStreamEngine.java:187)\n\tat org.apache.pdfbox.rendering.PageDrawer.showForm(PageDrawer.java:1470)\n\tat org.apache.pdfbox.contentstream.operator.graphics.DrawObject.process(DrawObject.java:86)\n\tat org.apache.pdfbox.contentstream.PDFStreamEngine.processOperator(PDFStreamEngine.java:933)\n\tat org.apache.pdfbox.contentstream.PDFStreamEngine.processStreamOperators(PDFStreamEngine.java:515)\n\tat org.apache.pdfbox.contentstream.PDFStreamEngine.processStream(PDFStreamEngine.java:489)\n\tat org.apache.pdfbox.contentstream.PDFStreamEngine.showForm(PDFStreamEngine.java:187)\n\tat org.apache.pdfbox.rendering.PageDrawer.showForm(PageDrawer.java:1470)\n\tat org.apache.pdfbox.contentstream.operator.graphics.DrawObject.process(DrawObject.java:86)\n\tat org.apache.pdfbox.contentstream.PDFStreamEngine.processOperator(PDFStreamEngine.java:933)\n\tat org.apache.pdfbox.contentstream.PDFStreamEngine.processStreamOperators(PDFStreamEngine.java:515)\n\tat org.apache.pdfbox.contentstream.PDFStreamEngine.processStream(PDFStreamEngine.java:489)\n\tat org.apache.pdfbox.contentstream.PDFStreamEngine.processPage(PDFStreamEngine.java:156)\n\tat org.apache.pdfbox.rendering.PageDrawer.drawPage(PageDrawer.java:272)\n\tat org.apache.pdfbox.rendering.PDFRenderer.renderImage(PDFRenderer.java:321)\n\tat org.apache.pdfbox.rendering.PDFRenderer.renderImage(PDFRenderer.java:243)\n\tat org.apache.pdfbox.rendering.PDFRenderer.renderImageWithDPI(PDFRenderer.java:229)\n\tat technology.tabula.Utils.pageConvertToImage(Utils.java:285)\n\tat technology.tabula.detectors.NurminenDetectionAlgorithm.detect(NurminenDetectionAlgorithm.java:121)\n\tat technology.tabula.CommandLineApp$TableExtractor.extractTablesBasic(CommandLineApp.java:425)\n\tat technology.tabula.CommandLineApp$TableExtractor.extractTables(CommandLineApp.java:412)\n\tat technology.tabula.CommandLineApp.extractFile(CommandLineApp.java:185)\n\tat technology.tabula.CommandLineApp.extractFileTables(CommandLineApp.java:129)\n\tat technology.tabula.CommandLineApp.extractTables(CommandLineApp.java:111)\n\tat technology.tabula.CommandLineApp.main(CommandLineApp.java:81)\n\nFeb 09, 2021 6:41:53 PM org.apache.pdfbox.pdmodel.font.PDTrueTypeFont <init>\nWARNING: Using fallback font 'TimesNewRomanPSMT' for 'HelveticaNeueLTStd-Lt'\n\n"
     ]
    }
   ],
   "source": [
    "tables = tabula.read_pdf(file, pages=\"all\")"
   ]
  },
  {
   "cell_type": "code",
   "execution_count": 45,
   "metadata": {},
   "outputs": [],
   "source": [
    "part_1 = tables[4].iloc[2:,-1].dropna().str.replace(',','').astype(float)\n",
    "part_2 = tables[6].iloc[2:,-1].dropna().str.replace(',','').astype(float)\n",
    "acc_balance = pd.concat([part_1, part_2])"
   ]
  },
  {
   "cell_type": "code",
   "execution_count": 215,
   "metadata": {},
   "outputs": [
    {
     "output_type": "execute_result",
     "data": {
      "text/plain": [
       "   Unnamed: 0 Unnamed: 1 Unnamed: 2                        Type  \\\n",
       "2    10/12/20   10/13/20     Margin  Buy - Securities Purchased   \n",
       "3         NaN        NaN        NaN                         NaN   \n",
       "4         NaN        NaN        NaN                         NaN   \n",
       "5         NaN        NaN        NaN                         NaN   \n",
       "6         NaN        NaN        NaN                         NaN   \n",
       "7    10/12/20   10/13/20     Margin      Sell - Securities Sold   \n",
       "8         NaN        NaN        NaN                         NaN   \n",
       "9         NaN        NaN        NaN                         NaN   \n",
       "10        NaN        NaN        NaN                         NaN   \n",
       "11        NaN        NaN        NaN                         NaN   \n",
       "12   10/13/20   10/13/20     Margin             Journal - Other   \n",
       "13   10/15/20   10/16/20     Margin  Buy - Securities Purchased   \n",
       "14        NaN        NaN        NaN                         NaN   \n",
       "15        NaN        NaN        NaN                         NaN   \n",
       "16        NaN        NaN        NaN                         NaN   \n",
       "17        NaN        NaN        NaN                         NaN   \n",
       "18   10/19/20   10/20/20     Margin      Sell - Securities Sold   \n",
       "19        NaN        NaN        NaN                         NaN   \n",
       "20        NaN        NaN        NaN                         NaN   \n",
       "21        NaN        NaN        NaN                         NaN   \n",
       "22        NaN        NaN        NaN                         NaN   \n",
       "23   10/21/20   10/22/20     Margin      Sell - Securities Sold   \n",
       "24        NaN        NaN        NaN                         NaN   \n",
       "25        NaN        NaN        NaN                         NaN   \n",
       "26        NaN        NaN        NaN                         NaN   \n",
       "27        NaN        NaN        NaN                         NaN   \n",
       "28   10/21/20   10/22/20     Margin  Buy - Securities Purchased   \n",
       "29        NaN        NaN        NaN                         NaN   \n",
       "30        NaN        NaN        NaN                         NaN   \n",
       "31        NaN        NaN        NaN                         NaN   \n",
       "32        NaN        NaN        NaN                         NaN   \n",
       "33   10/22/20   10/22/20     Margin             Journal - Other   \n",
       "34   10/27/20   10/28/20     Margin  Buy - Securities Purchased   \n",
       "2    10/29/20   10/30/20     Margin  Buy - Securities Purchased   \n",
       "3         NaN        NaN        NaN                         NaN   \n",
       "4         NaN        NaN        NaN                         NaN   \n",
       "5         NaN        NaN        NaN                         NaN   \n",
       "6         NaN        NaN        NaN                         NaN   \n",
       "7    10/29/20   10/30/20     Margin  Buy - Securities Purchased   \n",
       "8         NaN        NaN        NaN                         NaN   \n",
       "9         NaN        NaN        NaN                         NaN   \n",
       "10        NaN        NaN        NaN                         NaN   \n",
       "11        NaN        NaN        NaN                         NaN   \n",
       "12   10/29/20   10/30/20     Margin      Sell - Securities Sold   \n",
       "13        NaN        NaN        NaN                         NaN   \n",
       "14        NaN        NaN        NaN                         NaN   \n",
       "15        NaN        NaN        NaN                         NaN   \n",
       "16        NaN        NaN        NaN                         NaN   \n",
       "17   10/29/20   10/30/20     Margin      Sell - Securities Sold   \n",
       "18        NaN        NaN        NaN                         NaN   \n",
       "19        NaN        NaN        NaN                         NaN   \n",
       "20        NaN        NaN        NaN                         NaN   \n",
       "21        NaN        NaN        NaN                         NaN   \n",
       "22   10/30/20   10/30/20     Margin            Div/Int - Income   \n",
       "23        NaN        NaN        NaN                         NaN   \n",
       "\n",
       "                           Details  Account Activity Unnamed: 5 Unnamed: 6  \\\n",
       "2                  PROSHARES TRUST               NaN          -          1   \n",
       "3   SQQQ Dec 18 20 20.0 P TO CLOSE               NaN        NaN        NaN   \n",
       "4              Commission/Fee 0.65               NaN        NaN        NaN   \n",
       "5              Regulatory Fee 0.01               NaN        NaN        NaN   \n",
       "6                     GST FEE 0.05               NaN        NaN        NaN   \n",
       "7                  PROSHARES TRUST               NaN          -         1-   \n",
       "8    SQQQ Mar 19 21 18.0 P TO OPEN               NaN        NaN        NaN   \n",
       "9              Commission/Fee 0.65               NaN        NaN        NaN   \n",
       "10             Regulatory Fee 0.02               NaN        NaN        NaN   \n",
       "11                    GST FEE 0.05               NaN        NaN        NaN   \n",
       "12             Courtesy Adjustment               NaN          -          -   \n",
       "13                 PROSHARES TRUST               NaN          -          1   \n",
       "14  SQQQ Mar 19 21 18.0 P TO CLOSE               NaN        NaN        NaN   \n",
       "15             Commission/Fee 0.65               NaN        NaN        NaN   \n",
       "16             Regulatory Fee 0.01               NaN        NaN        NaN   \n",
       "17                    GST FEE 0.05               NaN        NaN        NaN   \n",
       "18        BARRICK GOLD CORPORATION               NaN          -         1-   \n",
       "19   GOLD Nov 20 20 26.0 P TO OPEN               NaN        NaN        NaN   \n",
       "20             Commission/Fee 0.65               NaN        NaN        NaN   \n",
       "21             Regulatory Fee 0.01               NaN        NaN        NaN   \n",
       "22                    GST FEE 0.05               NaN        NaN        NaN   \n",
       "23             WORKHORSE GROUP INC               NaN          -         1-   \n",
       "24   WKHS Dec 18 20 18.0 P TO OPEN               NaN        NaN        NaN   \n",
       "25             Commission/Fee 0.65               NaN        NaN        NaN   \n",
       "26             Regulatory Fee 0.02               NaN        NaN        NaN   \n",
       "27                    GST FEE 0.05               NaN        NaN        NaN   \n",
       "28             WORKHORSE GROUP INC               NaN          -          1   \n",
       "29  WKHS Nov 20 20 20.0 P TO CLOSE               NaN        NaN        NaN   \n",
       "30             Commission/Fee 0.65               NaN        NaN        NaN   \n",
       "31             Regulatory Fee 0.01               NaN        NaN        NaN   \n",
       "32                    GST FEE 0.05               NaN        NaN        NaN   \n",
       "33             Courtesy Adjustment               NaN          -          -   \n",
       "34        BARRICK GOLD CORPORATION               NaN          -          1   \n",
       "2                      TWITTER INC               NaN          -          1   \n",
       "3    TWTR Nov 20 20 35.0 P TO OPEN               NaN        NaN        NaN   \n",
       "4              Commission/Fee 0.65               NaN        NaN        NaN   \n",
       "5              Regulatory Fee 0.01               NaN        NaN        NaN   \n",
       "6                     GST FEE 0.05               NaN        NaN        NaN   \n",
       "7                      TWITTER INC               NaN          -          1   \n",
       "8    TWTR Nov 20 20 65.0 C TO OPEN               NaN        NaN        NaN   \n",
       "9              Commission/Fee 0.65               NaN        NaN        NaN   \n",
       "10             Regulatory Fee 0.01               NaN        NaN        NaN   \n",
       "11                    GST FEE 0.05               NaN        NaN        NaN   \n",
       "12                     TWITTER INC               NaN          -         1-   \n",
       "13   TWTR Nov 20 20 40.0 P TO OPEN               NaN        NaN        NaN   \n",
       "14             Commission/Fee 0.65               NaN        NaN        NaN   \n",
       "15             Regulatory Fee 0.01               NaN        NaN        NaN   \n",
       "16                    GST FEE 0.05               NaN        NaN        NaN   \n",
       "17                     TWITTER INC               NaN          -         1-   \n",
       "18   TWTR Nov 20 20 60.0 C TO OPEN               NaN        NaN        NaN   \n",
       "19             Commission/Fee 0.65               NaN        NaN        NaN   \n",
       "20             Regulatory Fee 0.01               NaN        NaN        NaN   \n",
       "21                    GST FEE 0.05               NaN        NaN        NaN   \n",
       "22                 INTEREST CREDIT               NaN          -          -   \n",
       "23             Payable: 10/30/2020               NaN        NaN        NaN   \n",
       "\n",
       "   Unnamed: 7 Unnamed: 8 Unnamed: 9  \n",
       "2        3.35   (335.71)   3,888.37  \n",
       "3         NaN        NaN        NaN  \n",
       "4         NaN        NaN        NaN  \n",
       "5         NaN        NaN        NaN  \n",
       "6         NaN        NaN        NaN  \n",
       "7        3.75     374.28   4,262.65  \n",
       "8         NaN        NaN        NaN  \n",
       "9         NaN        NaN        NaN  \n",
       "10        NaN        NaN        NaN  \n",
       "11        NaN        NaN        NaN  \n",
       "12       0.00       0.02   4,262.67  \n",
       "13       3.80   (380.71)   3,881.96  \n",
       "14        NaN        NaN        NaN  \n",
       "15        NaN        NaN        NaN  \n",
       "16        NaN        NaN        NaN  \n",
       "17        NaN        NaN        NaN  \n",
       "18       0.61      60.29   3,942.25  \n",
       "19        NaN        NaN        NaN  \n",
       "20        NaN        NaN        NaN  \n",
       "21        NaN        NaN        NaN  \n",
       "22        NaN        NaN        NaN  \n",
       "23       3.18     317.28   4,259.53  \n",
       "24        NaN        NaN        NaN  \n",
       "25        NaN        NaN        NaN  \n",
       "26        NaN        NaN        NaN  \n",
       "27        NaN        NaN        NaN  \n",
       "28       2.97   (297.71)   3,961.82  \n",
       "29        NaN        NaN        NaN  \n",
       "30        NaN        NaN        NaN  \n",
       "31        NaN        NaN        NaN  \n",
       "32        NaN        NaN        NaN  \n",
       "33       0.00       0.01   3,961.83  \n",
       "34       0.81    (81.71)   3,880.12  \n",
       "2        0.26    (26.71)   3,853.41  \n",
       "3         NaN        NaN        NaN  \n",
       "4         NaN        NaN        NaN  \n",
       "5         NaN        NaN        NaN  \n",
       "6         NaN        NaN        NaN  \n",
       "7        0.86    (86.71)   3,766.70  \n",
       "8         NaN        NaN        NaN  \n",
       "9         NaN        NaN        NaN  \n",
       "10        NaN        NaN        NaN  \n",
       "11        NaN        NaN        NaN  \n",
       "12       0.68      67.29   3,833.99  \n",
       "13        NaN        NaN        NaN  \n",
       "14        NaN        NaN        NaN  \n",
       "15        NaN        NaN        NaN  \n",
       "16        NaN        NaN        NaN  \n",
       "17       1.60     159.29   3,993.28  \n",
       "18        NaN        NaN        NaN  \n",
       "19        NaN        NaN        NaN  \n",
       "20        NaN        NaN        NaN  \n",
       "21        NaN        NaN        NaN  \n",
       "22       0.00       0.02   3,993.30  \n",
       "23        NaN        NaN        NaN  "
      ],
      "text/html": "<div>\n<style scoped>\n    .dataframe tbody tr th:only-of-type {\n        vertical-align: middle;\n    }\n\n    .dataframe tbody tr th {\n        vertical-align: top;\n    }\n\n    .dataframe thead th {\n        text-align: right;\n    }\n</style>\n<table border=\"1\" class=\"dataframe\">\n  <thead>\n    <tr style=\"text-align: right;\">\n      <th></th>\n      <th>Unnamed: 0</th>\n      <th>Unnamed: 1</th>\n      <th>Unnamed: 2</th>\n      <th>Type</th>\n      <th>Details</th>\n      <th>Account Activity</th>\n      <th>Unnamed: 5</th>\n      <th>Unnamed: 6</th>\n      <th>Unnamed: 7</th>\n      <th>Unnamed: 8</th>\n      <th>Unnamed: 9</th>\n    </tr>\n  </thead>\n  <tbody>\n    <tr>\n      <th>2</th>\n      <td>10/12/20</td>\n      <td>10/13/20</td>\n      <td>Margin</td>\n      <td>Buy - Securities Purchased</td>\n      <td>PROSHARES TRUST</td>\n      <td>NaN</td>\n      <td>-</td>\n      <td>1</td>\n      <td>3.35</td>\n      <td>(335.71)</td>\n      <td>3,888.37</td>\n    </tr>\n    <tr>\n      <th>3</th>\n      <td>NaN</td>\n      <td>NaN</td>\n      <td>NaN</td>\n      <td>NaN</td>\n      <td>SQQQ Dec 18 20 20.0 P TO CLOSE</td>\n      <td>NaN</td>\n      <td>NaN</td>\n      <td>NaN</td>\n      <td>NaN</td>\n      <td>NaN</td>\n      <td>NaN</td>\n    </tr>\n    <tr>\n      <th>4</th>\n      <td>NaN</td>\n      <td>NaN</td>\n      <td>NaN</td>\n      <td>NaN</td>\n      <td>Commission/Fee 0.65</td>\n      <td>NaN</td>\n      <td>NaN</td>\n      <td>NaN</td>\n      <td>NaN</td>\n      <td>NaN</td>\n      <td>NaN</td>\n    </tr>\n    <tr>\n      <th>5</th>\n      <td>NaN</td>\n      <td>NaN</td>\n      <td>NaN</td>\n      <td>NaN</td>\n      <td>Regulatory Fee 0.01</td>\n      <td>NaN</td>\n      <td>NaN</td>\n      <td>NaN</td>\n      <td>NaN</td>\n      <td>NaN</td>\n      <td>NaN</td>\n    </tr>\n    <tr>\n      <th>6</th>\n      <td>NaN</td>\n      <td>NaN</td>\n      <td>NaN</td>\n      <td>NaN</td>\n      <td>GST FEE 0.05</td>\n      <td>NaN</td>\n      <td>NaN</td>\n      <td>NaN</td>\n      <td>NaN</td>\n      <td>NaN</td>\n      <td>NaN</td>\n    </tr>\n    <tr>\n      <th>7</th>\n      <td>10/12/20</td>\n      <td>10/13/20</td>\n      <td>Margin</td>\n      <td>Sell - Securities Sold</td>\n      <td>PROSHARES TRUST</td>\n      <td>NaN</td>\n      <td>-</td>\n      <td>1-</td>\n      <td>3.75</td>\n      <td>374.28</td>\n      <td>4,262.65</td>\n    </tr>\n    <tr>\n      <th>8</th>\n      <td>NaN</td>\n      <td>NaN</td>\n      <td>NaN</td>\n      <td>NaN</td>\n      <td>SQQQ Mar 19 21 18.0 P TO OPEN</td>\n      <td>NaN</td>\n      <td>NaN</td>\n      <td>NaN</td>\n      <td>NaN</td>\n      <td>NaN</td>\n      <td>NaN</td>\n    </tr>\n    <tr>\n      <th>9</th>\n      <td>NaN</td>\n      <td>NaN</td>\n      <td>NaN</td>\n      <td>NaN</td>\n      <td>Commission/Fee 0.65</td>\n      <td>NaN</td>\n      <td>NaN</td>\n      <td>NaN</td>\n      <td>NaN</td>\n      <td>NaN</td>\n      <td>NaN</td>\n    </tr>\n    <tr>\n      <th>10</th>\n      <td>NaN</td>\n      <td>NaN</td>\n      <td>NaN</td>\n      <td>NaN</td>\n      <td>Regulatory Fee 0.02</td>\n      <td>NaN</td>\n      <td>NaN</td>\n      <td>NaN</td>\n      <td>NaN</td>\n      <td>NaN</td>\n      <td>NaN</td>\n    </tr>\n    <tr>\n      <th>11</th>\n      <td>NaN</td>\n      <td>NaN</td>\n      <td>NaN</td>\n      <td>NaN</td>\n      <td>GST FEE 0.05</td>\n      <td>NaN</td>\n      <td>NaN</td>\n      <td>NaN</td>\n      <td>NaN</td>\n      <td>NaN</td>\n      <td>NaN</td>\n    </tr>\n    <tr>\n      <th>12</th>\n      <td>10/13/20</td>\n      <td>10/13/20</td>\n      <td>Margin</td>\n      <td>Journal - Other</td>\n      <td>Courtesy Adjustment</td>\n      <td>NaN</td>\n      <td>-</td>\n      <td>-</td>\n      <td>0.00</td>\n      <td>0.02</td>\n      <td>4,262.67</td>\n    </tr>\n    <tr>\n      <th>13</th>\n      <td>10/15/20</td>\n      <td>10/16/20</td>\n      <td>Margin</td>\n      <td>Buy - Securities Purchased</td>\n      <td>PROSHARES TRUST</td>\n      <td>NaN</td>\n      <td>-</td>\n      <td>1</td>\n      <td>3.80</td>\n      <td>(380.71)</td>\n      <td>3,881.96</td>\n    </tr>\n    <tr>\n      <th>14</th>\n      <td>NaN</td>\n      <td>NaN</td>\n      <td>NaN</td>\n      <td>NaN</td>\n      <td>SQQQ Mar 19 21 18.0 P TO CLOSE</td>\n      <td>NaN</td>\n      <td>NaN</td>\n      <td>NaN</td>\n      <td>NaN</td>\n      <td>NaN</td>\n      <td>NaN</td>\n    </tr>\n    <tr>\n      <th>15</th>\n      <td>NaN</td>\n      <td>NaN</td>\n      <td>NaN</td>\n      <td>NaN</td>\n      <td>Commission/Fee 0.65</td>\n      <td>NaN</td>\n      <td>NaN</td>\n      <td>NaN</td>\n      <td>NaN</td>\n      <td>NaN</td>\n      <td>NaN</td>\n    </tr>\n    <tr>\n      <th>16</th>\n      <td>NaN</td>\n      <td>NaN</td>\n      <td>NaN</td>\n      <td>NaN</td>\n      <td>Regulatory Fee 0.01</td>\n      <td>NaN</td>\n      <td>NaN</td>\n      <td>NaN</td>\n      <td>NaN</td>\n      <td>NaN</td>\n      <td>NaN</td>\n    </tr>\n    <tr>\n      <th>17</th>\n      <td>NaN</td>\n      <td>NaN</td>\n      <td>NaN</td>\n      <td>NaN</td>\n      <td>GST FEE 0.05</td>\n      <td>NaN</td>\n      <td>NaN</td>\n      <td>NaN</td>\n      <td>NaN</td>\n      <td>NaN</td>\n      <td>NaN</td>\n    </tr>\n    <tr>\n      <th>18</th>\n      <td>10/19/20</td>\n      <td>10/20/20</td>\n      <td>Margin</td>\n      <td>Sell - Securities Sold</td>\n      <td>BARRICK GOLD CORPORATION</td>\n      <td>NaN</td>\n      <td>-</td>\n      <td>1-</td>\n      <td>0.61</td>\n      <td>60.29</td>\n      <td>3,942.25</td>\n    </tr>\n    <tr>\n      <th>19</th>\n      <td>NaN</td>\n      <td>NaN</td>\n      <td>NaN</td>\n      <td>NaN</td>\n      <td>GOLD Nov 20 20 26.0 P TO OPEN</td>\n      <td>NaN</td>\n      <td>NaN</td>\n      <td>NaN</td>\n      <td>NaN</td>\n      <td>NaN</td>\n      <td>NaN</td>\n    </tr>\n    <tr>\n      <th>20</th>\n      <td>NaN</td>\n      <td>NaN</td>\n      <td>NaN</td>\n      <td>NaN</td>\n      <td>Commission/Fee 0.65</td>\n      <td>NaN</td>\n      <td>NaN</td>\n      <td>NaN</td>\n      <td>NaN</td>\n      <td>NaN</td>\n      <td>NaN</td>\n    </tr>\n    <tr>\n      <th>21</th>\n      <td>NaN</td>\n      <td>NaN</td>\n      <td>NaN</td>\n      <td>NaN</td>\n      <td>Regulatory Fee 0.01</td>\n      <td>NaN</td>\n      <td>NaN</td>\n      <td>NaN</td>\n      <td>NaN</td>\n      <td>NaN</td>\n      <td>NaN</td>\n    </tr>\n    <tr>\n      <th>22</th>\n      <td>NaN</td>\n      <td>NaN</td>\n      <td>NaN</td>\n      <td>NaN</td>\n      <td>GST FEE 0.05</td>\n      <td>NaN</td>\n      <td>NaN</td>\n      <td>NaN</td>\n      <td>NaN</td>\n      <td>NaN</td>\n      <td>NaN</td>\n    </tr>\n    <tr>\n      <th>23</th>\n      <td>10/21/20</td>\n      <td>10/22/20</td>\n      <td>Margin</td>\n      <td>Sell - Securities Sold</td>\n      <td>WORKHORSE GROUP INC</td>\n      <td>NaN</td>\n      <td>-</td>\n      <td>1-</td>\n      <td>3.18</td>\n      <td>317.28</td>\n      <td>4,259.53</td>\n    </tr>\n    <tr>\n      <th>24</th>\n      <td>NaN</td>\n      <td>NaN</td>\n      <td>NaN</td>\n      <td>NaN</td>\n      <td>WKHS Dec 18 20 18.0 P TO OPEN</td>\n      <td>NaN</td>\n      <td>NaN</td>\n      <td>NaN</td>\n      <td>NaN</td>\n      <td>NaN</td>\n      <td>NaN</td>\n    </tr>\n    <tr>\n      <th>25</th>\n      <td>NaN</td>\n      <td>NaN</td>\n      <td>NaN</td>\n      <td>NaN</td>\n      <td>Commission/Fee 0.65</td>\n      <td>NaN</td>\n      <td>NaN</td>\n      <td>NaN</td>\n      <td>NaN</td>\n      <td>NaN</td>\n      <td>NaN</td>\n    </tr>\n    <tr>\n      <th>26</th>\n      <td>NaN</td>\n      <td>NaN</td>\n      <td>NaN</td>\n      <td>NaN</td>\n      <td>Regulatory Fee 0.02</td>\n      <td>NaN</td>\n      <td>NaN</td>\n      <td>NaN</td>\n      <td>NaN</td>\n      <td>NaN</td>\n      <td>NaN</td>\n    </tr>\n    <tr>\n      <th>27</th>\n      <td>NaN</td>\n      <td>NaN</td>\n      <td>NaN</td>\n      <td>NaN</td>\n      <td>GST FEE 0.05</td>\n      <td>NaN</td>\n      <td>NaN</td>\n      <td>NaN</td>\n      <td>NaN</td>\n      <td>NaN</td>\n      <td>NaN</td>\n    </tr>\n    <tr>\n      <th>28</th>\n      <td>10/21/20</td>\n      <td>10/22/20</td>\n      <td>Margin</td>\n      <td>Buy - Securities Purchased</td>\n      <td>WORKHORSE GROUP INC</td>\n      <td>NaN</td>\n      <td>-</td>\n      <td>1</td>\n      <td>2.97</td>\n      <td>(297.71)</td>\n      <td>3,961.82</td>\n    </tr>\n    <tr>\n      <th>29</th>\n      <td>NaN</td>\n      <td>NaN</td>\n      <td>NaN</td>\n      <td>NaN</td>\n      <td>WKHS Nov 20 20 20.0 P TO CLOSE</td>\n      <td>NaN</td>\n      <td>NaN</td>\n      <td>NaN</td>\n      <td>NaN</td>\n      <td>NaN</td>\n      <td>NaN</td>\n    </tr>\n    <tr>\n      <th>30</th>\n      <td>NaN</td>\n      <td>NaN</td>\n      <td>NaN</td>\n      <td>NaN</td>\n      <td>Commission/Fee 0.65</td>\n      <td>NaN</td>\n      <td>NaN</td>\n      <td>NaN</td>\n      <td>NaN</td>\n      <td>NaN</td>\n      <td>NaN</td>\n    </tr>\n    <tr>\n      <th>31</th>\n      <td>NaN</td>\n      <td>NaN</td>\n      <td>NaN</td>\n      <td>NaN</td>\n      <td>Regulatory Fee 0.01</td>\n      <td>NaN</td>\n      <td>NaN</td>\n      <td>NaN</td>\n      <td>NaN</td>\n      <td>NaN</td>\n      <td>NaN</td>\n    </tr>\n    <tr>\n      <th>32</th>\n      <td>NaN</td>\n      <td>NaN</td>\n      <td>NaN</td>\n      <td>NaN</td>\n      <td>GST FEE 0.05</td>\n      <td>NaN</td>\n      <td>NaN</td>\n      <td>NaN</td>\n      <td>NaN</td>\n      <td>NaN</td>\n      <td>NaN</td>\n    </tr>\n    <tr>\n      <th>33</th>\n      <td>10/22/20</td>\n      <td>10/22/20</td>\n      <td>Margin</td>\n      <td>Journal - Other</td>\n      <td>Courtesy Adjustment</td>\n      <td>NaN</td>\n      <td>-</td>\n      <td>-</td>\n      <td>0.00</td>\n      <td>0.01</td>\n      <td>3,961.83</td>\n    </tr>\n    <tr>\n      <th>34</th>\n      <td>10/27/20</td>\n      <td>10/28/20</td>\n      <td>Margin</td>\n      <td>Buy - Securities Purchased</td>\n      <td>BARRICK GOLD CORPORATION</td>\n      <td>NaN</td>\n      <td>-</td>\n      <td>1</td>\n      <td>0.81</td>\n      <td>(81.71)</td>\n      <td>3,880.12</td>\n    </tr>\n    <tr>\n      <th>2</th>\n      <td>10/29/20</td>\n      <td>10/30/20</td>\n      <td>Margin</td>\n      <td>Buy - Securities Purchased</td>\n      <td>TWITTER INC</td>\n      <td>NaN</td>\n      <td>-</td>\n      <td>1</td>\n      <td>0.26</td>\n      <td>(26.71)</td>\n      <td>3,853.41</td>\n    </tr>\n    <tr>\n      <th>3</th>\n      <td>NaN</td>\n      <td>NaN</td>\n      <td>NaN</td>\n      <td>NaN</td>\n      <td>TWTR Nov 20 20 35.0 P TO OPEN</td>\n      <td>NaN</td>\n      <td>NaN</td>\n      <td>NaN</td>\n      <td>NaN</td>\n      <td>NaN</td>\n      <td>NaN</td>\n    </tr>\n    <tr>\n      <th>4</th>\n      <td>NaN</td>\n      <td>NaN</td>\n      <td>NaN</td>\n      <td>NaN</td>\n      <td>Commission/Fee 0.65</td>\n      <td>NaN</td>\n      <td>NaN</td>\n      <td>NaN</td>\n      <td>NaN</td>\n      <td>NaN</td>\n      <td>NaN</td>\n    </tr>\n    <tr>\n      <th>5</th>\n      <td>NaN</td>\n      <td>NaN</td>\n      <td>NaN</td>\n      <td>NaN</td>\n      <td>Regulatory Fee 0.01</td>\n      <td>NaN</td>\n      <td>NaN</td>\n      <td>NaN</td>\n      <td>NaN</td>\n      <td>NaN</td>\n      <td>NaN</td>\n    </tr>\n    <tr>\n      <th>6</th>\n      <td>NaN</td>\n      <td>NaN</td>\n      <td>NaN</td>\n      <td>NaN</td>\n      <td>GST FEE 0.05</td>\n      <td>NaN</td>\n      <td>NaN</td>\n      <td>NaN</td>\n      <td>NaN</td>\n      <td>NaN</td>\n      <td>NaN</td>\n    </tr>\n    <tr>\n      <th>7</th>\n      <td>10/29/20</td>\n      <td>10/30/20</td>\n      <td>Margin</td>\n      <td>Buy - Securities Purchased</td>\n      <td>TWITTER INC</td>\n      <td>NaN</td>\n      <td>-</td>\n      <td>1</td>\n      <td>0.86</td>\n      <td>(86.71)</td>\n      <td>3,766.70</td>\n    </tr>\n    <tr>\n      <th>8</th>\n      <td>NaN</td>\n      <td>NaN</td>\n      <td>NaN</td>\n      <td>NaN</td>\n      <td>TWTR Nov 20 20 65.0 C TO OPEN</td>\n      <td>NaN</td>\n      <td>NaN</td>\n      <td>NaN</td>\n      <td>NaN</td>\n      <td>NaN</td>\n      <td>NaN</td>\n    </tr>\n    <tr>\n      <th>9</th>\n      <td>NaN</td>\n      <td>NaN</td>\n      <td>NaN</td>\n      <td>NaN</td>\n      <td>Commission/Fee 0.65</td>\n      <td>NaN</td>\n      <td>NaN</td>\n      <td>NaN</td>\n      <td>NaN</td>\n      <td>NaN</td>\n      <td>NaN</td>\n    </tr>\n    <tr>\n      <th>10</th>\n      <td>NaN</td>\n      <td>NaN</td>\n      <td>NaN</td>\n      <td>NaN</td>\n      <td>Regulatory Fee 0.01</td>\n      <td>NaN</td>\n      <td>NaN</td>\n      <td>NaN</td>\n      <td>NaN</td>\n      <td>NaN</td>\n      <td>NaN</td>\n    </tr>\n    <tr>\n      <th>11</th>\n      <td>NaN</td>\n      <td>NaN</td>\n      <td>NaN</td>\n      <td>NaN</td>\n      <td>GST FEE 0.05</td>\n      <td>NaN</td>\n      <td>NaN</td>\n      <td>NaN</td>\n      <td>NaN</td>\n      <td>NaN</td>\n      <td>NaN</td>\n    </tr>\n    <tr>\n      <th>12</th>\n      <td>10/29/20</td>\n      <td>10/30/20</td>\n      <td>Margin</td>\n      <td>Sell - Securities Sold</td>\n      <td>TWITTER INC</td>\n      <td>NaN</td>\n      <td>-</td>\n      <td>1-</td>\n      <td>0.68</td>\n      <td>67.29</td>\n      <td>3,833.99</td>\n    </tr>\n    <tr>\n      <th>13</th>\n      <td>NaN</td>\n      <td>NaN</td>\n      <td>NaN</td>\n      <td>NaN</td>\n      <td>TWTR Nov 20 20 40.0 P TO OPEN</td>\n      <td>NaN</td>\n      <td>NaN</td>\n      <td>NaN</td>\n      <td>NaN</td>\n      <td>NaN</td>\n      <td>NaN</td>\n    </tr>\n    <tr>\n      <th>14</th>\n      <td>NaN</td>\n      <td>NaN</td>\n      <td>NaN</td>\n      <td>NaN</td>\n      <td>Commission/Fee 0.65</td>\n      <td>NaN</td>\n      <td>NaN</td>\n      <td>NaN</td>\n      <td>NaN</td>\n      <td>NaN</td>\n      <td>NaN</td>\n    </tr>\n    <tr>\n      <th>15</th>\n      <td>NaN</td>\n      <td>NaN</td>\n      <td>NaN</td>\n      <td>NaN</td>\n      <td>Regulatory Fee 0.01</td>\n      <td>NaN</td>\n      <td>NaN</td>\n      <td>NaN</td>\n      <td>NaN</td>\n      <td>NaN</td>\n      <td>NaN</td>\n    </tr>\n    <tr>\n      <th>16</th>\n      <td>NaN</td>\n      <td>NaN</td>\n      <td>NaN</td>\n      <td>NaN</td>\n      <td>GST FEE 0.05</td>\n      <td>NaN</td>\n      <td>NaN</td>\n      <td>NaN</td>\n      <td>NaN</td>\n      <td>NaN</td>\n      <td>NaN</td>\n    </tr>\n    <tr>\n      <th>17</th>\n      <td>10/29/20</td>\n      <td>10/30/20</td>\n      <td>Margin</td>\n      <td>Sell - Securities Sold</td>\n      <td>TWITTER INC</td>\n      <td>NaN</td>\n      <td>-</td>\n      <td>1-</td>\n      <td>1.60</td>\n      <td>159.29</td>\n      <td>3,993.28</td>\n    </tr>\n    <tr>\n      <th>18</th>\n      <td>NaN</td>\n      <td>NaN</td>\n      <td>NaN</td>\n      <td>NaN</td>\n      <td>TWTR Nov 20 20 60.0 C TO OPEN</td>\n      <td>NaN</td>\n      <td>NaN</td>\n      <td>NaN</td>\n      <td>NaN</td>\n      <td>NaN</td>\n      <td>NaN</td>\n    </tr>\n    <tr>\n      <th>19</th>\n      <td>NaN</td>\n      <td>NaN</td>\n      <td>NaN</td>\n      <td>NaN</td>\n      <td>Commission/Fee 0.65</td>\n      <td>NaN</td>\n      <td>NaN</td>\n      <td>NaN</td>\n      <td>NaN</td>\n      <td>NaN</td>\n      <td>NaN</td>\n    </tr>\n    <tr>\n      <th>20</th>\n      <td>NaN</td>\n      <td>NaN</td>\n      <td>NaN</td>\n      <td>NaN</td>\n      <td>Regulatory Fee 0.01</td>\n      <td>NaN</td>\n      <td>NaN</td>\n      <td>NaN</td>\n      <td>NaN</td>\n      <td>NaN</td>\n      <td>NaN</td>\n    </tr>\n    <tr>\n      <th>21</th>\n      <td>NaN</td>\n      <td>NaN</td>\n      <td>NaN</td>\n      <td>NaN</td>\n      <td>GST FEE 0.05</td>\n      <td>NaN</td>\n      <td>NaN</td>\n      <td>NaN</td>\n      <td>NaN</td>\n      <td>NaN</td>\n      <td>NaN</td>\n    </tr>\n    <tr>\n      <th>22</th>\n      <td>10/30/20</td>\n      <td>10/30/20</td>\n      <td>Margin</td>\n      <td>Div/Int - Income</td>\n      <td>INTEREST CREDIT</td>\n      <td>NaN</td>\n      <td>-</td>\n      <td>-</td>\n      <td>0.00</td>\n      <td>0.02</td>\n      <td>3,993.30</td>\n    </tr>\n    <tr>\n      <th>23</th>\n      <td>NaN</td>\n      <td>NaN</td>\n      <td>NaN</td>\n      <td>NaN</td>\n      <td>Payable: 10/30/2020</td>\n      <td>NaN</td>\n      <td>NaN</td>\n      <td>NaN</td>\n      <td>NaN</td>\n      <td>NaN</td>\n      <td>NaN</td>\n    </tr>\n  </tbody>\n</table>\n</div>"
     },
     "metadata": {},
     "execution_count": 215
    }
   ],
   "source": [
    "df"
   ]
  },
  {
   "cell_type": "code",
   "execution_count": 214,
   "metadata": {},
   "outputs": [
    {
     "output_type": "error",
     "ename": "ValueError",
     "evalue": "cannot mask with array containing NA / NaN values",
     "traceback": [
      "\u001b[1;31m---------------------------------------------------------------------------\u001b[0m",
      "\u001b[1;31mValueError\u001b[0m                                Traceback (most recent call last)",
      "\u001b[1;32m<ipython-input-214-3275fed5ef6f>\u001b[0m in \u001b[0;36m<module>\u001b[1;34m\u001b[0m\n\u001b[1;32m----> 1\u001b[1;33m \u001b[0mdf\u001b[0m \u001b[1;33m=\u001b[0m \u001b[0mdf\u001b[0m\u001b[1;33m.\u001b[0m\u001b[0mdrop\u001b[0m\u001b[1;33m(\u001b[0m\u001b[0mdf\u001b[0m\u001b[1;33m[\u001b[0m\u001b[1;33m(\u001b[0m\u001b[0mdf\u001b[0m\u001b[1;33m.\u001b[0m\u001b[0mType\u001b[0m\u001b[1;33m.\u001b[0m\u001b[0mstr\u001b[0m\u001b[1;33m.\u001b[0m\u001b[0mcontains\u001b[0m\u001b[1;33m(\u001b[0m\u001b[1;34m\"Journal\"\u001b[0m\u001b[1;33m)\u001b[0m\u001b[1;33m)\u001b[0m\u001b[1;33m]\u001b[0m\u001b[1;33m.\u001b[0m\u001b[0mindex\u001b[0m\u001b[1;33m)\u001b[0m\u001b[1;33m\u001b[0m\u001b[1;33m\u001b[0m\u001b[0m\n\u001b[0m",
      "\u001b[1;32mx:\\Environments\\Backtesting\\lib\\site-packages\\pandas\\core\\frame.py\u001b[0m in \u001b[0;36m__getitem__\u001b[1;34m(self, key)\u001b[0m\n\u001b[0;32m   2788\u001b[0m \u001b[1;33m\u001b[0m\u001b[0m\n\u001b[0;32m   2789\u001b[0m         \u001b[1;31m# Do we have a (boolean) 1d indexer?\u001b[0m\u001b[1;33m\u001b[0m\u001b[1;33m\u001b[0m\u001b[1;33m\u001b[0m\u001b[0m\n\u001b[1;32m-> 2790\u001b[1;33m         \u001b[1;32mif\u001b[0m \u001b[0mcom\u001b[0m\u001b[1;33m.\u001b[0m\u001b[0mis_bool_indexer\u001b[0m\u001b[1;33m(\u001b[0m\u001b[0mkey\u001b[0m\u001b[1;33m)\u001b[0m\u001b[1;33m:\u001b[0m\u001b[1;33m\u001b[0m\u001b[1;33m\u001b[0m\u001b[0m\n\u001b[0m\u001b[0;32m   2791\u001b[0m             \u001b[1;32mreturn\u001b[0m \u001b[0mself\u001b[0m\u001b[1;33m.\u001b[0m\u001b[0m_getitem_bool_array\u001b[0m\u001b[1;33m(\u001b[0m\u001b[0mkey\u001b[0m\u001b[1;33m)\u001b[0m\u001b[1;33m\u001b[0m\u001b[1;33m\u001b[0m\u001b[0m\n\u001b[0;32m   2792\u001b[0m \u001b[1;33m\u001b[0m\u001b[0m\n",
      "\u001b[1;32mx:\\Environments\\Backtesting\\lib\\site-packages\\pandas\\core\\common.py\u001b[0m in \u001b[0;36mis_bool_indexer\u001b[1;34m(key)\u001b[0m\n\u001b[0;32m    134\u001b[0m             \u001b[1;32mif\u001b[0m \u001b[1;32mnot\u001b[0m \u001b[0mlib\u001b[0m\u001b[1;33m.\u001b[0m\u001b[0mis_bool_array\u001b[0m\u001b[1;33m(\u001b[0m\u001b[0mkey\u001b[0m\u001b[1;33m)\u001b[0m\u001b[1;33m:\u001b[0m\u001b[1;33m\u001b[0m\u001b[1;33m\u001b[0m\u001b[0m\n\u001b[0;32m    135\u001b[0m                 \u001b[1;32mif\u001b[0m \u001b[0misna\u001b[0m\u001b[1;33m(\u001b[0m\u001b[0mkey\u001b[0m\u001b[1;33m)\u001b[0m\u001b[1;33m.\u001b[0m\u001b[0many\u001b[0m\u001b[1;33m(\u001b[0m\u001b[1;33m)\u001b[0m\u001b[1;33m:\u001b[0m\u001b[1;33m\u001b[0m\u001b[1;33m\u001b[0m\u001b[0m\n\u001b[1;32m--> 136\u001b[1;33m                     \u001b[1;32mraise\u001b[0m \u001b[0mValueError\u001b[0m\u001b[1;33m(\u001b[0m\u001b[0mna_msg\u001b[0m\u001b[1;33m)\u001b[0m\u001b[1;33m\u001b[0m\u001b[1;33m\u001b[0m\u001b[0m\n\u001b[0m\u001b[0;32m    137\u001b[0m                 \u001b[1;32mreturn\u001b[0m \u001b[1;32mFalse\u001b[0m\u001b[1;33m\u001b[0m\u001b[1;33m\u001b[0m\u001b[0m\n\u001b[0;32m    138\u001b[0m             \u001b[1;32mreturn\u001b[0m \u001b[1;32mTrue\u001b[0m\u001b[1;33m\u001b[0m\u001b[1;33m\u001b[0m\u001b[0m\n",
      "\u001b[1;31mValueError\u001b[0m: cannot mask with array containing NA / NaN values"
     ]
    }
   ],
   "source": [
    "df = df.drop(df[(df.Type.str.contains(\"Journal\"))].index)"
   ]
  },
  {
   "cell_type": "code",
   "execution_count": 211,
   "metadata": {},
   "outputs": [],
   "source": [
    "df = combined\n",
    "df = df.rename(columns={\"Unnamed: 4\" : \"Details\", \"Unnamed: 3\" : \"Type\"})"
   ]
  },
  {
   "cell_type": "code",
   "execution_count": 204,
   "metadata": {},
   "outputs": [],
   "source": [
    "df = df.drop(df[(df.Details.str.contains(\"Commission\")) | (df.Details.str.contains(\"Regulatory\")) | (df.Details.str.contains(\"GST\")) | (df.Type.str.contains(\"Journal\"))].index)"
   ]
  },
  {
   "cell_type": "code",
   "execution_count": 205,
   "metadata": {},
   "outputs": [
    {
     "output_type": "execute_result",
     "data": {
      "text/plain": [
       "   Unnamed: 0 Unnamed: 1 Unnamed: 2                        Type  \\\n",
       "2    10/12/20   10/13/20     Margin  Buy - Securities Purchased   \n",
       "3         NaN        NaN        NaN                         NaN   \n",
       "7    10/12/20   10/13/20     Margin      Sell - Securities Sold   \n",
       "8         NaN        NaN        NaN                         NaN   \n",
       "13   10/15/20   10/16/20     Margin  Buy - Securities Purchased   \n",
       "18   10/19/20   10/20/20     Margin      Sell - Securities Sold   \n",
       "23   10/21/20   10/22/20     Margin      Sell - Securities Sold   \n",
       "24        NaN        NaN        NaN                         NaN   \n",
       "28   10/21/20   10/22/20     Margin  Buy - Securities Purchased   \n",
       "29        NaN        NaN        NaN                         NaN   \n",
       "34   10/27/20   10/28/20     Margin  Buy - Securities Purchased   \n",
       "2    10/29/20   10/30/20     Margin  Buy - Securities Purchased   \n",
       "3         NaN        NaN        NaN                         NaN   \n",
       "7    10/29/20   10/30/20     Margin  Buy - Securities Purchased   \n",
       "8         NaN        NaN        NaN                         NaN   \n",
       "13        NaN        NaN        NaN                         NaN   \n",
       "18        NaN        NaN        NaN                         NaN   \n",
       "23        NaN        NaN        NaN                         NaN   \n",
       "\n",
       "                           Details  Account Activity Unnamed: 5 Unnamed: 6  \\\n",
       "2                  PROSHARES TRUST               NaN          -          1   \n",
       "3   SQQQ Dec 18 20 20.0 P TO CLOSE               NaN        NaN        NaN   \n",
       "7                  PROSHARES TRUST               NaN          -         1-   \n",
       "8    SQQQ Mar 19 21 18.0 P TO OPEN               NaN        NaN        NaN   \n",
       "13                 PROSHARES TRUST               NaN          -          1   \n",
       "18        BARRICK GOLD CORPORATION               NaN          -         1-   \n",
       "23             WORKHORSE GROUP INC               NaN          -         1-   \n",
       "24   WKHS Dec 18 20 18.0 P TO OPEN               NaN        NaN        NaN   \n",
       "28             WORKHORSE GROUP INC               NaN          -          1   \n",
       "29  WKHS Nov 20 20 20.0 P TO CLOSE               NaN        NaN        NaN   \n",
       "34        BARRICK GOLD CORPORATION               NaN          -          1   \n",
       "2                      TWITTER INC               NaN          -          1   \n",
       "3    TWTR Nov 20 20 35.0 P TO OPEN               NaN        NaN        NaN   \n",
       "7                      TWITTER INC               NaN          -          1   \n",
       "8    TWTR Nov 20 20 65.0 C TO OPEN               NaN        NaN        NaN   \n",
       "13   TWTR Nov 20 20 40.0 P TO OPEN               NaN        NaN        NaN   \n",
       "18   TWTR Nov 20 20 60.0 C TO OPEN               NaN        NaN        NaN   \n",
       "23             Payable: 10/30/2020               NaN        NaN        NaN   \n",
       "\n",
       "   Unnamed: 7 Unnamed: 8 Unnamed: 9  \n",
       "2        3.35   (335.71)   3,888.37  \n",
       "3         NaN        NaN        NaN  \n",
       "7        3.75     374.28   4,262.65  \n",
       "8         NaN        NaN        NaN  \n",
       "13       3.80   (380.71)   3,881.96  \n",
       "18       0.61      60.29   3,942.25  \n",
       "23       3.18     317.28   4,259.53  \n",
       "24        NaN        NaN        NaN  \n",
       "28       2.97   (297.71)   3,961.82  \n",
       "29        NaN        NaN        NaN  \n",
       "34       0.81    (81.71)   3,880.12  \n",
       "2        0.26    (26.71)   3,853.41  \n",
       "3         NaN        NaN        NaN  \n",
       "7        0.86    (86.71)   3,766.70  \n",
       "8         NaN        NaN        NaN  \n",
       "13        NaN        NaN        NaN  \n",
       "18        NaN        NaN        NaN  \n",
       "23        NaN        NaN        NaN  "
      ],
      "text/html": "<div>\n<style scoped>\n    .dataframe tbody tr th:only-of-type {\n        vertical-align: middle;\n    }\n\n    .dataframe tbody tr th {\n        vertical-align: top;\n    }\n\n    .dataframe thead th {\n        text-align: right;\n    }\n</style>\n<table border=\"1\" class=\"dataframe\">\n  <thead>\n    <tr style=\"text-align: right;\">\n      <th></th>\n      <th>Unnamed: 0</th>\n      <th>Unnamed: 1</th>\n      <th>Unnamed: 2</th>\n      <th>Type</th>\n      <th>Details</th>\n      <th>Account Activity</th>\n      <th>Unnamed: 5</th>\n      <th>Unnamed: 6</th>\n      <th>Unnamed: 7</th>\n      <th>Unnamed: 8</th>\n      <th>Unnamed: 9</th>\n    </tr>\n  </thead>\n  <tbody>\n    <tr>\n      <th>2</th>\n      <td>10/12/20</td>\n      <td>10/13/20</td>\n      <td>Margin</td>\n      <td>Buy - Securities Purchased</td>\n      <td>PROSHARES TRUST</td>\n      <td>NaN</td>\n      <td>-</td>\n      <td>1</td>\n      <td>3.35</td>\n      <td>(335.71)</td>\n      <td>3,888.37</td>\n    </tr>\n    <tr>\n      <th>3</th>\n      <td>NaN</td>\n      <td>NaN</td>\n      <td>NaN</td>\n      <td>NaN</td>\n      <td>SQQQ Dec 18 20 20.0 P TO CLOSE</td>\n      <td>NaN</td>\n      <td>NaN</td>\n      <td>NaN</td>\n      <td>NaN</td>\n      <td>NaN</td>\n      <td>NaN</td>\n    </tr>\n    <tr>\n      <th>7</th>\n      <td>10/12/20</td>\n      <td>10/13/20</td>\n      <td>Margin</td>\n      <td>Sell - Securities Sold</td>\n      <td>PROSHARES TRUST</td>\n      <td>NaN</td>\n      <td>-</td>\n      <td>1-</td>\n      <td>3.75</td>\n      <td>374.28</td>\n      <td>4,262.65</td>\n    </tr>\n    <tr>\n      <th>8</th>\n      <td>NaN</td>\n      <td>NaN</td>\n      <td>NaN</td>\n      <td>NaN</td>\n      <td>SQQQ Mar 19 21 18.0 P TO OPEN</td>\n      <td>NaN</td>\n      <td>NaN</td>\n      <td>NaN</td>\n      <td>NaN</td>\n      <td>NaN</td>\n      <td>NaN</td>\n    </tr>\n    <tr>\n      <th>13</th>\n      <td>10/15/20</td>\n      <td>10/16/20</td>\n      <td>Margin</td>\n      <td>Buy - Securities Purchased</td>\n      <td>PROSHARES TRUST</td>\n      <td>NaN</td>\n      <td>-</td>\n      <td>1</td>\n      <td>3.80</td>\n      <td>(380.71)</td>\n      <td>3,881.96</td>\n    </tr>\n    <tr>\n      <th>18</th>\n      <td>10/19/20</td>\n      <td>10/20/20</td>\n      <td>Margin</td>\n      <td>Sell - Securities Sold</td>\n      <td>BARRICK GOLD CORPORATION</td>\n      <td>NaN</td>\n      <td>-</td>\n      <td>1-</td>\n      <td>0.61</td>\n      <td>60.29</td>\n      <td>3,942.25</td>\n    </tr>\n    <tr>\n      <th>23</th>\n      <td>10/21/20</td>\n      <td>10/22/20</td>\n      <td>Margin</td>\n      <td>Sell - Securities Sold</td>\n      <td>WORKHORSE GROUP INC</td>\n      <td>NaN</td>\n      <td>-</td>\n      <td>1-</td>\n      <td>3.18</td>\n      <td>317.28</td>\n      <td>4,259.53</td>\n    </tr>\n    <tr>\n      <th>24</th>\n      <td>NaN</td>\n      <td>NaN</td>\n      <td>NaN</td>\n      <td>NaN</td>\n      <td>WKHS Dec 18 20 18.0 P TO OPEN</td>\n      <td>NaN</td>\n      <td>NaN</td>\n      <td>NaN</td>\n      <td>NaN</td>\n      <td>NaN</td>\n      <td>NaN</td>\n    </tr>\n    <tr>\n      <th>28</th>\n      <td>10/21/20</td>\n      <td>10/22/20</td>\n      <td>Margin</td>\n      <td>Buy - Securities Purchased</td>\n      <td>WORKHORSE GROUP INC</td>\n      <td>NaN</td>\n      <td>-</td>\n      <td>1</td>\n      <td>2.97</td>\n      <td>(297.71)</td>\n      <td>3,961.82</td>\n    </tr>\n    <tr>\n      <th>29</th>\n      <td>NaN</td>\n      <td>NaN</td>\n      <td>NaN</td>\n      <td>NaN</td>\n      <td>WKHS Nov 20 20 20.0 P TO CLOSE</td>\n      <td>NaN</td>\n      <td>NaN</td>\n      <td>NaN</td>\n      <td>NaN</td>\n      <td>NaN</td>\n      <td>NaN</td>\n    </tr>\n    <tr>\n      <th>34</th>\n      <td>10/27/20</td>\n      <td>10/28/20</td>\n      <td>Margin</td>\n      <td>Buy - Securities Purchased</td>\n      <td>BARRICK GOLD CORPORATION</td>\n      <td>NaN</td>\n      <td>-</td>\n      <td>1</td>\n      <td>0.81</td>\n      <td>(81.71)</td>\n      <td>3,880.12</td>\n    </tr>\n    <tr>\n      <th>2</th>\n      <td>10/29/20</td>\n      <td>10/30/20</td>\n      <td>Margin</td>\n      <td>Buy - Securities Purchased</td>\n      <td>TWITTER INC</td>\n      <td>NaN</td>\n      <td>-</td>\n      <td>1</td>\n      <td>0.26</td>\n      <td>(26.71)</td>\n      <td>3,853.41</td>\n    </tr>\n    <tr>\n      <th>3</th>\n      <td>NaN</td>\n      <td>NaN</td>\n      <td>NaN</td>\n      <td>NaN</td>\n      <td>TWTR Nov 20 20 35.0 P TO OPEN</td>\n      <td>NaN</td>\n      <td>NaN</td>\n      <td>NaN</td>\n      <td>NaN</td>\n      <td>NaN</td>\n      <td>NaN</td>\n    </tr>\n    <tr>\n      <th>7</th>\n      <td>10/29/20</td>\n      <td>10/30/20</td>\n      <td>Margin</td>\n      <td>Buy - Securities Purchased</td>\n      <td>TWITTER INC</td>\n      <td>NaN</td>\n      <td>-</td>\n      <td>1</td>\n      <td>0.86</td>\n      <td>(86.71)</td>\n      <td>3,766.70</td>\n    </tr>\n    <tr>\n      <th>8</th>\n      <td>NaN</td>\n      <td>NaN</td>\n      <td>NaN</td>\n      <td>NaN</td>\n      <td>TWTR Nov 20 20 65.0 C TO OPEN</td>\n      <td>NaN</td>\n      <td>NaN</td>\n      <td>NaN</td>\n      <td>NaN</td>\n      <td>NaN</td>\n      <td>NaN</td>\n    </tr>\n    <tr>\n      <th>13</th>\n      <td>NaN</td>\n      <td>NaN</td>\n      <td>NaN</td>\n      <td>NaN</td>\n      <td>TWTR Nov 20 20 40.0 P TO OPEN</td>\n      <td>NaN</td>\n      <td>NaN</td>\n      <td>NaN</td>\n      <td>NaN</td>\n      <td>NaN</td>\n      <td>NaN</td>\n    </tr>\n    <tr>\n      <th>18</th>\n      <td>NaN</td>\n      <td>NaN</td>\n      <td>NaN</td>\n      <td>NaN</td>\n      <td>TWTR Nov 20 20 60.0 C TO OPEN</td>\n      <td>NaN</td>\n      <td>NaN</td>\n      <td>NaN</td>\n      <td>NaN</td>\n      <td>NaN</td>\n      <td>NaN</td>\n    </tr>\n    <tr>\n      <th>23</th>\n      <td>NaN</td>\n      <td>NaN</td>\n      <td>NaN</td>\n      <td>NaN</td>\n      <td>Payable: 10/30/2020</td>\n      <td>NaN</td>\n      <td>NaN</td>\n      <td>NaN</td>\n      <td>NaN</td>\n      <td>NaN</td>\n      <td>NaN</td>\n    </tr>\n  </tbody>\n</table>\n</div>"
     },
     "metadata": {},
     "execution_count": 205
    }
   ],
   "source": [
    "df"
   ]
  },
  {
   "cell_type": "code",
   "execution_count": 51,
   "metadata": {},
   "outputs": [],
   "source": [
    "data = pd.read_csv(\"fdfd.csv\",sep=';',skiprows=6)"
   ]
  },
  {
   "cell_type": "code",
   "execution_count": 72,
   "metadata": {},
   "outputs": [
    {
     "output_type": "execute_result",
     "data": {
      "text/plain": [
       "2             0\n",
       "3             0\n",
       "4             0\n",
       "5             0\n",
       "6             0\n",
       "         ...   \n",
       "394    6,407.12\n",
       "395    6,407.12\n",
       "396    6,494.47\n",
       "397    6,494.47\n",
       "398    6,591.89\n",
       "Name: DataExporter(SellClose), Length: 397, dtype: object"
      ]
     },
     "metadata": {},
     "execution_count": 72
    }
   ],
   "source": [
    "data.iloc[:,1].str.strip(')').replace('Sell to Close', None).dropna()"
   ]
  },
  {
   "cell_type": "code",
   "execution_count": 131,
   "metadata": {},
   "outputs": [],
   "source": [
    "balance = data.iloc[::2].iloc[:,[1,5]].rename(columns={\"DataExporter(SellClose)\" : \"Balance\", \"4/27/20\" : \"Date\"}).replace(0,np.nan).dropna()\n",
    "balance[\"Balance\"] = balance[\"Balance\"].str.replace(',','').str.replace(')','').astype(float)\n",
    "balance[\"Date\"] = balance[\"Date\"].apply(pd.to_datetime)"
   ]
  },
  {
   "cell_type": "code",
   "execution_count": 134,
   "metadata": {},
   "outputs": [],
   "source": [
    "balance = balance.replace(0,np.nan).dropna()"
   ]
  },
  {
   "cell_type": "code",
   "execution_count": 151,
   "metadata": {},
   "outputs": [
    {
     "output_type": "execute_result",
     "data": {
      "text/plain": [
       "     Balance       Date\n",
       "222  3673.22 2020-10-01\n",
       "224  3664.22 2020-10-02\n",
       "226  3703.51 2020-10-05\n",
       "228  3690.51 2020-10-06\n",
       "230  3715.51 2020-10-07\n",
       "..       ...        ...\n",
       "390  6200.79 2021-02-02\n",
       "392  6331.39 2021-02-03\n",
       "394  6407.12 2021-02-04\n",
       "396  6494.47 2021-02-05\n",
       "398  6591.89 2021-02-08\n",
       "\n",
       "[89 rows x 2 columns]"
      ],
      "text/html": "<div>\n<style scoped>\n    .dataframe tbody tr th:only-of-type {\n        vertical-align: middle;\n    }\n\n    .dataframe tbody tr th {\n        vertical-align: top;\n    }\n\n    .dataframe thead th {\n        text-align: right;\n    }\n</style>\n<table border=\"1\" class=\"dataframe\">\n  <thead>\n    <tr style=\"text-align: right;\">\n      <th></th>\n      <th>Balance</th>\n      <th>Date</th>\n    </tr>\n  </thead>\n  <tbody>\n    <tr>\n      <th>222</th>\n      <td>3673.22</td>\n      <td>2020-10-01</td>\n    </tr>\n    <tr>\n      <th>224</th>\n      <td>3664.22</td>\n      <td>2020-10-02</td>\n    </tr>\n    <tr>\n      <th>226</th>\n      <td>3703.51</td>\n      <td>2020-10-05</td>\n    </tr>\n    <tr>\n      <th>228</th>\n      <td>3690.51</td>\n      <td>2020-10-06</td>\n    </tr>\n    <tr>\n      <th>230</th>\n      <td>3715.51</td>\n      <td>2020-10-07</td>\n    </tr>\n    <tr>\n      <th>...</th>\n      <td>...</td>\n      <td>...</td>\n    </tr>\n    <tr>\n      <th>390</th>\n      <td>6200.79</td>\n      <td>2021-02-02</td>\n    </tr>\n    <tr>\n      <th>392</th>\n      <td>6331.39</td>\n      <td>2021-02-03</td>\n    </tr>\n    <tr>\n      <th>394</th>\n      <td>6407.12</td>\n      <td>2021-02-04</td>\n    </tr>\n    <tr>\n      <th>396</th>\n      <td>6494.47</td>\n      <td>2021-02-05</td>\n    </tr>\n    <tr>\n      <th>398</th>\n      <td>6591.89</td>\n      <td>2021-02-08</td>\n    </tr>\n  </tbody>\n</table>\n<p>89 rows × 2 columns</p>\n</div>"
     },
     "metadata": {},
     "execution_count": 151
    }
   ],
   "source": [
    "balance"
   ]
  },
  {
   "cell_type": "code",
   "execution_count": 156,
   "metadata": {},
   "outputs": [
    {
     "output_type": "display_data",
     "data": {
      "application/vnd.plotly.v1+json": {
       "config": {
        "plotlyServerURL": "https://plot.ly"
       },
       "data": [
        {
         "hovertemplate": "Date=%{x}<br>Balance=%{y}<extra></extra>",
         "legendgroup": "",
         "line": {
          "color": "#636efa",
          "dash": "solid"
         },
         "mode": "lines",
         "name": "",
         "orientation": "v",
         "showlegend": false,
         "type": "scatter",
         "x": [
          "2020-10-01T00:00:00",
          "2020-10-02T00:00:00",
          "2020-10-05T00:00:00",
          "2020-10-06T00:00:00",
          "2020-10-07T00:00:00",
          "2020-10-08T00:00:00",
          "2020-10-09T00:00:00",
          "2020-10-12T00:00:00",
          "2020-10-13T00:00:00",
          "2020-10-14T00:00:00",
          "2020-10-15T00:00:00",
          "2020-10-16T00:00:00",
          "2020-10-19T00:00:00",
          "2020-10-20T00:00:00",
          "2020-10-21T00:00:00",
          "2020-10-22T00:00:00",
          "2020-10-23T00:00:00",
          "2020-10-26T00:00:00",
          "2020-10-27T00:00:00",
          "2020-10-28T00:00:00",
          "2020-10-29T00:00:00",
          "2020-10-30T00:00:00",
          "2020-11-02T00:00:00",
          "2020-11-03T00:00:00",
          "2020-11-04T00:00:00",
          "2020-11-05T00:00:00",
          "2020-11-06T00:00:00",
          "2020-11-09T00:00:00",
          "2020-11-10T00:00:00",
          "2020-11-11T00:00:00",
          "2020-11-12T00:00:00",
          "2020-11-13T00:00:00",
          "2020-11-16T00:00:00",
          "2020-11-17T00:00:00",
          "2020-11-18T00:00:00",
          "2020-11-19T00:00:00",
          "2020-11-20T00:00:00",
          "2020-11-23T00:00:00",
          "2020-11-24T00:00:00",
          "2020-11-25T00:00:00",
          "2020-11-27T00:00:00",
          "2020-11-30T00:00:00",
          "2020-12-01T00:00:00",
          "2020-12-02T00:00:00",
          "2020-12-03T00:00:00",
          "2020-12-04T00:00:00",
          "2020-12-07T00:00:00",
          "2020-12-08T00:00:00",
          "2020-12-09T00:00:00",
          "2020-12-10T00:00:00",
          "2020-12-11T00:00:00",
          "2020-12-14T00:00:00",
          "2020-12-15T00:00:00",
          "2020-12-16T00:00:00",
          "2020-12-17T00:00:00",
          "2020-12-18T00:00:00",
          "2020-12-21T00:00:00",
          "2020-12-22T00:00:00",
          "2020-12-23T00:00:00",
          "2020-12-24T00:00:00",
          "2020-12-28T00:00:00",
          "2020-12-29T00:00:00",
          "2020-12-30T00:00:00",
          "2020-12-31T00:00:00",
          "2021-01-04T00:00:00",
          "2021-01-05T00:00:00",
          "2021-01-06T00:00:00",
          "2021-01-07T00:00:00",
          "2021-01-08T00:00:00",
          "2021-01-11T00:00:00",
          "2021-01-12T00:00:00",
          "2021-01-13T00:00:00",
          "2021-01-14T00:00:00",
          "2021-01-15T00:00:00",
          "2021-01-19T00:00:00",
          "2021-01-20T00:00:00",
          "2021-01-21T00:00:00",
          "2021-01-22T00:00:00",
          "2021-01-25T00:00:00",
          "2021-01-26T00:00:00",
          "2021-01-27T00:00:00",
          "2021-01-28T00:00:00",
          "2021-01-29T00:00:00",
          "2021-02-01T00:00:00",
          "2021-02-02T00:00:00",
          "2021-02-03T00:00:00",
          "2021-02-04T00:00:00",
          "2021-02-05T00:00:00",
          "2021-02-08T00:00:00"
         ],
         "xaxis": "x",
         "y": [
          3673.22,
          3664.22,
          3703.51,
          3690.51,
          3715.51,
          3699.51,
          3749.51,
          3620.67,
          3607.67,
          3592.67,
          3618.96,
          3651.96,
          3614.25,
          3549.25,
          3547.83,
          3569.83,
          3568.83,
          3508.83,
          3480.12,
          3441.12,
          3424.28,
          3395.46,
          3425.46,
          3505.46,
          3445.46,
          3510.46,
          3497.46,
          3584.46,
          3569.04,
          3568.04,
          3558.33,
          3576.33,
          3583.9,
          3580.9,
          3583.9,
          3581.9,
          3585.9,
          3573.9,
          3562.9,
          3571.9,
          3544.9,
          3545.92,
          3585.92,
          3590.92,
          3592.92,
          3594.92,
          3597.21,
          3597.21,
          3597.21,
          3535.36,
          3564.37,
          3731.37,
          3897.37,
          3924.37,
          3947.37,
          3819.37,
          4148.16,
          4179.16,
          4138.74,
          4120.74,
          4121.74,
          4047.74,
          4199.19,
          4111.7,
          4201.8,
          4264.55,
          4057.5,
          4449.78,
          4425.28,
          4700.73,
          4598.13,
          4357.74,
          4798.59,
          4525.14,
          4522.09,
          4599.54,
          4770.94,
          4855.67,
          4725.47,
          6132.1,
          6883.75,
          6159.88,
          6625.12,
          6497.46,
          6200.79,
          6331.39,
          6407.12,
          6494.47,
          6591.89
         ],
         "yaxis": "y"
        }
       ],
       "layout": {
        "legend": {
         "tracegroupgap": 0
        },
        "margin": {
         "t": 60
        },
        "template": {
         "data": {
          "bar": [
           {
            "error_x": {
             "color": "#2a3f5f"
            },
            "error_y": {
             "color": "#2a3f5f"
            },
            "marker": {
             "line": {
              "color": "#E5ECF6",
              "width": 0.5
             }
            },
            "type": "bar"
           }
          ],
          "barpolar": [
           {
            "marker": {
             "line": {
              "color": "#E5ECF6",
              "width": 0.5
             }
            },
            "type": "barpolar"
           }
          ],
          "carpet": [
           {
            "aaxis": {
             "endlinecolor": "#2a3f5f",
             "gridcolor": "white",
             "linecolor": "white",
             "minorgridcolor": "white",
             "startlinecolor": "#2a3f5f"
            },
            "baxis": {
             "endlinecolor": "#2a3f5f",
             "gridcolor": "white",
             "linecolor": "white",
             "minorgridcolor": "white",
             "startlinecolor": "#2a3f5f"
            },
            "type": "carpet"
           }
          ],
          "choropleth": [
           {
            "colorbar": {
             "outlinewidth": 0,
             "ticks": ""
            },
            "type": "choropleth"
           }
          ],
          "contour": [
           {
            "colorbar": {
             "outlinewidth": 0,
             "ticks": ""
            },
            "colorscale": [
             [
              0,
              "#0d0887"
             ],
             [
              0.1111111111111111,
              "#46039f"
             ],
             [
              0.2222222222222222,
              "#7201a8"
             ],
             [
              0.3333333333333333,
              "#9c179e"
             ],
             [
              0.4444444444444444,
              "#bd3786"
             ],
             [
              0.5555555555555556,
              "#d8576b"
             ],
             [
              0.6666666666666666,
              "#ed7953"
             ],
             [
              0.7777777777777778,
              "#fb9f3a"
             ],
             [
              0.8888888888888888,
              "#fdca26"
             ],
             [
              1,
              "#f0f921"
             ]
            ],
            "type": "contour"
           }
          ],
          "contourcarpet": [
           {
            "colorbar": {
             "outlinewidth": 0,
             "ticks": ""
            },
            "type": "contourcarpet"
           }
          ],
          "heatmap": [
           {
            "colorbar": {
             "outlinewidth": 0,
             "ticks": ""
            },
            "colorscale": [
             [
              0,
              "#0d0887"
             ],
             [
              0.1111111111111111,
              "#46039f"
             ],
             [
              0.2222222222222222,
              "#7201a8"
             ],
             [
              0.3333333333333333,
              "#9c179e"
             ],
             [
              0.4444444444444444,
              "#bd3786"
             ],
             [
              0.5555555555555556,
              "#d8576b"
             ],
             [
              0.6666666666666666,
              "#ed7953"
             ],
             [
              0.7777777777777778,
              "#fb9f3a"
             ],
             [
              0.8888888888888888,
              "#fdca26"
             ],
             [
              1,
              "#f0f921"
             ]
            ],
            "type": "heatmap"
           }
          ],
          "heatmapgl": [
           {
            "colorbar": {
             "outlinewidth": 0,
             "ticks": ""
            },
            "colorscale": [
             [
              0,
              "#0d0887"
             ],
             [
              0.1111111111111111,
              "#46039f"
             ],
             [
              0.2222222222222222,
              "#7201a8"
             ],
             [
              0.3333333333333333,
              "#9c179e"
             ],
             [
              0.4444444444444444,
              "#bd3786"
             ],
             [
              0.5555555555555556,
              "#d8576b"
             ],
             [
              0.6666666666666666,
              "#ed7953"
             ],
             [
              0.7777777777777778,
              "#fb9f3a"
             ],
             [
              0.8888888888888888,
              "#fdca26"
             ],
             [
              1,
              "#f0f921"
             ]
            ],
            "type": "heatmapgl"
           }
          ],
          "histogram": [
           {
            "marker": {
             "colorbar": {
              "outlinewidth": 0,
              "ticks": ""
             }
            },
            "type": "histogram"
           }
          ],
          "histogram2d": [
           {
            "colorbar": {
             "outlinewidth": 0,
             "ticks": ""
            },
            "colorscale": [
             [
              0,
              "#0d0887"
             ],
             [
              0.1111111111111111,
              "#46039f"
             ],
             [
              0.2222222222222222,
              "#7201a8"
             ],
             [
              0.3333333333333333,
              "#9c179e"
             ],
             [
              0.4444444444444444,
              "#bd3786"
             ],
             [
              0.5555555555555556,
              "#d8576b"
             ],
             [
              0.6666666666666666,
              "#ed7953"
             ],
             [
              0.7777777777777778,
              "#fb9f3a"
             ],
             [
              0.8888888888888888,
              "#fdca26"
             ],
             [
              1,
              "#f0f921"
             ]
            ],
            "type": "histogram2d"
           }
          ],
          "histogram2dcontour": [
           {
            "colorbar": {
             "outlinewidth": 0,
             "ticks": ""
            },
            "colorscale": [
             [
              0,
              "#0d0887"
             ],
             [
              0.1111111111111111,
              "#46039f"
             ],
             [
              0.2222222222222222,
              "#7201a8"
             ],
             [
              0.3333333333333333,
              "#9c179e"
             ],
             [
              0.4444444444444444,
              "#bd3786"
             ],
             [
              0.5555555555555556,
              "#d8576b"
             ],
             [
              0.6666666666666666,
              "#ed7953"
             ],
             [
              0.7777777777777778,
              "#fb9f3a"
             ],
             [
              0.8888888888888888,
              "#fdca26"
             ],
             [
              1,
              "#f0f921"
             ]
            ],
            "type": "histogram2dcontour"
           }
          ],
          "mesh3d": [
           {
            "colorbar": {
             "outlinewidth": 0,
             "ticks": ""
            },
            "type": "mesh3d"
           }
          ],
          "parcoords": [
           {
            "line": {
             "colorbar": {
              "outlinewidth": 0,
              "ticks": ""
             }
            },
            "type": "parcoords"
           }
          ],
          "pie": [
           {
            "automargin": true,
            "type": "pie"
           }
          ],
          "scatter": [
           {
            "marker": {
             "colorbar": {
              "outlinewidth": 0,
              "ticks": ""
             }
            },
            "type": "scatter"
           }
          ],
          "scatter3d": [
           {
            "line": {
             "colorbar": {
              "outlinewidth": 0,
              "ticks": ""
             }
            },
            "marker": {
             "colorbar": {
              "outlinewidth": 0,
              "ticks": ""
             }
            },
            "type": "scatter3d"
           }
          ],
          "scattercarpet": [
           {
            "marker": {
             "colorbar": {
              "outlinewidth": 0,
              "ticks": ""
             }
            },
            "type": "scattercarpet"
           }
          ],
          "scattergeo": [
           {
            "marker": {
             "colorbar": {
              "outlinewidth": 0,
              "ticks": ""
             }
            },
            "type": "scattergeo"
           }
          ],
          "scattergl": [
           {
            "marker": {
             "colorbar": {
              "outlinewidth": 0,
              "ticks": ""
             }
            },
            "type": "scattergl"
           }
          ],
          "scattermapbox": [
           {
            "marker": {
             "colorbar": {
              "outlinewidth": 0,
              "ticks": ""
             }
            },
            "type": "scattermapbox"
           }
          ],
          "scatterpolar": [
           {
            "marker": {
             "colorbar": {
              "outlinewidth": 0,
              "ticks": ""
             }
            },
            "type": "scatterpolar"
           }
          ],
          "scatterpolargl": [
           {
            "marker": {
             "colorbar": {
              "outlinewidth": 0,
              "ticks": ""
             }
            },
            "type": "scatterpolargl"
           }
          ],
          "scatterternary": [
           {
            "marker": {
             "colorbar": {
              "outlinewidth": 0,
              "ticks": ""
             }
            },
            "type": "scatterternary"
           }
          ],
          "surface": [
           {
            "colorbar": {
             "outlinewidth": 0,
             "ticks": ""
            },
            "colorscale": [
             [
              0,
              "#0d0887"
             ],
             [
              0.1111111111111111,
              "#46039f"
             ],
             [
              0.2222222222222222,
              "#7201a8"
             ],
             [
              0.3333333333333333,
              "#9c179e"
             ],
             [
              0.4444444444444444,
              "#bd3786"
             ],
             [
              0.5555555555555556,
              "#d8576b"
             ],
             [
              0.6666666666666666,
              "#ed7953"
             ],
             [
              0.7777777777777778,
              "#fb9f3a"
             ],
             [
              0.8888888888888888,
              "#fdca26"
             ],
             [
              1,
              "#f0f921"
             ]
            ],
            "type": "surface"
           }
          ],
          "table": [
           {
            "cells": {
             "fill": {
              "color": "#EBF0F8"
             },
             "line": {
              "color": "white"
             }
            },
            "header": {
             "fill": {
              "color": "#C8D4E3"
             },
             "line": {
              "color": "white"
             }
            },
            "type": "table"
           }
          ]
         },
         "layout": {
          "annotationdefaults": {
           "arrowcolor": "#2a3f5f",
           "arrowhead": 0,
           "arrowwidth": 1
          },
          "autotypenumbers": "strict",
          "coloraxis": {
           "colorbar": {
            "outlinewidth": 0,
            "ticks": ""
           }
          },
          "colorscale": {
           "diverging": [
            [
             0,
             "#8e0152"
            ],
            [
             0.1,
             "#c51b7d"
            ],
            [
             0.2,
             "#de77ae"
            ],
            [
             0.3,
             "#f1b6da"
            ],
            [
             0.4,
             "#fde0ef"
            ],
            [
             0.5,
             "#f7f7f7"
            ],
            [
             0.6,
             "#e6f5d0"
            ],
            [
             0.7,
             "#b8e186"
            ],
            [
             0.8,
             "#7fbc41"
            ],
            [
             0.9,
             "#4d9221"
            ],
            [
             1,
             "#276419"
            ]
           ],
           "sequential": [
            [
             0,
             "#0d0887"
            ],
            [
             0.1111111111111111,
             "#46039f"
            ],
            [
             0.2222222222222222,
             "#7201a8"
            ],
            [
             0.3333333333333333,
             "#9c179e"
            ],
            [
             0.4444444444444444,
             "#bd3786"
            ],
            [
             0.5555555555555556,
             "#d8576b"
            ],
            [
             0.6666666666666666,
             "#ed7953"
            ],
            [
             0.7777777777777778,
             "#fb9f3a"
            ],
            [
             0.8888888888888888,
             "#fdca26"
            ],
            [
             1,
             "#f0f921"
            ]
           ],
           "sequentialminus": [
            [
             0,
             "#0d0887"
            ],
            [
             0.1111111111111111,
             "#46039f"
            ],
            [
             0.2222222222222222,
             "#7201a8"
            ],
            [
             0.3333333333333333,
             "#9c179e"
            ],
            [
             0.4444444444444444,
             "#bd3786"
            ],
            [
             0.5555555555555556,
             "#d8576b"
            ],
            [
             0.6666666666666666,
             "#ed7953"
            ],
            [
             0.7777777777777778,
             "#fb9f3a"
            ],
            [
             0.8888888888888888,
             "#fdca26"
            ],
            [
             1,
             "#f0f921"
            ]
           ]
          },
          "colorway": [
           "#636efa",
           "#EF553B",
           "#00cc96",
           "#ab63fa",
           "#FFA15A",
           "#19d3f3",
           "#FF6692",
           "#B6E880",
           "#FF97FF",
           "#FECB52"
          ],
          "font": {
           "color": "#2a3f5f"
          },
          "geo": {
           "bgcolor": "white",
           "lakecolor": "white",
           "landcolor": "#E5ECF6",
           "showlakes": true,
           "showland": true,
           "subunitcolor": "white"
          },
          "hoverlabel": {
           "align": "left"
          },
          "hovermode": "closest",
          "mapbox": {
           "style": "light"
          },
          "paper_bgcolor": "white",
          "plot_bgcolor": "#E5ECF6",
          "polar": {
           "angularaxis": {
            "gridcolor": "white",
            "linecolor": "white",
            "ticks": ""
           },
           "bgcolor": "#E5ECF6",
           "radialaxis": {
            "gridcolor": "white",
            "linecolor": "white",
            "ticks": ""
           }
          },
          "scene": {
           "xaxis": {
            "backgroundcolor": "#E5ECF6",
            "gridcolor": "white",
            "gridwidth": 2,
            "linecolor": "white",
            "showbackground": true,
            "ticks": "",
            "zerolinecolor": "white"
           },
           "yaxis": {
            "backgroundcolor": "#E5ECF6",
            "gridcolor": "white",
            "gridwidth": 2,
            "linecolor": "white",
            "showbackground": true,
            "ticks": "",
            "zerolinecolor": "white"
           },
           "zaxis": {
            "backgroundcolor": "#E5ECF6",
            "gridcolor": "white",
            "gridwidth": 2,
            "linecolor": "white",
            "showbackground": true,
            "ticks": "",
            "zerolinecolor": "white"
           }
          },
          "shapedefaults": {
           "line": {
            "color": "#2a3f5f"
           }
          },
          "ternary": {
           "aaxis": {
            "gridcolor": "white",
            "linecolor": "white",
            "ticks": ""
           },
           "baxis": {
            "gridcolor": "white",
            "linecolor": "white",
            "ticks": ""
           },
           "bgcolor": "#E5ECF6",
           "caxis": {
            "gridcolor": "white",
            "linecolor": "white",
            "ticks": ""
           }
          },
          "title": {
           "x": 0.05
          },
          "xaxis": {
           "automargin": true,
           "gridcolor": "white",
           "linecolor": "white",
           "ticks": "",
           "title": {
            "standoff": 15
           },
           "zerolinecolor": "white",
           "zerolinewidth": 2
          },
          "yaxis": {
           "automargin": true,
           "gridcolor": "white",
           "linecolor": "white",
           "ticks": "",
           "title": {
            "standoff": 15
           },
           "zerolinecolor": "white",
           "zerolinewidth": 2
          }
         }
        },
        "xaxis": {
         "anchor": "y",
         "domain": [
          0,
          1
         ],
         "title": {
          "text": "Date"
         }
        },
        "yaxis": {
         "anchor": "x",
         "domain": [
          0,
          1
         ],
         "title": {
          "text": "Balance"
         }
        }
       }
      }
     },
     "metadata": {}
    }
   ],
   "source": [
    "px.line(balance, x=\"Date\", y=\"Balance\")"
   ]
  },
  {
   "cell_type": "code",
   "execution_count": null,
   "metadata": {},
   "outputs": [],
   "source": []
  }
 ]
}