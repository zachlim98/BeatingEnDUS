{
 "metadata": {
  "language_info": {
   "codemirror_mode": {
    "name": "ipython",
    "version": 3
   },
   "file_extension": ".py",
   "mimetype": "text/x-python",
   "name": "python",
   "nbconvert_exporter": "python",
   "pygments_lexer": "ipython3",
   "version": "3.8.6-final"
  },
  "orig_nbformat": 2,
  "kernelspec": {
   "name": "python3",
   "display_name": "Python 3",
   "language": "python"
  }
 },
 "nbformat": 4,
 "nbformat_minor": 2,
 "cells": [
  {
   "cell_type": "code",
   "execution_count": 123,
   "metadata": {},
   "outputs": [],
   "source": [
    "import tabula\n",
    "import pandas as pd \n",
    "import matplotlib.pyplot as plt \n",
    "import numpy as np "
   ]
  },
  {
   "cell_type": "code",
   "execution_count": 2,
   "metadata": {},
   "outputs": [],
   "source": [
    "file = R\"P:\\Adulting\\Banking\\Tsel\\Account Statements\\Oct20_TD.pdf\""
   ]
  },
  {
   "cell_type": "code",
   "execution_count": 3,
   "metadata": {},
   "outputs": [
    {
     "output_type": "stream",
     "name": "stderr",
     "text": [
      "Got stderr: Feb 09, 2021 6:41:51 PM org.apache.pdfbox.pdmodel.font.FileSystemFontProvider loadDiskCache\nWARNING: New fonts found, font cache will be re-built\nFeb 09, 2021 6:41:51 PM org.apache.pdfbox.pdmodel.font.FileSystemFontProvider <init>\nWARNING: Building on-disk font cache, this may take a while\nFeb 09, 2021 6:41:53 PM org.apache.pdfbox.pdmodel.font.FileSystemFontProvider <init>\nWARNING: Finished building on-disk font cache, found 582 fonts\nFeb 09, 2021 6:41:53 PM org.apache.pdfbox.pdmodel.font.PDTrueTypeFont <init>\nWARNING: Could not read embedded TTF for font HelveticaNeueLTStd-Lt\njava.io.IOException: loca is mandatory\n\tat org.apache.fontbox.ttf.TTFParser.parseTables(TTFParser.java:209)\n\tat org.apache.fontbox.ttf.TTFParser.parse(TTFParser.java:150)\n\tat org.apache.fontbox.ttf.TTFParser.parse(TTFParser.java:106)\n\tat org.apache.pdfbox.pdmodel.font.PDTrueTypeFont.<init>(PDTrueTypeFont.java:198)\n\tat org.apache.pdfbox.pdmodel.font.PDFontFactory.createFont(PDFontFactory.java:89)\n\tat org.apache.pdfbox.pdmodel.PDResources.getFont(PDResources.java:146)\n\tat org.apache.pdfbox.contentstream.operator.text.SetFontAndSize.process(SetFontAndSize.java:66)\n\tat org.apache.pdfbox.contentstream.PDFStreamEngine.processOperator(PDFStreamEngine.java:933)\n\tat org.apache.pdfbox.contentstream.PDFStreamEngine.processStreamOperators(PDFStreamEngine.java:515)\n\tat org.apache.pdfbox.contentstream.PDFStreamEngine.processStream(PDFStreamEngine.java:489)\n\tat org.apache.pdfbox.contentstream.PDFStreamEngine.showForm(PDFStreamEngine.java:187)\n\tat org.apache.pdfbox.contentstream.operator.graphics.DrawObject.process(DrawObject.java:86)\n\tat org.apache.pdfbox.contentstream.PDFStreamEngine.processOperator(PDFStreamEngine.java:933)\n\tat org.apache.pdfbox.contentstream.PDFStreamEngine.processStreamOperators(PDFStreamEngine.java:515)\n\tat org.apache.pdfbox.contentstream.PDFStreamEngine.processStream(PDFStreamEngine.java:489)\n\tat org.apache.pdfbox.contentstream.PDFStreamEngine.showForm(PDFStreamEngine.java:187)\n\tat org.apache.pdfbox.contentstream.operator.graphics.DrawObject.process(DrawObject.java:86)\n\tat org.apache.pdfbox.contentstream.PDFStreamEngine.processOperator(PDFStreamEngine.java:933)\n\tat org.apache.pdfbox.contentstream.PDFStreamEngine.processStreamOperators(PDFStreamEngine.java:515)\n\tat org.apache.pdfbox.contentstream.PDFStreamEngine.processStream(PDFStreamEngine.java:489)\n\tat org.apache.pdfbox.contentstream.PDFStreamEngine.processPage(PDFStreamEngine.java:156)\n\tat technology.tabula.ObjectExtractor.extractPage(ObjectExtractor.java:26)\n\tat technology.tabula.PageIterator.next(PageIterator.java:29)\n\tat technology.tabula.CommandLineApp.extractFile(CommandLineApp.java:166)\n\tat technology.tabula.CommandLineApp.extractFileTables(CommandLineApp.java:129)\n\tat technology.tabula.CommandLineApp.extractTables(CommandLineApp.java:111)\n\tat technology.tabula.CommandLineApp.main(CommandLineApp.java:81)\n\nFeb 09, 2021 6:41:53 PM org.apache.pdfbox.pdmodel.font.PDTrueTypeFont <init>\nWARNING: Using fallback font 'TimesNewRomanPSMT' for 'HelveticaNeueLTStd-Lt'\nFeb 09, 2021 6:41:53 PM org.apache.pdfbox.pdmodel.font.PDTrueTypeFont <init>\nWARNING: Could not read embedded TTF for font HelveticaNeueLTStd-Lt\njava.io.IOException: loca is mandatory\n\tat org.apache.fontbox.ttf.TTFParser.parseTables(TTFParser.java:209)\n\tat org.apache.fontbox.ttf.TTFParser.parse(TTFParser.java:150)\n\tat org.apache.fontbox.ttf.TTFParser.parse(TTFParser.java:106)\n\tat org.apache.pdfbox.pdmodel.font.PDTrueTypeFont.<init>(PDTrueTypeFont.java:198)\n\tat org.apache.pdfbox.pdmodel.font.PDFontFactory.createFont(PDFontFactory.java:89)\n\tat org.apache.pdfbox.pdmodel.PDResources.getFont(PDResources.java:146)\n\tat org.apache.pdfbox.contentstream.operator.text.SetFontAndSize.process(SetFontAndSize.java:66)\n\tat org.apache.pdfbox.contentstream.PDFStreamEngine.processOperator(PDFStreamEngine.java:933)\n\tat org.apache.pdfbox.contentstream.PDFStreamEngine.processStreamOperators(PDFStreamEngine.java:515)\n\tat org.apache.pdfbox.contentstream.PDFStreamEngine.processStream(PDFStreamEngine.java:489)\n\tat org.apache.pdfbox.contentstream.PDFStreamEngine.showForm(PDFStreamEngine.java:187)\n\tat org.apache.pdfbox.rendering.PageDrawer.showForm(PageDrawer.java:1470)\n\tat org.apache.pdfbox.contentstream.operator.graphics.DrawObject.process(DrawObject.java:86)\n\tat org.apache.pdfbox.contentstream.PDFStreamEngine.processOperator(PDFStreamEngine.java:933)\n\tat org.apache.pdfbox.contentstream.PDFStreamEngine.processStreamOperators(PDFStreamEngine.java:515)\n\tat org.apache.pdfbox.contentstream.PDFStreamEngine.processStream(PDFStreamEngine.java:489)\n\tat org.apache.pdfbox.contentstream.PDFStreamEngine.showForm(PDFStreamEngine.java:187)\n\tat org.apache.pdfbox.rendering.PageDrawer.showForm(PageDrawer.java:1470)\n\tat org.apache.pdfbox.contentstream.operator.graphics.DrawObject.process(DrawObject.java:86)\n\tat org.apache.pdfbox.contentstream.PDFStreamEngine.processOperator(PDFStreamEngine.java:933)\n\tat org.apache.pdfbox.contentstream.PDFStreamEngine.processStreamOperators(PDFStreamEngine.java:515)\n\tat org.apache.pdfbox.contentstream.PDFStreamEngine.processStream(PDFStreamEngine.java:489)\n\tat org.apache.pdfbox.contentstream.PDFStreamEngine.processPage(PDFStreamEngine.java:156)\n\tat org.apache.pdfbox.rendering.PageDrawer.drawPage(PageDrawer.java:272)\n\tat org.apache.pdfbox.rendering.PDFRenderer.renderImage(PDFRenderer.java:321)\n\tat org.apache.pdfbox.rendering.PDFRenderer.renderImage(PDFRenderer.java:243)\n\tat org.apache.pdfbox.rendering.PDFRenderer.renderImageWithDPI(PDFRenderer.java:229)\n\tat technology.tabula.Utils.pageConvertToImage(Utils.java:285)\n\tat technology.tabula.detectors.NurminenDetectionAlgorithm.detect(NurminenDetectionAlgorithm.java:121)\n\tat technology.tabula.CommandLineApp$TableExtractor.extractTablesBasic(CommandLineApp.java:425)\n\tat technology.tabula.CommandLineApp$TableExtractor.extractTables(CommandLineApp.java:412)\n\tat technology.tabula.CommandLineApp.extractFile(CommandLineApp.java:185)\n\tat technology.tabula.CommandLineApp.extractFileTables(CommandLineApp.java:129)\n\tat technology.tabula.CommandLineApp.extractTables(CommandLineApp.java:111)\n\tat technology.tabula.CommandLineApp.main(CommandLineApp.java:81)\n\nFeb 09, 2021 6:41:53 PM org.apache.pdfbox.pdmodel.font.PDTrueTypeFont <init>\nWARNING: Using fallback font 'TimesNewRomanPSMT' for 'HelveticaNeueLTStd-Lt'\n\n"
     ]
    }
   ],
   "source": [
    "tables = tabula.read_pdf(file, pages=\"all\")"
   ]
  },
  {
   "cell_type": "code",
   "execution_count": 45,
   "metadata": {},
   "outputs": [],
   "source": [
    "part_1 = tables[4].iloc[2:,-1].dropna().str.replace(',','').astype(float)\n",
    "part_2 = tables[6].iloc[2:,-1].dropna().str.replace(',','').astype(float)\n",
    "acc_balance = pd.concat([part_1, part_2])"
   ]
  },
  {
   "cell_type": "code",
   "execution_count": null,
   "metadata": {},
   "outputs": [],
   "source": [
    "def cleanTD(csvfile):\n",
    "    header_list = [\"Fill1\",\"Fill2\",\"Open\",\"High\",\"Low\",\"Close\",\"ImpVol\",\"HistVol\",\"Fill3\",\"Fill4\",\"Fill5\",\"Date\"]\n",
    "    data = pd.read_csv(csvfile,sep=';',skiprows=5,names=header_list)\n",
    "    data = data.iloc[::2].drop(0).iloc[:,[6,7,11]]\n",
    "    data = data.dropna()\n",
    "    data['ImpVol'] = data['ImpVol'].astype(float)\n",
    "    data['Date'] = data['Date'].apply(pd.to_datetime)\n",
    "\n",
    "    return(data)"
   ]
  },
  {
   "cell_type": "code",
   "execution_count": 51,
   "metadata": {},
   "outputs": [],
   "source": [
    "data = pd.read_csv(\"fdfd.csv\",sep=';',skiprows=6)"
   ]
  },
  {
   "cell_type": "code",
   "execution_count": 72,
   "metadata": {},
   "outputs": [
    {
     "output_type": "execute_result",
     "data": {
      "text/plain": [
       "2             0\n",
       "3             0\n",
       "4             0\n",
       "5             0\n",
       "6             0\n",
       "         ...   \n",
       "394    6,407.12\n",
       "395    6,407.12\n",
       "396    6,494.47\n",
       "397    6,494.47\n",
       "398    6,591.89\n",
       "Name: DataExporter(SellClose), Length: 397, dtype: object"
      ]
     },
     "metadata": {},
     "execution_count": 72
    }
   ],
   "source": [
    "data.iloc[:,1].str.strip(')').replace('Sell to Close', None).dropna()"
   ]
  },
  {
   "cell_type": "code",
   "execution_count": 118,
   "metadata": {},
   "outputs": [],
   "source": [
    "balance = data.iloc[::2].iloc[:,[1,5]].rename(columns={\"DataExporter(SellClose)\" : \"Balance\", \"4/27/20\" : \"Date\"}).dropna()\n",
    "balance[\"Balance\"] = balance[\"Balance\"].str.replace(',','').str.replace(')','').astype(float)\n",
    "balance[\"Date\"] = balance[\"Date\"].apply(pd.to_datetime)"
   ]
  },
  {
   "cell_type": "code",
   "execution_count": 125,
   "metadata": {},
   "outputs": [
    {
     "output_type": "execute_result",
     "data": {
      "text/plain": [
       "     Balance       Date\n",
       "222  3673.22 2020-10-01\n",
       "224  3664.22 2020-10-02\n",
       "226  3703.51 2020-10-05\n",
       "228  3690.51 2020-10-06\n",
       "230  3715.51 2020-10-07\n",
       "..       ...        ...\n",
       "390  6200.79 2021-02-02\n",
       "392  6331.39 2021-02-03\n",
       "394  6407.12 2021-02-04\n",
       "396  6494.47 2021-02-05\n",
       "398  6591.89 2021-02-08\n",
       "\n",
       "[89 rows x 2 columns]"
      ],
      "text/html": "<div>\n<style scoped>\n    .dataframe tbody tr th:only-of-type {\n        vertical-align: middle;\n    }\n\n    .dataframe tbody tr th {\n        vertical-align: top;\n    }\n\n    .dataframe thead th {\n        text-align: right;\n    }\n</style>\n<table border=\"1\" class=\"dataframe\">\n  <thead>\n    <tr style=\"text-align: right;\">\n      <th></th>\n      <th>Balance</th>\n      <th>Date</th>\n    </tr>\n  </thead>\n  <tbody>\n    <tr>\n      <th>222</th>\n      <td>3673.22</td>\n      <td>2020-10-01</td>\n    </tr>\n    <tr>\n      <th>224</th>\n      <td>3664.22</td>\n      <td>2020-10-02</td>\n    </tr>\n    <tr>\n      <th>226</th>\n      <td>3703.51</td>\n      <td>2020-10-05</td>\n    </tr>\n    <tr>\n      <th>228</th>\n      <td>3690.51</td>\n      <td>2020-10-06</td>\n    </tr>\n    <tr>\n      <th>230</th>\n      <td>3715.51</td>\n      <td>2020-10-07</td>\n    </tr>\n    <tr>\n      <th>...</th>\n      <td>...</td>\n      <td>...</td>\n    </tr>\n    <tr>\n      <th>390</th>\n      <td>6200.79</td>\n      <td>2021-02-02</td>\n    </tr>\n    <tr>\n      <th>392</th>\n      <td>6331.39</td>\n      <td>2021-02-03</td>\n    </tr>\n    <tr>\n      <th>394</th>\n      <td>6407.12</td>\n      <td>2021-02-04</td>\n    </tr>\n    <tr>\n      <th>396</th>\n      <td>6494.47</td>\n      <td>2021-02-05</td>\n    </tr>\n    <tr>\n      <th>398</th>\n      <td>6591.89</td>\n      <td>2021-02-08</td>\n    </tr>\n  </tbody>\n</table>\n<p>89 rows × 2 columns</p>\n</div>"
     },
     "metadata": {},
     "execution_count": 125
    }
   ],
   "source": [
    "balance.replace(0,np.nan).dropna()"
   ]
  },
  {
   "cell_type": "code",
   "execution_count": null,
   "metadata": {},
   "outputs": [],
   "source": []
  }
 ]
}