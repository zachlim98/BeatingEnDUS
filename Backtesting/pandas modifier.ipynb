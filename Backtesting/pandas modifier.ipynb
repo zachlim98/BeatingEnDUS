{
 "metadata": {
  "language_info": {
   "codemirror_mode": {
    "name": "ipython",
    "version": 3
   },
   "file_extension": ".py",
   "mimetype": "text/x-python",
   "name": "python",
   "nbconvert_exporter": "python",
   "pygments_lexer": "ipython3",
   "version": "3.8.6-final"
  },
  "orig_nbformat": 2,
  "kernelspec": {
   "name": "backtestexp",
   "display_name": "BacktestExp"
  }
 },
 "nbformat": 4,
 "nbformat_minor": 2,
 "cells": [
  {
   "cell_type": "code",
   "execution_count": 4,
   "metadata": {},
   "outputs": [],
   "source": [
    "import pandas as pd\n",
    "from tiingo import TiingoClient\n",
    "from ta.momentum import RSIIndicator, stoch\n",
    "from ta.trend import MACD as md\n",
    "from ta.volatility import AverageTrueRange as atr"
   ]
  },
  {
   "cell_type": "code",
   "execution_count": 243,
   "metadata": {},
   "outputs": [],
   "source": [
    "client = TiingoClient({'api_key' : '7fb8e25ac6335f846ae82d3f3a28ed535f313592'})\n",
    "\n",
    "df = pd.read_csv(R\"X:\\GitHub\\beatingENd\\BeatingEnDUS\\Own Screener\\IBD50.csv\")\n",
    "\n",
    "# datalist = (df['Ticker'].to_list())\n",
    "datalist = ['NFLX', 'AAPL', 'GOOG']\n",
    "\n",
    "data = client.get_dataframe(datalist,\n",
    "                                    metric_name='adjClose',\n",
    "                                      frequency='daily',\n",
    "                                      startDate='2015-02-02',\n",
    "                                      endDate='2020-10-10')"
   ]
  },
  {
   "cell_type": "code",
   "execution_count": 244,
   "metadata": {},
   "outputs": [],
   "source": [
    "def RSI_base(data,ticker):\n",
    "    MACD = md(close=data[ticker])\n",
    "    data[\"MACD_diff\"] = MACD.macd_diff()\n",
    "    RSI = RSIIndicator(close=data[ticker])\n",
    "    data[\"RSI\"] = RSI.rsi()\n",
    "    data[\"Buy_Signal\"] = 0\n",
    "    data[\"Pos\"] = 0\n",
    "    data[\"Sell_Signal\"] = 0\n",
    "    data[\"SL\"] = 0 \n",
    "    data[\"TP\"] = 0\n",
    "    data[\"TW\"] = 0.0\n",
    "\n",
    "    data = data.dropna()\n",
    "\n",
    "    for i in range(0,len(data)):\n",
    "        if data[\"Pos\"][i-1] == 0:\n",
    "            if data[\"RSI\"].iloc[i] > 50 and data[\"MACD_diff\"][i] > 0 and (data[\"Pos\"][i] == 0):\n",
    "                data[\"Buy_Signal\"][i] = 1\n",
    "                data[\"Pos\"][i] = 1\n",
    "                data[\"SL\"][i] = (data[ticker][i]*0.97)\n",
    "                data[\"TP\"][i] = (data[ticker][i]*1.5)\n",
    "            else:\n",
    "                data[\"Buy_Signal\"][i] = 0 \n",
    "                data[\"Pos\"][i] = 0\n",
    "\n",
    "        elif data[\"Pos\"][i-1] == 1:\n",
    "            data[\"SL\"][i] = data[\"SL\"][i-1] \n",
    "            data[\"TP\"][i] = data[\"TP\"][i-1]\n",
    "            if (data[\"NFLX\"][i] > data[\"SL\"][i-1]) or (data[ticker][i] < data[\"TP\"][i-1]):\n",
    "                data[\"Pos\"][i] = 1\n",
    "            if (data[ticker][i] < data[\"SL\"][i]) or (data[ticker][i] > data[\"TP\"][i-1]):\n",
    "                data[\"Pos\"][i] = 0\n",
    "                data[\"Sell_Signal\"][i] = 1\n",
    "\n",
    "    for i in range(len(data)):\n",
    "        if (data[\"Pos\"][i] == 1): \n",
    "            data[\"TW\"][i] = 1\n",
    "        else:\n",
    "            data[\"TW\"][i] = 0\n",
    "\n",
    "    chumps = data[\"TW\"]\n",
    "\n",
    "    return chumps"
   ]
  },
  {
   "cell_type": "code",
   "execution_count": 245,
   "metadata": {},
   "outputs": [],
   "source": [
    "df = pd.DataFrame()\n",
    "\n",
    "for i in datalist:\n",
    "    temp = RSI_base(data,i)\n",
    "    temp = temp.rename(i)\n",
    "    df = pd.concat([df,temp],axis=1)"
   ]
  },
  {
   "cell_type": "code",
   "execution_count": 246,
   "metadata": {},
   "outputs": [
    {
     "output_type": "execute_result",
     "data": {
      "text/plain": [
       "                             NFLX    AAPL    GOOG\n",
       "2015-03-20 00:00:00+00:00 0.00000 0.00000 0.00000\n",
       "2015-03-23 00:00:00+00:00 0.00000 0.00000 0.00000\n",
       "2015-03-24 00:00:00+00:00 0.00000 0.00000 0.00000\n",
       "2015-03-25 00:00:00+00:00 0.00000 0.00000 0.00000\n",
       "2015-03-26 00:00:00+00:00 0.00000 0.00000 0.00000\n",
       "...                           ...     ...     ...\n",
       "2020-10-05 00:00:00+00:00 1.00000 1.00000 0.00000\n",
       "2020-10-06 00:00:00+00:00 1.00000 1.00000 0.00000\n",
       "2020-10-07 00:00:00+00:00 1.00000 1.00000 0.00000\n",
       "2020-10-08 00:00:00+00:00 1.00000 1.00000 0.00000\n",
       "2020-10-09 00:00:00+00:00 1.00000 1.00000 1.00000\n",
       "\n",
       "[1401 rows x 3 columns]"
      ],
      "text/html": "<div>\n<style scoped>\n    .dataframe tbody tr th:only-of-type {\n        vertical-align: middle;\n    }\n\n    .dataframe tbody tr th {\n        vertical-align: top;\n    }\n\n    .dataframe thead th {\n        text-align: right;\n    }\n</style>\n<table border=\"1\" class=\"dataframe\">\n  <thead>\n    <tr style=\"text-align: right;\">\n      <th></th>\n      <th>NFLX</th>\n      <th>AAPL</th>\n      <th>GOOG</th>\n    </tr>\n  </thead>\n  <tbody>\n    <tr>\n      <th>2015-03-20 00:00:00+00:00</th>\n      <td>0.00000</td>\n      <td>0.00000</td>\n      <td>0.00000</td>\n    </tr>\n    <tr>\n      <th>2015-03-23 00:00:00+00:00</th>\n      <td>0.00000</td>\n      <td>0.00000</td>\n      <td>0.00000</td>\n    </tr>\n    <tr>\n      <th>2015-03-24 00:00:00+00:00</th>\n      <td>0.00000</td>\n      <td>0.00000</td>\n      <td>0.00000</td>\n    </tr>\n    <tr>\n      <th>2015-03-25 00:00:00+00:00</th>\n      <td>0.00000</td>\n      <td>0.00000</td>\n      <td>0.00000</td>\n    </tr>\n    <tr>\n      <th>2015-03-26 00:00:00+00:00</th>\n      <td>0.00000</td>\n      <td>0.00000</td>\n      <td>0.00000</td>\n    </tr>\n    <tr>\n      <th>...</th>\n      <td>...</td>\n      <td>...</td>\n      <td>...</td>\n    </tr>\n    <tr>\n      <th>2020-10-05 00:00:00+00:00</th>\n      <td>1.00000</td>\n      <td>1.00000</td>\n      <td>0.00000</td>\n    </tr>\n    <tr>\n      <th>2020-10-06 00:00:00+00:00</th>\n      <td>1.00000</td>\n      <td>1.00000</td>\n      <td>0.00000</td>\n    </tr>\n    <tr>\n      <th>2020-10-07 00:00:00+00:00</th>\n      <td>1.00000</td>\n      <td>1.00000</td>\n      <td>0.00000</td>\n    </tr>\n    <tr>\n      <th>2020-10-08 00:00:00+00:00</th>\n      <td>1.00000</td>\n      <td>1.00000</td>\n      <td>0.00000</td>\n    </tr>\n    <tr>\n      <th>2020-10-09 00:00:00+00:00</th>\n      <td>1.00000</td>\n      <td>1.00000</td>\n      <td>1.00000</td>\n    </tr>\n  </tbody>\n</table>\n<p>1401 rows × 3 columns</p>\n</div>"
     },
     "metadata": {},
     "execution_count": 246
    }
   ],
   "source": [
    "df"
   ]
  },
  {
   "cell_type": "code",
   "execution_count": 247,
   "metadata": {},
   "outputs": [],
   "source": [
    "import bt\n",
    "import matplotlib.pyplot as plt\n",
    "import pandas as pd\n",
    "import numpy as np"
   ]
  },
  {
   "cell_type": "code",
   "execution_count": 248,
   "metadata": {},
   "outputs": [],
   "source": [
    "crosses = bt.Strategy('RSI', [bt.algos.WeighTarget(df),\n",
    "                                    bt.algos.Rebalance()])\n",
    "\n",
    "\n",
    "long_only = bt.Strategy('Benchmark', [bt.algos.RunOnce(),\n",
    "                        bt.algos.SelectAll(),\n",
    "                        bt.algos.WeighEqually(),\n",
    "                        bt.algos.Rebalance()])\n",
    "\n",
    "t = bt.Backtest(crosses,data)\n",
    "s = bt.Backtest(long_only, data)"
   ]
  },
  {
   "cell_type": "code",
   "execution_count": 251,
   "metadata": {},
   "outputs": [],
   "source": [
    "report = bt.run(t,s)\n",
    "report.plot()\n",
    "plt.title(\"Portfolio Returns\")\n",
    "plt.savefig(\"arg.png\")"
   ]
  },
  {
   "cell_type": "code",
   "execution_count": 250,
   "metadata": {},
   "outputs": [
    {
     "output_type": "stream",
     "name": "stdout",
     "text": [
      "Stat                 RSI         Benchmark\n-------------------  ----------  -----------\nStart                2015-02-01  2015-02-01\nEnd                  2020-10-09  2020-10-09\nRisk-free rate       0.10%       0.10%\n\nTotal Return         2184.15%    424.94%\nDaily Sharpe         1.14        1.14\nDaily Sortino        1.83        1.88\nCAGR                 73.36%      33.86%\nMax Drawdown         -65.68%     -34.69%\nCalmar Ratio         1.12        0.98\n\nMTD                  8.41%       5.03%\n3m                   5.17%       9.01%\n6m                   99.95%      48.03%\nYTD                  34.18%      52.05%\n1Y                   109.80%     83.20%\n3Y (ann.)            75.84%      35.32%\n5Y (ann.)            67.93%      31.69%\n10Y (ann.)           73.36%      33.86%\nSince Incep. (ann.)  73.36%      33.86%\n\nDaily Sharpe         1.14        1.14\nDaily Sortino        1.83        1.88\nDaily Mean (ann.)    79.85%      33.41%\nDaily Vol (ann.)     69.90%      29.17%\nDaily Skew           -0.30       -0.14\nDaily Kurt           7.50        4.07\nBest Day             28.06%      8.99%\nWorst Day            -35.10%     -11.56%\n\nMonthly Sharpe       1.18        1.24\nMonthly Sortino      2.48        2.73\nMonthly Mean (ann.)  77.49%      31.42%\nMonthly Vol (ann.)   65.80%      25.26%\nMonthly Skew         -0.09       -0.00\nMonthly Kurt         -0.20       -0.17\nBest Month           57.36%      22.36%\nWorst Month          -38.06%     -13.99%\n\nYearly Sharpe        1.06        1.63\nYearly Sortino       18.27       inf\nYearly Mean          76.70%      31.73%\nYearly Vol           72.01%      19.39%\nYearly Skew          0.36        -0.37\nYearly Kurt          -0.69       -2.20\nBest Year            175.84%     52.05%\nWorst Year           -9.37%      6.90%\n\nAvg. Drawdown        -9.47%      -3.76%\nAvg. Drawdown Days   28.81       23.47\nAvg. Up Month        18.63%      6.86%\nAvg. Down Month      -13.20%     -5.68%\nWin Year %           80.00%      100.00%\nWin 12m %            84.48%      86.21%\n"
     ]
    }
   ],
   "source": [
    "report.set_riskfree_rate(0.001)\n",
    "report.display()"
   ]
  },
  {
   "cell_type": "code",
   "execution_count": null,
   "metadata": {},
   "outputs": [],
   "source": []
  }
 ]
}