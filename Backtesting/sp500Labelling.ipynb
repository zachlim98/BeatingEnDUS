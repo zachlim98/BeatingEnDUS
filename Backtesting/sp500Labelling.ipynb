{
 "cells": [
  {
   "cell_type": "code",
   "execution_count": 29,
   "metadata": {},
   "outputs": [],
   "source": [
    "import pandas as pd\n",
    "import numpy as np\n",
    "from tiingo import TiingoClient\n",
    "\n",
    "client = TiingoClient({'api_key' : '9c884b918420c9220dcf832c83a6ba8025711e1e'})"
   ]
  },
  {
   "cell_type": "code",
   "execution_count": 2,
   "metadata": {},
   "outputs": [],
   "source": [
    "datalist = ['A', 'AABA', 'AAL', 'AAMRQ', 'AAP']\n",
    "\n",
    "start_date = '2000-01-01'\n",
    "end_date = '2020-12-05'\n",
    "\n",
    "\n",
    "# spy_data = client.get_dataframe(\"SPY\",\n",
    "#                                     frequency='daily',\n",
    "#                                     startDate=start_date,\n",
    "#                                     endDate=end_date)\n",
    "\n",
    "# spy_data = spy_data.tz_convert(None)\n",
    "# dfdates = pd.DataFrame(index=spy_data.index)\n",
    "\n",
    "# for i in range(len(datalist)):\n",
    "#     try:\n",
    "#         data = client.get_dataframe(datalist[i],\n",
    "#                                             frequency='daily',\n",
    "#                                             startDate=start_date,\n",
    "#                                             endDate=end_date)\n",
    "\n",
    "#         data = data.tz_convert(None)\n",
    "#         data2 = dfdates.join(data, how='left').fillna(0)\n",
    "#         data3 = data2.join(sphist, how='left').fillna(method='ffill')\n",
    "#         data3['inSPY'] = 0\n",
    "#         for t in range(len(data3)):\n",
    "#             if datalist[i] in (data3['tickers'][t]):\n",
    "#                 data3['inSPY'][t] = 1\n",
    "#             else:\n",
    "#                 data3['inSPY'][t] = 0\n",
    "#         data3.drop('tickers',axis=1).to_csv(\"data/{}.csv\".format(datalist[i]))\n",
    "#         print(f\"{i}/{len(datalist)} finished\")\n",
    "        \n",
    "#     except:\n",
    "#         print(f'{datalist[i]} not found')"
   ]
  },
  {
   "cell_type": "code",
   "execution_count": 3,
   "metadata": {},
   "outputs": [],
   "source": [
    "sp500hist = pd.read_csv(\"sp500_hist.csv\")"
   ]
  },
  {
   "cell_type": "code",
   "execution_count": 4,
   "metadata": {},
   "outputs": [],
   "source": [
    "sphist = sp500hist.set_index(sp500hist['date']).drop('date', axis=1)"
   ]
  },
  {
   "cell_type": "code",
   "execution_count": 5,
   "metadata": {},
   "outputs": [],
   "source": [
    "import datetime as datetime"
   ]
  },
  {
   "cell_type": "code",
   "execution_count": 6,
   "metadata": {},
   "outputs": [],
   "source": [
    "index = pd.date_range(start='2000-1-1',end='2020-1-6')\n",
    "columns = ['A']"
   ]
  },
  {
   "cell_type": "code",
   "execution_count": 7,
   "metadata": {},
   "outputs": [],
   "source": [
    "spy_data = client.get_dataframe(\"SPY\",\n",
    "                                    frequency='daily',\n",
    "                                    startDate=start_date,\n",
    "                                    endDate=end_date)\n",
    "\n",
    "spy_data = spy_data.tz_convert(None)\n",
    "blank = pd.DataFrame(index=spy_data.index)"
   ]
  },
  {
   "cell_type": "code",
   "execution_count": 8,
   "metadata": {},
   "outputs": [],
   "source": [
    "sphist = blank.join(sphist, how='left').fillna(method='ffill')"
   ]
  },
  {
   "cell_type": "code",
   "execution_count": 9,
   "metadata": {},
   "outputs": [],
   "source": [
    "everwas = []\n",
    "\n",
    "for i in range(len(sphist)):\n",
    "    x = sphist.iloc[i,0].split(',')\n",
    "    everwas = sorted(np.unique(everwas + x))"
   ]
  },
  {
   "cell_type": "code",
   "execution_count": 10,
   "metadata": {},
   "outputs": [],
   "source": [
    "splitno = int((len(everwas)/3))\n",
    "\n",
    "everwas1 = everwas[:splitno]\n",
    "everwas2 = everwas[(splitno):(splitno*2)]\n",
    "everwas3 = everwas[(splitno*2):]"
   ]
  },
  {
   "cell_type": "code",
   "execution_count": 32,
   "metadata": {},
   "outputs": [
    {
     "data": {
      "text/plain": [
       "987"
      ]
     },
     "execution_count": 32,
     "metadata": {},
     "output_type": "execute_result"
    }
   ],
   "source": [
    "len(everwas)"
   ]
  },
  {
   "cell_type": "code",
   "execution_count": 31,
   "metadata": {},
   "outputs": [
    {
     "name": "stderr",
     "output_type": "stream",
     "text": [
      "<ipython-input-31-9935a50ceadd>:27: SettingWithCopyWarning: \n",
      "A value is trying to be set on a copy of a slice from a DataFrame\n",
      "\n",
      "See the caveats in the documentation: https://pandas.pydata.org/pandas-docs/stable/user_guide/indexing.html#returning-a-view-versus-a-copy\n",
      "  data3['inSPY'][t] = 0\n",
      "<ipython-input-31-9935a50ceadd>:25: SettingWithCopyWarning: \n",
      "A value is trying to be set on a copy of a slice from a DataFrame\n",
      "\n",
      "See the caveats in the documentation: https://pandas.pydata.org/pandas-docs/stable/user_guide/indexing.html#returning-a-view-versus-a-copy\n",
      "  data3['inSPY'][t] = 1\n"
     ]
    },
    {
     "name": "stdout",
     "output_type": "stream",
     "text": [
      "0/131 finished\n",
      "1/131 finished\n",
      "2/131 finished\n",
      "3/131 finished\n",
      "4/131 finished\n",
      "5/131 finished\n",
      "6/131 finished\n",
      "7/131 finished\n",
      "8/131 finished\n",
      "9/131 finished\n",
      "10/131 finished\n",
      "11/131 finished\n",
      "12/131 finished\n",
      "13/131 finished\n",
      "14/131 finished\n",
      "15/131 finished\n",
      "16/131 finished\n",
      "17/131 finished\n",
      "18/131 finished\n",
      "19/131 finished\n",
      "20/131 finished\n",
      "21/131 finished\n",
      "22/131 finished\n",
      "23/131 finished\n",
      "24/131 finished\n",
      "25/131 finished\n",
      "26/131 finished\n",
      "27/131 finished\n",
      "28/131 finished\n",
      "29/131 finished\n",
      "30/131 finished\n",
      "MAY was not found\n",
      "32/131 finished\n",
      "33/131 finished\n",
      "34/131 finished\n",
      "35/131 finished\n",
      "36/131 finished\n",
      "37/131 finished\n",
      "38/131 finished\n",
      "39/131 finished\n",
      "40/131 finished\n",
      "41/131 finished\n",
      "MEDI was not found\n",
      "MEE was not found\n",
      "MEL was not found\n",
      "45/131 finished\n",
      "MERQ was not found\n",
      "47/131 finished\n",
      "48/131 finished\n",
      "49/131 finished\n",
      "50/131 finished\n",
      "51/131 finished\n",
      "MI was not found\n",
      "53/131 finished\n",
      "54/131 finished\n",
      "55/131 finished\n",
      "56/131 finished\n",
      "MKG was not found\n",
      "58/131 finished\n",
      "59/131 finished\n",
      "60/131 finished\n",
      "61/131 finished\n",
      "62/131 finished\n",
      "63/131 finished\n",
      "64/131 finished\n",
      "65/131 finished\n",
      "MOLX was not found\n",
      "67/131 finished\n",
      "68/131 finished\n",
      "69/131 finished\n",
      "70/131 finished\n",
      "71/131 finished\n",
      "72/131 finished\n",
      "73/131 finished\n",
      "74/131 finished\n",
      "75/131 finished\n",
      "76/131 finished\n",
      "77/131 finished\n",
      "78/131 finished\n"
     ]
    },
    {
     "name": "stderr",
     "output_type": "stream",
     "text": [
      "ERROR:root:b'{\"detail\":\"Error: Ticker \\'MTLQQ\\' not found\"}'\n"
     ]
    },
    {
     "name": "stdout",
     "output_type": "stream",
     "text": [
      "MTLQQ was not found\n",
      "80/131 finished\n",
      "81/131 finished\n",
      "82/131 finished\n",
      "83/131 finished\n",
      "84/131 finished\n",
      "85/131 finished\n",
      "MYG was not found\n",
      "87/131 finished\n",
      "MZIAQ was not found\n",
      "89/131 finished\n",
      "90/131 finished\n",
      "91/131 finished\n",
      "92/131 finished\n",
      "93/131 finished\n",
      "NCC was not found\n",
      "NCE was not found\n",
      "96/131 finished\n",
      "97/131 finished\n",
      "98/131 finished\n",
      "99/131 finished\n",
      "100/131 finished\n",
      "101/131 finished\n",
      "NFB was not found\n",
      "103/131 finished\n",
      "104/131 finished\n",
      "NGH was not found\n",
      "106/131 finished\n",
      "107/131 finished\n",
      "108/131 finished\n",
      "109/131 finished\n",
      "110/131 finished\n"
     ]
    },
    {
     "name": "stderr",
     "output_type": "stream",
     "text": [
      "ERROR:root:b'{\"detail\":\"Error: Ticker \\'NLV\\' not found\"}'\n"
     ]
    },
    {
     "name": "stdout",
     "output_type": "stream",
     "text": [
      "NLV was not found\n"
     ]
    },
    {
     "name": "stderr",
     "output_type": "stream",
     "text": [
      "ERROR:root:b'{\"detail\":\"Error: Ticker \\'NMK\\' not found\"}'\n"
     ]
    },
    {
     "name": "stdout",
     "output_type": "stream",
     "text": [
      "NMK was not found\n",
      "113/131 finished\n",
      "114/131 finished\n",
      "NOVL was not found\n",
      "116/131 finished\n",
      "117/131 finished\n",
      "118/131 finished\n",
      "119/131 finished\n",
      "NSI was not found\n",
      "121/131 finished\n",
      "122/131 finished\n",
      "123/131 finished\n",
      "124/131 finished\n",
      "125/131 finished\n",
      "126/131 finished\n",
      "127/131 finished\n",
      "128/131 finished\n",
      "129/131 finished\n",
      "130/131 finished\n"
     ]
    }
   ],
   "source": [
    "start_date = '2000-01-01'\n",
    "end_date = '2020-12-05'\n",
    "\n",
    "spy_data = client.get_dataframe(\"SPY\",\n",
    "                                    frequency='daily',\n",
    "                                    startDate=start_date,\n",
    "                                    endDate=end_date)\n",
    "\n",
    "spy_data = spy_data.tz_convert(None)\n",
    "dfdates = pd.DataFrame(index=spy_data.index)\n",
    "\n",
    "for i in range(len(datalist)):\n",
    "    try:\n",
    "        data = client.get_dataframe(datalist[i],\n",
    "                                            frequency='daily',\n",
    "                                            startDate=start_date,\n",
    "                                            endDate=end_date)\n",
    "\n",
    "        data = data.tz_convert(None)\n",
    "        data2 = dfdates.join(data, how='left').fillna(0)\n",
    "        data3 = data2.join(sphist, how='left').fillna(method='ffill')\n",
    "        data3['inSPY'] = 0\n",
    "        for t in range(len(data3)):\n",
    "            if datalist[i] in (data3['tickers'][t]):\n",
    "                data3['inSPY'][t] = 1\n",
    "            else:\n",
    "                data3['inSPY'][t] = 0\n",
    "        data3.drop('tickers',axis=1).to_csv(\"data/{}.csv\".format(datalist[i]))\n",
    "        print(f\"{i}/{len(datalist)} finished\")\n",
    "    except:\n",
    "        print(f\"{datalist[i]} was not found\")"
   ]
  },
  {
   "cell_type": "code",
   "execution_count": null,
   "metadata": {},
   "outputs": [],
   "source": []
  }
 ],
 "metadata": {
  "kernelspec": {
   "display_name": "BacktestExp",
   "language": "python",
   "name": "backtestexp"
  },
  "language_info": {
   "codemirror_mode": {
    "name": "ipython",
    "version": 3
   },
   "file_extension": ".py",
   "mimetype": "text/x-python",
   "name": "python",
   "nbconvert_exporter": "python",
   "pygments_lexer": "ipython3",
   "version": "3.8.6"
  }
 },
 "nbformat": 4,
 "nbformat_minor": 4
}
