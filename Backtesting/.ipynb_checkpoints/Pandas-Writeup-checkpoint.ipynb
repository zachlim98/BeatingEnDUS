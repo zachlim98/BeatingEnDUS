{
 "cells": [
  {
   "cell_type": "markdown",
   "metadata": {},
   "source": [
    "# Introduction\n",
    "\n",
    "Backtesting is an important part of any strategy. An essential part of most strategies is having a Stop Loss and a Take Profit. In Python, there are a myriad of backtesting options available to you that allow for this but sometimes simple is better. Today, we're going to look at how one can implement a Stop Loss and Take Profit using `pandas` before then using [bt](https://pmorissette.github.io/bt/index.html) to run the full backtest.\n",
    "\n",
    "## Contents\n",
    "1. Overview of bt \n",
    "2. Using pandas to implement Stop Loss and Take Profits \n",
    "3. Setting weights for bt \n",
    "4. Running the backtest\n",
    "\n",
    "## 1. Overview of bt \n",
    "\n",
    "bt is a \"flexible bactesting\" framework for Python that is modular. What this means is that bt has a number of algorithms that are pre-built that one can literally \"plug-and-play\" with to get different backtesting outcomes. One of the core algo modules in bt is the `weighTarget` algo. This algo essentially rebalances a portfolio again and again in order to match the weight given to a particular stock position. For instance, this is a table of weights below. When the target weight (TW) is 0.33, the algo will invest 0.33 of available cash into the position, -0.33 will make it go short, and 0 will cause it to exit the position."
   ]
  },
  {
   "cell_type": "code",
   "execution_count": 5,
   "metadata": {},
   "outputs": [
    {
     "data": {
      "text/html": [
       "<div>\n",
       "<style scoped>\n",
       "    .dataframe tbody tr th:only-of-type {\n",
       "        vertical-align: middle;\n",
       "    }\n",
       "\n",
       "    .dataframe tbody tr th {\n",
       "        vertical-align: top;\n",
       "    }\n",
       "\n",
       "    .dataframe thead th {\n",
       "        text-align: right;\n",
       "    }\n",
       "</style>\n",
       "<table border=\"1\" class=\"dataframe\">\n",
       "  <thead>\n",
       "    <tr style=\"text-align: right;\">\n",
       "      <th></th>\n",
       "      <th>NFLX</th>\n",
       "      <th>AAPL</th>\n",
       "      <th>GOOG</th>\n",
       "    </tr>\n",
       "  </thead>\n",
       "  <tbody>\n",
       "    <tr>\n",
       "      <th>2015-03-20 00:00:00+00:00</th>\n",
       "      <td>-0.333333</td>\n",
       "      <td>0.000000</td>\n",
       "      <td>0.000000</td>\n",
       "    </tr>\n",
       "    <tr>\n",
       "      <th>2015-03-23 00:00:00+00:00</th>\n",
       "      <td>-0.333333</td>\n",
       "      <td>0.000000</td>\n",
       "      <td>0.000000</td>\n",
       "    </tr>\n",
       "    <tr>\n",
       "      <th>2015-03-24 00:00:00+00:00</th>\n",
       "      <td>-0.333333</td>\n",
       "      <td>0.000000</td>\n",
       "      <td>0.000000</td>\n",
       "    </tr>\n",
       "    <tr>\n",
       "      <th>2015-03-25 00:00:00+00:00</th>\n",
       "      <td>-0.333333</td>\n",
       "      <td>-0.333333</td>\n",
       "      <td>0.000000</td>\n",
       "    </tr>\n",
       "    <tr>\n",
       "      <th>2015-03-26 00:00:00+00:00</th>\n",
       "      <td>-0.333333</td>\n",
       "      <td>-0.333333</td>\n",
       "      <td>0.000000</td>\n",
       "    </tr>\n",
       "    <tr>\n",
       "      <th>...</th>\n",
       "      <td>...</td>\n",
       "      <td>...</td>\n",
       "      <td>...</td>\n",
       "    </tr>\n",
       "    <tr>\n",
       "      <th>2020-10-05 00:00:00+00:00</th>\n",
       "      <td>0.333333</td>\n",
       "      <td>0.333333</td>\n",
       "      <td>0.333333</td>\n",
       "    </tr>\n",
       "    <tr>\n",
       "      <th>2020-10-06 00:00:00+00:00</th>\n",
       "      <td>0.333333</td>\n",
       "      <td>0.333333</td>\n",
       "      <td>0.333333</td>\n",
       "    </tr>\n",
       "    <tr>\n",
       "      <th>2020-10-07 00:00:00+00:00</th>\n",
       "      <td>0.333333</td>\n",
       "      <td>0.333333</td>\n",
       "      <td>0.333333</td>\n",
       "    </tr>\n",
       "    <tr>\n",
       "      <th>2020-10-08 00:00:00+00:00</th>\n",
       "      <td>0.333333</td>\n",
       "      <td>0.333333</td>\n",
       "      <td>0.333333</td>\n",
       "    </tr>\n",
       "    <tr>\n",
       "      <th>2020-10-09 00:00:00+00:00</th>\n",
       "      <td>0.333333</td>\n",
       "      <td>0.333333</td>\n",
       "      <td>0.333333</td>\n",
       "    </tr>\n",
       "  </tbody>\n",
       "</table>\n",
       "<p>1401 rows × 3 columns</p>\n",
       "</div>"
      ],
      "text/plain": [
       "                               NFLX      AAPL      GOOG\n",
       "2015-03-20 00:00:00+00:00 -0.333333  0.000000  0.000000\n",
       "2015-03-23 00:00:00+00:00 -0.333333  0.000000  0.000000\n",
       "2015-03-24 00:00:00+00:00 -0.333333  0.000000  0.000000\n",
       "2015-03-25 00:00:00+00:00 -0.333333 -0.333333  0.000000\n",
       "2015-03-26 00:00:00+00:00 -0.333333 -0.333333  0.000000\n",
       "...                             ...       ...       ...\n",
       "2020-10-05 00:00:00+00:00  0.333333  0.333333  0.333333\n",
       "2020-10-06 00:00:00+00:00  0.333333  0.333333  0.333333\n",
       "2020-10-07 00:00:00+00:00  0.333333  0.333333  0.333333\n",
       "2020-10-08 00:00:00+00:00  0.333333  0.333333  0.333333\n",
       "2020-10-09 00:00:00+00:00  0.333333  0.333333  0.333333\n",
       "\n",
       "[1401 rows x 3 columns]"
      ]
     },
     "execution_count": 5,
     "metadata": {},
     "output_type": "execute_result"
    }
   ],
   "source": [
    "df"
   ]
  },
  {
   "cell_type": "markdown",
   "metadata": {},
   "source": [
    "This makes backtesting very simple because we just have to generate a dataframe of weights and `bt` will run through the weights. What makes it challenging then is setting the weights... and that's where `pandas` comes into play!\n",
    "\n",
    "## 2. Using pandas to prepare the weights (with SL and TP implementation!)\n",
    "\n",
    "We will be implementing a super simple (AND super non-profitable) strategy that makes use of 2 popular technical indicators - the Relative Strength Indicator and the MACD. We will be setting the Stop Losses (SL) and Take Profits (TP) as fixed percentages of the price (note: NOT a trailing stop, just a fixed stop loss)\n",
    "\n",
    "To make things clear, the logic of the strategy is as follows: \n",
    "\n",
    "1. If RSI > 50 and MACD > 0: Buy Signal \n",
    "\n",
    "2. If RSI < 50 and MACD < 0: Sell Signal\n",
    "\n",
    "3. Once we enter a position, the SL will be 0.97x(entry price) and the TP will be 1.5x(entry price). "
   ]
  },
  {
   "cell_type": "code",
   "execution_count": 1,
   "metadata": {},
   "outputs": [],
   "source": [
    "import pandas as pd \n",
    "from tiingo import TiingoClient # for historical data\n",
    "### for my technical indicators\n",
    "from ta.momentum import RSIIndicator, stoch \n",
    "from ta.trend import MACD as md"
   ]
  },
  {
   "cell_type": "markdown",
   "metadata": {},
   "source": [
    "I used Tiingo to get my historical data but you can use your data provider of choice! For this backtest, we are only going to use three stocks (but once you implement this, you can use as many stocks as you want)"
   ]
  },
  {
   "cell_type": "code",
   "execution_count": 2,
   "metadata": {},
   "outputs": [],
   "source": [
    "client = TiingoClient({'api_key' : 'SECRET_API_KEY'})\n",
    "\n",
    "datalist = ['NFLX', 'AAPL', 'GOOG']\n",
    "\n",
    "data = client.get_dataframe(datalist,\n",
    "                                    metric_name='adjClose',\n",
    "                                      frequency='daily',\n",
    "                                      startDate='2015-02-02',\n",
    "                                      endDate='2020-10-10')"
   ]
  },
  {
   "cell_type": "markdown",
   "metadata": {},
   "source": [
    "Once we have our data, we now need to write a function that would allow us to set our target weights (as per the dataframe shown previously). The code may seem long and tricky but its really simple once you think about it. "
   ]
  },
  {
   "cell_type": "code",
   "execution_count": 7,
   "metadata": {},
   "outputs": [],
   "source": [
    "def RSI_base(data,ticker):\n",
    "    MACD = md(close=data[ticker])\n",
    "    data[\"MACD_diff\"] = MACD.macd_diff()\n",
    "    RSI = RSIIndicator(close=data[ticker])\n",
    "    data[\"RSI\"] = RSI.rsi()\n",
    "    data[\"Buy_Signal\"] = 0\n",
    "    data[\"Sell_Signal\"] = 0\n",
    "    data[\"SL\"] = 0 \n",
    "    data[\"TP\"] = 0\n",
    "    data[\"Pos\"] = 0\n",
    "    data[\"TW\"] = 0.0"
   ]
  },
  {
   "cell_type": "markdown",
   "metadata": {},
   "source": [
    "The first thing we do is initialize our indicators and create another column to input their values. Next, we create a number of columns that will allow us to keep track of our positions - we have our buy_signal, our sell_signal, our SL and TP, a column to show whether we are in a Position or not, and finally our target weights (TW). "
   ]
  },
  {
   "cell_type": "code",
   "execution_count": null,
   "metadata": {},
   "outputs": [],
   "source": [
    "    for i in range(0,len(data)):\n",
    "        if data[\"Pos\"][i-1] == 0:\n",
    "            if data[\"RSI\"].iloc[i] > 50 and data[\"MACD_diff\"][i] > 0 and (data[\"Pos\"][i] == 0):\n",
    "                data[\"Buy_Signal\"][i] = 1\n",
    "                data[\"Pos\"][i] = 1\n",
    "                data[\"SL\"][i] = (data[ticker][i]*0.97)\n",
    "                data[\"TP\"][i] = (data[ticker][i]*1.5)\n",
    "            elif data[\"RSI\"].iloc[i] < 50 and data[\"MACD_diff\"][i] < 0 and (data[\"Pos\"][i] == 0): \n",
    "                data[\"Buy_Signal\"][i] = 1\n",
    "                data[\"Pos\"][i] = -1\n",
    "                data[\"SL\"][i] = (data[ticker][i]*1.03)\n",
    "                data[\"TP\"][i] = (data[ticker][i]*0.95)\n",
    "            else:\n",
    "                data[\"Buy_Signal\"][i] = 0 \n",
    "                data[\"Pos\"][i] = 0"
   ]
  },
  {
   "cell_type": "markdown",
   "metadata": {},
   "source": [
    "The next section of the function starts with asking if there is a position open. We use `[i-1]` as a reference because we need to refer to the row above in order to determine if a position is currently open. If there is no position open, we then issue our buy and sell orders! (I'm aware that selling short should technically be a 'sell signal' but for simplicity, as long as we're opening a new position, we call it a 'buy_signal')\n",
    "\n",
    "We then set our positions to either 1 (for long positions) or -1 (for short positions). We calculate our SL and TP and also set those. \n",
    "\n",
    "Of course, if there is no signal, we leave position as 0 (for no position)"
   ]
  },
  {
   "cell_type": "code",
   "execution_count": null,
   "metadata": {},
   "outputs": [],
   "source": [
    "        elif data[\"Pos\"][i-1] == 1:\n",
    "            data[\"SL\"][i] = data[\"SL\"][i-1] \n",
    "            data[\"TP\"][i] = data[\"TP\"][i-1]\n",
    "            if (data[ticker][i] > data[\"SL\"][i-1]) or (data[ticker][i] < data[\"TP\"][i-1]):\n",
    "                data[\"Pos\"][i] = 1\n",
    "            if (data[ticker][i] < data[\"SL\"][i]) or (data[ticker][i] > data[\"TP\"][i-1]):\n",
    "                data[\"Pos\"][i] = 0\n",
    "                data[\"Sell_Signal\"][i] = 1\n",
    "\n",
    "        elif data[\"Pos\"][i-1] == -1:\n",
    "            data[\"SL\"][i] = data[\"SL\"][i-1] \n",
    "            data[\"TP\"][i] = data[\"TP\"][i-1]\n",
    "            if (data[ticker][i] < data[\"SL\"][i-1]) or (data[ticker][i] > data[\"TP\"][i-1]):\n",
    "                data[\"Pos\"][i] = -1\n",
    "            if (data[ticker][i] > data[\"SL\"][i]) or (data[ticker][i] < data[\"TP\"][i-1]):\n",
    "                data[\"Pos\"][i] = 0\n",
    "                data[\"Sell_Signal\"][i] = 1"
   ]
  },
  {
   "cell_type": "markdown",
   "metadata": {},
   "source": [
    "The next block is important because it sets the logic that allows the SL and TP to be used. It checks if the position is a long or short position and then sets the current SL and TP to the preceeding one. This allows the SL and TP to be **persistent**. After setting the SL and TP for the current line, we check if the price of the ticker is below or above the SL and TP (respectively, for long positions and vice versa for short positions). \n",
    "\n",
    "If the price has crossed the SL or TP, we set our positions to 0 (i.e.) exit our positions and then set the sell_signal to 1 (indicating a sell)"
   ]
  },
  {
   "cell_type": "code",
   "execution_count": null,
   "metadata": {},
   "outputs": [],
   "source": [
    "    for i in range(len(data)):\n",
    "        if (data[\"Pos\"][i] == 1): \n",
    "            data[\"TW\"][i] = 1/len(datalist)\n",
    "        elif (data[\"Pos\"][i] == -1):\n",
    "            data[\"TW\"][i] = -(1/len(datalist))\n",
    "        else:\n",
    "            data[\"TW\"][i] = 0\n",
    "\n",
    "    weights = data[\"TW\"]\n",
    "\n",
    "    return weights"
   ]
  },
  {
   "cell_type": "markdown",
   "metadata": {},
   "source": [
    "Whew! We're at the end of the function! Finally, in the last part of the function, we calculate the TW for our positions. Its simply a matter of referring to our positions column - if the position is a long column, we set the weight to `1/len(datalist)` and if short the negative of that (under the assumption we are going to balance the portfolio equally). Of coure, if no position is open, we set the TW to 0 (which will also trigger a close of the position if there was previously an open position). \n",
    "\n",
    "## 3. Settings weights for bt\n",
    "\n",
    "The next part is relatively simple. With this function, we get a `pandas.series` containing the weights for a particular ticker. We create a `for` loop to loop through all the tickers in our datalist and then assign the weights series to temp. We also need to rename it to the ticker name (this is to allow bt to match the weights to the data). This is how we get the df shown at the start of the article.\n",
    "\n",
    "I also clean up the \"data\" dataframe, removing all the unnecessary columns that we created and simply retaining the stock price data."
   ]
  },
  {
   "cell_type": "code",
   "execution_count": 4,
   "metadata": {},
   "outputs": [],
   "source": [
    "df = pd.DataFrame()\n",
    "\n",
    "for i in datalist:\n",
    "    temp = RSI_base(data,i)\n",
    "    temp = temp.rename(i)\n",
    "    df = pd.concat([df,temp],axis=1)\n",
    "\n",
    "data = data[['NFLX', 'AAPL', 'GOOG']]"
   ]
  },
  {
   "cell_type": "markdown",
   "metadata": {},
   "source": [
    "## 4. Running the backtest\n",
    "\n",
    "And... with that, the hard part is over! All that's left to do is to feed this table of weights to bt and run our backtest. I won't be going into detail about bt here because that's really not the focus of the article but drop me a note if you want to chat more about bt/have an article about it!"
   ]
  },
  {
   "cell_type": "code",
   "execution_count": 292,
   "metadata": {},
   "outputs": [
    {
     "name": "stdout",
     "output_type": "stream",
     "text": [
      "Test1\n",
      "0% [############################# ] 100% | ETA: 00:00:00Benchmark\n",
      "0% [############################# ] 100% | ETA: 00:00:00"
     ]
    }
   ],
   "source": [
    "import bt\n",
    "import matplotlib.pyplot as plt\n",
    "import numpy as np\n",
    "\n",
    "#create strategy\n",
    "crosses = bt.Strategy('Test1', [bt.algos.WeighTarget(df),\n",
    "                                    bt.algos.Rebalance()])\n",
    "\n",
    "#create benchmark of buy-and-hold\n",
    "long_only = bt.Strategy('Benchmark', [bt.algos.RunOnce(),\n",
    "                        bt.algos.SelectAll(),\n",
    "                        bt.algos.WeighEqually(),\n",
    "                        bt.algos.Rebalance()])\n",
    "\n",
    "#set backtests and commissions\n",
    "t = bt.Backtest(crosses,data,commissions=lambda q, p: max(1, abs(q) * 0.05))\n",
    "s = bt.Backtest(long_only, data,commissions=lambda q, p: max(1, abs(q) * 0.05))\n",
    "\n",
    "report = bt.run(t,s)\n",
    "plt.title(\"Portfolio Returns\")\n",
    "report.plot()"
   ]
  },
  {
   "cell_type": "code",
   "execution_count": 293,
   "metadata": {},
   "outputs": [
    {
     "name": "stdout",
     "output_type": "stream",
     "text": [
      "Stat                 Test1       Benchmark\n",
      "-------------------  ----------  -----------\n",
      "Start                2015-02-01  2015-02-01\n",
      "End                  2020-10-09  2020-10-09\n",
      "Risk-free rate       0.10%       0.10%\n",
      "\n",
      "Total Return         189.47%     424.46%\n",
      "Daily Sharpe         0.93        1.14\n",
      "Daily Sortino        1.49        1.88\n",
      "CAGR                 20.55%      33.83%\n",
      "Max Drawdown         -30.97%     -34.69%\n",
      "Calmar Ratio         0.66        0.98\n",
      "\n",
      "MTD                  4.01%       5.03%\n",
      "3m                   5.45%       9.00%\n",
      "6m                   28.16%      48.02%\n",
      "YTD                  9.41%       52.04%\n",
      "1Y                   27.37%      83.19%\n",
      "3Y (ann.)            26.36%      35.31%\n",
      "5Y (ann.)            20.09%      31.69%\n",
      "10Y (ann.)           20.55%      33.83%\n",
      "Since Incep. (ann.)  20.55%      33.83%\n",
      "\n",
      "Daily Sharpe         0.93        1.14\n",
      "Daily Sortino        1.49        1.88\n",
      "Daily Mean (ann.)    21.26%      33.40%\n",
      "Daily Vol (ann.)     22.69%      29.17%\n",
      "Daily Skew           -0.27       -0.14\n",
      "Daily Kurt           4.06        4.07\n",
      "Best Day             7.61%       8.99%\n",
      "Worst Day            -8.00%      -11.56%\n",
      "\n",
      "Monthly Sharpe       0.96        1.24\n",
      "Monthly Sortino      1.83        2.73\n",
      "Monthly Mean (ann.)  21.29%      31.42%\n",
      "Monthly Vol (ann.)   22.02%      25.26%\n",
      "Monthly Skew         -0.31       -0.00\n",
      "Monthly Kurt         0.26        -0.17\n",
      "Best Month           15.78%      22.37%\n",
      "Worst Month          -16.93%     -13.99%\n",
      "\n",
      "Yearly Sharpe        0.98        1.63\n",
      "Yearly Sortino       4.38        inf\n",
      "Yearly Mean          20.70%      31.72%\n",
      "Yearly Vol           21.11%      19.39%\n",
      "Yearly Skew          -0.90       -0.37\n",
      "Yearly Kurt          -0.65       -2.20\n",
      "Best Year            38.74%      52.04%\n",
      "Worst Year           -10.52%     6.90%\n",
      "\n",
      "Avg. Drawdown        -3.68%      -3.71%\n",
      "Avg. Drawdown Days   28.66       23.18\n",
      "Avg. Up Month        5.71%       6.86%\n",
      "Avg. Down Month      -4.58%      -5.67%\n",
      "Win Year %           80.00%      100.00%\n",
      "Win 12m %            82.76%      86.21%\n"
     ]
    }
   ],
   "source": [
    "report.set_riskfree_rate(0.001)\n",
    "report.display()"
   ]
  },
  {
   "cell_type": "markdown",
   "metadata": {},
   "source": [
    "So, obviously NOT a market-beating strategy but not too terrible if I do say so myself. \n",
    "\n",
    "# Conclusion\n",
    "\n",
    "In this article, we saw how we can work within pandas to create a strategy that has bracket orders of SL and TP. We then used bt to run the strategy. That's all for now. Thanks for reading and let me know if you have any questions!"
   ]
  },
  {
   "cell_type": "code",
   "execution_count": null,
   "metadata": {},
   "outputs": [],
   "source": []
  }
 ],
 "metadata": {
  "kernelspec": {
   "display_name": "BacktestExp",
   "language": "python",
   "name": "backtestexp"
  },
  "language_info": {
   "codemirror_mode": {
    "name": "ipython",
    "version": 3
   },
   "file_extension": ".py",
   "mimetype": "text/x-python",
   "name": "python",
   "nbconvert_exporter": "python",
   "pygments_lexer": "ipython3",
   "version": "3.8.6"
  }
 },
 "nbformat": 4,
 "nbformat_minor": 2
}
