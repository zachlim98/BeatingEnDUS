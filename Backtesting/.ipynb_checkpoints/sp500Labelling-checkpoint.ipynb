{
 "cells": [
  {
   "cell_type": "code",
   "execution_count": 1,
   "metadata": {},
   "outputs": [],
   "source": [
    "import pandas as pd\n",
    "import numpy as np\n",
    "from tiingo import TiingoClient\n",
    "\n",
    "client = TiingoClient({'api_key' : '9c884b918420c9220dcf832c83a6ba8025711e1e'})"
   ]
  },
  {
   "cell_type": "code",
   "execution_count": 2,
   "metadata": {},
   "outputs": [],
   "source": [
    "datalist = ['A', 'AABA', 'AAL', 'AAMRQ', 'AAP']\n",
    "\n",
    "start_date = '2000-01-01'\n",
    "end_date = '2020-12-05'\n",
    "\n",
    "\n",
    "# spy_data = client.get_dataframe(\"SPY\",\n",
    "#                                     frequency='daily',\n",
    "#                                     startDate=start_date,\n",
    "#                                     endDate=end_date)\n",
    "\n",
    "# spy_data = spy_data.tz_convert(None)\n",
    "# dfdates = pd.DataFrame(index=spy_data.index)\n",
    "\n",
    "# for i in range(len(datalist)):\n",
    "#     try:\n",
    "#         data = client.get_dataframe(datalist[i],\n",
    "#                                             frequency='daily',\n",
    "#                                             startDate=start_date,\n",
    "#                                             endDate=end_date)\n",
    "\n",
    "#         data = data.tz_convert(None)\n",
    "#         data2 = dfdates.join(data, how='left').fillna(0)\n",
    "#         data3 = data2.join(sphist, how='left').fillna(method='ffill')\n",
    "#         data3['inSPY'] = 0\n",
    "#         for t in range(len(data3)):\n",
    "#             if datalist[i] in (data3['tickers'][t]):\n",
    "#                 data3['inSPY'][t] = 1\n",
    "#             else:\n",
    "#                 data3['inSPY'][t] = 0\n",
    "#         data3.drop('tickers',axis=1).to_csv(\"data/{}.csv\".format(datalist[i]))\n",
    "#         print(f\"{i}/{len(datalist)} finished\")\n",
    "        \n",
    "#     except:\n",
    "#         print(f'{datalist[i]} not found')"
   ]
  },
  {
   "cell_type": "code",
   "execution_count": 3,
   "metadata": {},
   "outputs": [],
   "source": [
    "sp500hist = pd.read_csv(\"sp500_hist.csv\")"
   ]
  },
  {
   "cell_type": "code",
   "execution_count": 4,
   "metadata": {},
   "outputs": [],
   "source": [
    "sphist = sp500hist.set_index(sp500hist['date']).drop('date', axis=1)"
   ]
  },
  {
   "cell_type": "code",
   "execution_count": 5,
   "metadata": {},
   "outputs": [],
   "source": [
    "import datetime as datetime"
   ]
  },
  {
   "cell_type": "code",
   "execution_count": 6,
   "metadata": {},
   "outputs": [],
   "source": [
    "index = pd.date_range(start='2000-1-1',end='2020-1-6')\n",
    "columns = ['A']"
   ]
  },
  {
   "cell_type": "code",
   "execution_count": 7,
   "metadata": {},
   "outputs": [],
   "source": [
    "spy_data = client.get_dataframe(\"SPY\",\n",
    "                                    frequency='daily',\n",
    "                                    startDate=start_date,\n",
    "                                    endDate=end_date)\n",
    "\n",
    "spy_data = spy_data.tz_convert(None)\n",
    "blank = pd.DataFrame(index=spy_data.index)"
   ]
  },
  {
   "cell_type": "code",
   "execution_count": 8,
   "metadata": {},
   "outputs": [],
   "source": [
    "sphist = blank.join(sphist, how='left').fillna(method='ffill')"
   ]
  },
  {
   "cell_type": "code",
   "execution_count": 9,
   "metadata": {},
   "outputs": [],
   "source": [
    "everwas = []\n",
    "\n",
    "for i in range(len(sphist)):\n",
    "    x = sphist.iloc[i,0].split(',')\n",
    "    everwas = sorted(np.unique(everwas + x))"
   ]
  },
  {
   "cell_type": "code",
   "execution_count": 10,
   "metadata": {},
   "outputs": [],
   "source": [
    "splitno = int((len(everwas)/3))\n",
    "\n",
    "everwas1 = everwas[:splitno]\n",
    "everwas2 = everwas[(splitno):(splitno*2)]\n",
    "everwas3 = everwas[(splitno*2):]"
   ]
  },
  {
   "cell_type": "code",
   "execution_count": 11,
   "metadata": {},
   "outputs": [
    {
     "data": {
      "text/plain": [
       "987"
      ]
     },
     "execution_count": 11,
     "metadata": {},
     "output_type": "execute_result"
    }
   ],
   "source": [
    "len(everwas)"
   ]
  },
  {
   "cell_type": "code",
   "execution_count": 12,
   "metadata": {},
   "outputs": [],
   "source": [
    "datalist = [\"SPY\", \"VEU\", \"BIL\", \"AGG\"]"
   ]
  },
  {
   "cell_type": "code",
   "execution_count": 13,
   "metadata": {},
   "outputs": [
    {
     "name": "stderr",
     "output_type": "stream",
     "text": [
      "<ipython-input-13-b0bd4bc63ce3>:27: SettingWithCopyWarning: \n",
      "A value is trying to be set on a copy of a slice from a DataFrame\n",
      "\n",
      "See the caveats in the documentation: https://pandas.pydata.org/pandas-docs/stable/user_guide/indexing.html#returning-a-view-versus-a-copy\n",
      "  data3['inSPY'][t] = 0\n"
     ]
    },
    {
     "name": "stdout",
     "output_type": "stream",
     "text": [
      "0/4 finished\n",
      "1/4 finished\n",
      "2/4 finished\n",
      "3/4 finished\n"
     ]
    }
   ],
   "source": [
    "start_date = '2000-01-01'\n",
    "end_date = '2020-12-05'\n",
    "\n",
    "spy_data = client.get_dataframe(\"SPY\",\n",
    "                                    frequency='daily',\n",
    "                                    startDate=start_date,\n",
    "                                    endDate=end_date)\n",
    "\n",
    "spy_data = spy_data.tz_convert(None)\n",
    "dfdates = pd.DataFrame(index=spy_data.index)\n",
    "\n",
    "for i in range(len(datalist)):\n",
    "    try:\n",
    "        data = client.get_dataframe(datalist[i],\n",
    "                                            frequency='daily',\n",
    "                                            startDate=start_date,\n",
    "                                            endDate=end_date)\n",
    "\n",
    "        data = data.tz_convert(None)\n",
    "        data2 = dfdates.join(data, how='left').fillna(0)\n",
    "        data3 = data2.join(sphist, how='left').fillna(method='ffill')\n",
    "        data3['inSPY'] = 0\n",
    "        for t in range(len(data3)):\n",
    "            if datalist[i] in (data3['tickers'][t]):\n",
    "                data3['inSPY'][t] = 1\n",
    "            else:\n",
    "                data3['inSPY'][t] = 0\n",
    "        data3.drop('tickers',axis=1).to_csv(\"data/ETFs/{}.csv\".format(datalist[i]))\n",
    "        print(f\"{i}/{len(datalist)} finished\")\n",
    "    except:\n",
    "        print(f\"{datalist[i]} was not found\")"
   ]
  },
  {
   "cell_type": "code",
   "execution_count": null,
   "metadata": {},
   "outputs": [],
   "source": []
  }
 ],
 "metadata": {
  "kernelspec": {
   "display_name": "BacktestExp",
   "language": "python",
   "name": "backtestexp"
  },
  "language_info": {
   "codemirror_mode": {
    "name": "ipython",
    "version": 3
   },
   "file_extension": ".py",
   "mimetype": "text/x-python",
   "name": "python",
   "nbconvert_exporter": "python",
   "pygments_lexer": "ipython3",
   "version": "3.8.6"
  }
 },
 "nbformat": 4,
 "nbformat_minor": 4
}
