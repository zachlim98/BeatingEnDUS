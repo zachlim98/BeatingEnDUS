{
 "cells": [
  {
   "cell_type": "code",
   "execution_count": 1,
   "metadata": {},
   "outputs": [],
   "source": [
    "import pandas as pd\n",
    "import numpy as np\n",
    "from tiingo import TiingoClient\n",
    "\n",
    "client = TiingoClient({'api_key' : '7fb8e25ac6335f846ae82d3f3a28ed535f313592'})"
   ]
  },
  {
   "cell_type": "code",
   "execution_count": 2,
   "metadata": {},
   "outputs": [],
   "source": [
    "datalist = ['A', 'AABA', 'AAL', 'AAMRQ', 'AAP']\n",
    "\n",
    "start_date = '2000-01-01'\n",
    "end_date = '2020-12-05'\n",
    "\n",
    "\n",
    "# spy_data = client.get_dataframe(\"SPY\",\n",
    "#                                     frequency='daily',\n",
    "#                                     startDate=start_date,\n",
    "#                                     endDate=end_date)\n",
    "\n",
    "# spy_data = spy_data.tz_convert(None)\n",
    "# dfdates = pd.DataFrame(index=spy_data.index)\n",
    "\n",
    "# for i in range(len(datalist)):\n",
    "#     try:\n",
    "#         data = client.get_dataframe(datalist[i],\n",
    "#                                             frequency='daily',\n",
    "#                                             startDate=start_date,\n",
    "#                                             endDate=end_date)\n",
    "\n",
    "#         data = data.tz_convert(None)\n",
    "#         data2 = dfdates.join(data, how='left').fillna(0)\n",
    "#         data3 = data2.join(sphist, how='left').fillna(method='ffill')\n",
    "#         data3['inSPY'] = 0\n",
    "#         for t in range(len(data3)):\n",
    "#             if datalist[i] in (data3['tickers'][t]):\n",
    "#                 data3['inSPY'][t] = 1\n",
    "#             else:\n",
    "#                 data3['inSPY'][t] = 0\n",
    "#         data3.drop('tickers',axis=1).to_csv(\"data/{}.csv\".format(datalist[i]))\n",
    "#         print(f\"{i}/{len(datalist)} finished\")\n",
    "        \n",
    "#     except:\n",
    "#         print(f'{datalist[i]} not found')"
   ]
  },
  {
   "cell_type": "code",
   "execution_count": 3,
   "metadata": {},
   "outputs": [],
   "source": [
    "sp500hist = pd.read_csv(\"sp500_hist.csv\")"
   ]
  },
  {
   "cell_type": "code",
   "execution_count": 4,
   "metadata": {},
   "outputs": [],
   "source": [
    "sphist = sp500hist.set_index(sp500hist['date']).drop('date', axis=1)"
   ]
  },
  {
   "cell_type": "code",
   "execution_count": 5,
   "metadata": {},
   "outputs": [],
   "source": [
    "import datetime as datetime"
   ]
  },
  {
   "cell_type": "code",
   "execution_count": 6,
   "metadata": {},
   "outputs": [],
   "source": [
    "index = pd.date_range(start='2000-1-1',end='2020-1-6')\n",
    "columns = ['A']"
   ]
  },
  {
   "cell_type": "code",
   "execution_count": 7,
   "metadata": {},
   "outputs": [],
   "source": [
    "spy_data = client.get_dataframe(\"SPY\",\n",
    "                                    frequency='daily',\n",
    "                                    startDate=start_date,\n",
    "                                    endDate=end_date)\n",
    "\n",
    "spy_data = spy_data.tz_convert(None)\n",
    "blank = pd.DataFrame(index=spy_data.index)"
   ]
  },
  {
   "cell_type": "code",
   "execution_count": 8,
   "metadata": {},
   "outputs": [],
   "source": [
    "sphist = blank.join(sphist, how='left').fillna(method='ffill')"
   ]
  },
  {
   "cell_type": "code",
   "execution_count": 9,
   "metadata": {},
   "outputs": [],
   "source": [
    "everwas = []\n",
    "\n",
    "for i in range(len(sphist)):\n",
    "    x = sphist.iloc[i,0].split(',')\n",
    "    everwas = sorted(np.unique(everwas + x))"
   ]
  },
  {
   "cell_type": "code",
   "execution_count": 10,
   "metadata": {},
   "outputs": [],
   "source": [
    "splitno = int((len(everwas)/3))\n",
    "\n",
    "everwas1 = everwas[:splitno]\n",
    "everwas2 = everwas[(splitno):(splitno*2)]\n",
    "everwas3 = everwas[(splitno*2):]"
   ]
  },
  {
   "cell_type": "code",
   "execution_count": 13,
   "metadata": {},
   "outputs": [],
   "source": [
    "everwast = ['EXPD', 'EXPE', 'EXR', 'F', 'FANG', 'FAST', 'FB', 'FBF', 'FBHS', 'FCPT', 'FCX', 'FDC', 'FDO', 'FDX', 'FE', 'FFIV', 'FHN', 'FII', 'FIS', 'FISV', 'FITB', 'FJ', 'FL', 'FLIR', 'FLR', 'FLS', 'FLT', 'FLTWQ', 'FMC', 'FMCC', 'FNMA', 'FOSL', 'FOX', 'FOXA', 'FPC', 'FRC', 'FRT', 'FRX', 'FSH', 'FSL', 'FSLR', 'FTI', 'FTNT', 'FTR', 'FTV', 'FWLT', 'G', 'GAPTQ', 'GAS', 'GD', 'GDT', 'GDW', 'GE', 'GENZ', 'GGP', 'GHC', 'GILD', 'GIS', 'GL', 'GLK', 'GLW', 'GM', 'GMCR', 'GME', 'GNW', 'GOOG', 'GOOGL', 'GP', 'GPC', 'GPN', 'GPS', 'GPU', 'GR', 'GRA', 'GRMN', 'GS', 'GT', 'GTE', 'GTW', 'GWW', 'GX', 'H', 'HAL', 'HAR', 'HAS', 'HBAN', 'HBI', 'HCA', 'HCBK', 'HCP', 'HCR', 'HD', 'HES', 'HET', 'HFC', 'HI', 'HIG', 'HII', 'HLT', 'HM', 'HMA', 'HNZ', 'HOG', 'HOLX', 'HON', 'HOT', 'HP', 'HPC', 'HPE', 'HPQ', 'HRB', 'HRL', 'HRS', 'HSH', 'HSIC', 'HSP', 'HST', 'HSY', 'HUM', 'HWM', 'IAC', 'IBM', 'ICE', 'IDXX', 'IEX', 'IFF', 'IGT', 'IKN', 'ILMN', 'IMNX', 'INCLF', 'INCY', 'INFO', 'INTC', 'INTU', 'IP', 'IPG', 'IPGP', 'IQV', 'IR', 'IRM', 'ISRG', 'IT', 'ITT', 'ITW', 'IVZ', 'J', 'JAVA', 'JBHT', 'JBL', 'JCI', 'JCP', 'JEC', 'JEF', 'JHF', 'JKHY', 'JNJ', 'JNPR', 'JNS', 'JNY', 'JOS', 'JOY', 'JP', 'JPM', 'JWN', 'K', 'KATE', 'KBH', 'KDP', 'KEY', 'KEYS', 'KG', 'KHC', 'KIM', 'KLAC', 'KM', 'KMB', 'KMG', 'KMI', 'KMX', 'KO', 'KORS', 'KR', 'KRB', 'KRFT', 'KRI', 'KSE', 'KSS', 'KSU', 'L', 'LB', 'LDG', 'LDOS', 'LEG', 'LEHMQ', 'LEN', 'LH', 'LHX', 'LIFE', 'LIN', 'LKQ', 'LLL', 'LLTC', 'LLY', 'LM', 'LMT', 'LNC', 'LNT', 'LO', 'LOW', 'LPX', 'LRCX', 'LSI', 'LU', 'LUMN', 'LUV', 'LVLT', 'LVS', 'LW', 'LXK', 'LYB', 'LYV', 'M', 'MA', 'MAA', 'MAC', 'MAR', 'MAS', 'MAT', 'MAY', 'MBI', 'MCD', 'MCHP', 'MCK', 'MCO', 'MDLZ', 'MDP', 'MDR', 'MDT', 'MEA', 'MEDI', 'MEE', 'MEL', 'MER', 'MERQ', 'MET', 'MFE', 'MGM', 'MHK', 'MHS', 'MI', 'MIL', 'MIR', 'MJN', 'MKC', 'MKG', 'MKTX', 'MLM', 'MMC', 'MMI', 'MMM', 'MNK', 'MNST', 'MO', 'MOLX', 'MON', 'MOS', 'MPC', 'MRK', 'MRO', 'MS', 'MSCI', 'MSFT', 'MSI', 'MTB', 'MTD', 'MTG', 'MTLQQ', 'MTW', 'MU', 'MUR', 'MWV', 'MWW', 'MXIM', 'MYG', 'MYL', 'MZIAQ', 'NAV', 'NAVI', 'NBL', 'NBR', 'NC', 'NCC', 'NCE', 'NCLH', 'NCR', 'NDAQ', 'NE', 'NEE', 'NEM', 'NFB', 'NFLX', 'NFX', 'NGH', 'NI', 'NKE', 'NKTR', 'NLOK', 'NLSN', 'NLV', 'NMK', 'NOC', 'NOV', 'NOVL', 'NOW', 'NRG', 'NRTLQ', 'NSC', 'NSI', 'NSM', 'NTAP', 'NTRS', 'NUE', 'NVDA', 'NVLS', 'NVR', 'NWL', 'NWS', 'NWSA']"
   ]
  },
  {
   "cell_type": "code",
   "execution_count": null,
   "metadata": {},
   "outputs": [
    {
     "name": "stdout",
     "output_type": "stream",
     "text": [
      "EXPD was not found\n",
      "EXPE was not found\n",
      "EXR was not found\n"
     ]
    }
   ],
   "source": [
    "from tiingo import TiingoClient\n",
    "\n",
    "client = TiingoClient({'api_key' : '7fb8e25ac6335f846ae82d3f3a28ed535f313592'})\n",
    "\n",
    "datalist = ['A', 'AABA', 'AAL', 'AAMRQ', 'AAP']\n",
    "\n",
    "start_date = '2000-01-01'\n",
    "end_date = '2020-12-05'\n",
    "\n",
    "\n",
    "# spy_data = client.get_dataframe(\"SPY\",\n",
    "#                                     frequency='daily',\n",
    "#                                     startDate=start_date,\n",
    "#                                     endDate=end_date)\n",
    "\n",
    "# spy_data = spy_data.tz_convert(None)\n",
    "# dfdates = pd.DataFrame(index=spy_data.index)\n",
    "\n",
    "for i in range(len(everwast)):\n",
    "    try: \n",
    "        data = client.get_dataframe(everwast[i],\n",
    "                                            frequency='daily',\n",
    "                                            startDate=start_date,\n",
    "                                            endDate=end_date)\n",
    "\n",
    "        data = data.tz_convert(None)\n",
    "        data2 = dfdates.join(data, how='left').fillna(0)\n",
    "        data3 = data2.join(sphist, how='left').fillna(method='ffill')\n",
    "        data3['inSPY'] = 0\n",
    "        for t in range(len(data3)):\n",
    "            if everwast[i] in (data3['tickers'][t]):\n",
    "                data3['inSPY'][t] = 1\n",
    "            else:\n",
    "                data3['inSPY'][t] = 0\n",
    "        data3.drop('tickers',axis=1).to_csv(\"data/{}.csv\".format(everwast[i]))\n",
    "        print(f\"{i}/{len(everwast)} finished\")\n",
    "    except:\n",
    "        print(f\"{everwast[i]} was not found\")"
   ]
  },
  {
   "cell_type": "code",
   "execution_count": null,
   "metadata": {},
   "outputs": [],
   "source": []
  }
 ],
 "metadata": {
  "kernelspec": {
   "display_name": "BacktestExp",
   "language": "python",
   "name": "backtestexp"
  },
  "language_info": {
   "codemirror_mode": {
    "name": "ipython",
    "version": 3
   },
   "file_extension": ".py",
   "mimetype": "text/x-python",
   "name": "python",
   "nbconvert_exporter": "python",
   "pygments_lexer": "ipython3",
   "version": "3.8.6"
  }
 },
 "nbformat": 4,
 "nbformat_minor": 4
}
