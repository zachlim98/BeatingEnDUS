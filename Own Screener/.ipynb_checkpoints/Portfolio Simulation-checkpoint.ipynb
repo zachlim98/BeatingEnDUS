{
 "cells": [
  {
   "cell_type": "code",
   "execution_count": 1,
   "metadata": {},
   "outputs": [],
   "source": [
    "import random\n",
    "import numpy as np\n",
    "import matplotlib.pyplot as plt\n",
    "import scipy.stats as stats\n",
    "import seaborn as sns\n",
    "import math"
   ]
  },
  {
   "cell_type": "code",
   "execution_count": 2,
   "metadata": {},
   "outputs": [
    {
     "data": {
      "image/png": "[encoded data removed]",
      "text/plain": [
       "<Figure size 432x288 with 1 Axes>"
      ]
     },
     "metadata": {
      "needs_background": "light"
     },
     "output_type": "display_data"
    }
   ],
   "source": [
    "# code from https://moonbooks.org/Articles/How-to-plot-a-normal-distribution-with-matplotlib-in-python-/\n",
    "\n",
    "fig, ax = plt.subplots()\n",
    "x_min = 4\n",
    "x_max = 12\n",
    "\n",
    "mean = 7.71\n",
    "std = 0.8\n",
    "\n",
    "x = np.linspace(x_min, x_max)\n",
    "\n",
    "y = stats.norm.pdf(x,mean,std)\n",
    "\n",
    "plt.plot(x,y, color='black')\n",
    "\n",
    "#----------------------------------------------------------------------------------------#\n",
    "# fill area 1\n",
    "\n",
    "pt1 = mean + std\n",
    "plt.plot([pt1 ,pt1 ],[0.0,stats.norm.pdf(pt1 ,mean, std)], color='black')\n",
    "\n",
    "pt2 = mean - std\n",
    "plt.plot([pt2 ,pt2 ],[0.0,stats.norm.pdf(pt2 ,mean, std)], color='black')\n",
    "\n",
    "ptx = np.linspace(pt1, pt2, 10)\n",
    "pty = stats.norm.pdf(ptx,mean,std)\n",
    "\n",
    "plt.fill_between(ptx, pty, color='#9f3f0b', alpha=1.0)\n",
    "\n",
    "#----------------------------------------------------------------------------------------#\n",
    "# fill area 2\n",
    "\n",
    "pt1 = mean + std\n",
    "plt.plot([pt1 ,pt1 ],[0.0,stats.norm.pdf(pt1 ,mean, std)], color='black')\n",
    "\n",
    "pt2 = mean + 2.0 * std\n",
    "plt.plot([pt2 ,pt2 ],[0.0,stats.norm.pdf(pt2 ,mean, std)], color='black')\n",
    "\n",
    "ptx = np.linspace(pt1, pt2, 10)\n",
    "pty = stats.norm.pdf(ptx,mean,std)\n",
    "\n",
    "plt.fill_between(ptx, pty, color='#9f780b', alpha=1.0)\n",
    "\n",
    "#----------------------------------------------------------------------------------------#\n",
    "# fill area 3\n",
    "\n",
    "pt1 = mean - std\n",
    "plt.plot([pt1 ,pt1 ],[0.0,stats.norm.pdf(pt1 ,mean, std)], color='black')\n",
    "\n",
    "pt2 = mean - 2.0 * std\n",
    "plt.plot([pt2 ,pt2 ],[0.0,stats.norm.pdf(pt2 ,mean, std)], color='black')\n",
    "\n",
    "ptx = np.linspace(pt1, pt2, 10)\n",
    "pty = stats.norm.pdf(ptx,mean,std)\n",
    "\n",
    "plt.fill_between(ptx, pty, color='#9f780b', alpha=1.0)\n",
    "\n",
    "#----------------------------------------------------------------------------------------#\n",
    "# fill area 4\n",
    "\n",
    "pt1 = mean + 2.0 * std\n",
    "plt.plot([pt1 ,pt1 ],[0.0,stats.norm.pdf(pt1 ,mean, std)], color='black')\n",
    "\n",
    "pt2 = mean + 3.0 * std\n",
    "plt.plot([pt2 ,pt2 ],[0.0,stats.norm.pdf(pt2 ,mean, std)], color='black')\n",
    "\n",
    "ptx = np.linspace(pt1, pt2, 10)\n",
    "pty = stats.norm.pdf(ptx,mean,std)\n",
    "\n",
    "plt.fill_between(ptx, pty, color='#ebed6b', alpha=1.0)\n",
    "\n",
    "#----------------------------------------------------------------------------------------#\n",
    "# fill area 5\n",
    "\n",
    "pt1 = mean - 2.0 * std\n",
    "plt.plot([pt1 ,pt1 ],[0.0,stats.norm.pdf(pt1 ,mean, std)], color='black')\n",
    "\n",
    "pt2 = mean - 3.0 * std\n",
    "plt.plot([pt2 ,pt2 ],[0.0,stats.norm.pdf(pt2 ,mean, std)], color='black')\n",
    "\n",
    "ptx = np.linspace(pt1, pt2, 10)\n",
    "pty = stats.norm.pdf(ptx,mean,std)\n",
    "\n",
    "plt.fill_between(ptx, pty, color='#ebed6b', alpha=1.0)\n",
    "\n",
    "#----------------------------------------------------------------------------------------#\n",
    "# fill area 6\n",
    "\n",
    "pt1 = mean + 3.0 * std\n",
    "plt.plot([pt1 ,pt1 ],[0.0,stats.norm.pdf(pt1 ,mean, std)], color='black')\n",
    "\n",
    "pt2 = mean + 10.0 *std\n",
    "plt.plot([pt2 ,pt2 ],[0.0,stats.norm.pdf(pt2 ,mean, std)], color='black')\n",
    "\n",
    "ptx = np.linspace(pt1, pt2, 10)\n",
    "pty = stats.norm.pdf(ptx,mean,std)\n",
    "\n",
    "plt.fill_between(ptx, pty, color='#f1f2ac', alpha=1.0)\n",
    "\n",
    "#----------------------------------------------------------------------------------------#\n",
    "# fill area 7\n",
    "\n",
    "pt1 = mean - 3.0 * std\n",
    "plt.plot([pt1 ,pt1 ],[0.0,stats.norm.pdf(pt1 ,mean, std)], color='black')\n",
    "\n",
    "pt2 = mean - 10.0 * std\n",
    "plt.plot([pt2 ,pt2 ],[0.0,stats.norm.pdf(pt2 ,mean, std)], color='black')\n",
    "\n",
    "ptx = np.linspace(pt1, pt2, 10)\n",
    "pty = stats.norm.pdf(ptx,mean,std)\n",
    "\n",
    "plt.fill_between(ptx, pty, color='#f1f2ac', alpha=1.0)\n",
    "\n",
    "#----------------------------------------------------------------------------------------#\n",
    "\n",
    "plt.xlim(x_min,x_max)\n",
    "plt.ylim(0,0.6)\n",
    "\n",
    "plt.title('Endowus Rate of Return for 60/40 Portfolio',fontsize=10)\n",
    "\n",
    "plt.xlabel('Rate of Return')\n",
    "plt.ylabel('Probability Density')\n",
    "\n",
    "plt.show()"
   ]
  },
  {
   "cell_type": "code",
   "execution_count": 3,
   "metadata": {},
   "outputs": [],
   "source": [
    "def EstimateReturns(initial_invest, expected_returns, std_dev, duration):\n",
    "    final_money = []\n",
    "    yearcount = []\n",
    "    \n",
    "    year = 1\n",
    "    \n",
    "    for year in range(duration):\n",
    "        this_return = np.random.normal(expected_returns,std_dev)\n",
    "        initial_invest = initial_invest * (1+this_return)\n",
    "        final_money.append(initial_invest)\n",
    "        yearcount.append(year)\n",
    "        \n",
    "    plt.ylabel('Amount of $')\n",
    "    plt.xlabel('Number of years')\n",
    "    plt.plot(yearcount,final_money)\n",
    "    \n",
    "    final_funds.append(final_money[-1])\n",
    "    return(final_funds)"
   ]
  },
  {
   "cell_type": "code",
   "execution_count": 13,
   "metadata": {},
   "outputs": [
    {
     "name": "stdout",
     "output_type": "stream",
     "text": [
      "how much is your initial investment?\n",
      "10000\n",
      "What is the yearly rate of return?\n",
      "0.7\n",
      "What is the standard deviation of return\n",
      "0.0781\n",
      "How many years are you investing for?\n",
      "30\n",
      "how many times to simulate?\n",
      "10000\n"
     ]
    },
    {
     "data": {
      "text/plain": [
       "'82190212548.08972'"
      ]
     },
     "execution_count": 13,
     "metadata": {},
     "output_type": "execute_result"
    },
    {
     "data": {
      "image/png": "[encoded data removed]",
      "text/plain": [
       "<Figure size 432x288 with 1 Axes>"
      ]
     },
     "metadata": {
      "needs_background": "light"
     },
     "output_type": "display_data"
    }
   ],
   "source": [
    "final_funds = []\n",
    "\n",
    "investment_start = int(input(\"how much is your initial investment?\\n\"))\n",
    "RORY = float(input(\"What is the yearly rate of return?\\n\")) \n",
    "YearStd = float(input(\"What is the standard deviation of return\\n\"))\n",
    "YearC = int(input(\"How many years are you investing for?\\n\"))\n",
    "simulation_no = int(input(\"how many times to simulate?\\n\"))\n",
    "\n",
    "np.random.seed(123)\n",
    "\n",
    "for i in range(simulation_no):\n",
    "    ending_fund = EstimateReturns(investment_start,RORY,YearStd,YearC)\n",
    "\n",
    "average_made = str(sum(ending_fund)/len(ending_fund))\n",
    "average_made"
   ]
  },
  {
   "cell_type": "code",
   "execution_count": 14,
   "metadata": {},
   "outputs": [
    {
     "name": "stdout",
     "output_type": "stream",
     "text": [
      "The median return of the portfolio is 79830026990.74.\n",
      "The 10th percentile is 57374377254.75 and the 75th percentile is 94655289488.97.\n",
      "The highest amount is 225225174502.04, and the lowest is 34068119785.18.\n"
     ]
    }
   ],
   "source": [
    "port_std = round(np.std(ending_fund), 2)\n",
    "port_median = round(np.median(ending_fund), 2)\n",
    "port_10per = round(np.percentile(ending_fund, 10), 2)\n",
    "port_75per = round(np.percentile(ending_fund, 75), 2)\n",
    "port_max = round(np.max(ending_fund), 2)\n",
    "port_min = round(np.min(ending_fund), 2)\n",
    "\n",
    "print(\"The median return of the portfolio is %s.\\nThe 10th percentile is %s and the 75th percentile is %s.\\nThe highest amount is %s, and the lowest is %s.\" % (port_median,port_10per,port_75per,port_max,port_min))"
   ]
  },
  {
   "cell_type": "code",
   "execution_count": null,
   "metadata": {},
   "outputs": [],
   "source": []
  },
  {
   "cell_type": "code",
   "execution_count": null,
   "metadata": {},
   "outputs": [],
   "source": []
  }
 ],
 "metadata": {
  "kernelspec": {
   "display_name": "Python 3",
   "language": "python",
   "name": "python3"
  },
  "language_info": {
   "codemirror_mode": {
    "name": "ipython",
    "version": 3
   },
   "file_extension": ".py",
   "mimetype": "text/x-python",
   "name": "python",
   "nbconvert_exporter": "python",
   "pygments_lexer": "ipython3",
   "version": "3.8.6"
  }
 },
 "nbformat": 4,
 "nbformat_minor": 4
}
