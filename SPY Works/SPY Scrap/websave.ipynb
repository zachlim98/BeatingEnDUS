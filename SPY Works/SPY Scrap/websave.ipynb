{
 "metadata": {
  "language_info": {
   "codemirror_mode": {
    "name": "ipython",
    "version": 3
   },
   "file_extension": ".py",
   "mimetype": "text/x-python",
   "name": "python",
   "nbconvert_exporter": "python",
   "pygments_lexer": "ipython3",
   "version": "3.8.5"
  },
  "orig_nbformat": 2,
  "kernelspec": {
   "name": "python385jvsc74a57bd0048f1fa9a33d9a89442c8aba85d23c95ec4be7278da4853ec993d63bd37cc981",
   "display_name": "Python 3.8.5 64-bit ('base': conda)"
  }
 },
 "nbformat": 4,
 "nbformat_minor": 2,
 "cells": [
  {
   "cell_type": "code",
   "execution_count": 1,
   "metadata": {},
   "outputs": [],
   "source": [
    "from bs4 import BeautifulSoup as bs\n",
    "import selenium\n",
    "import requests \n",
    "import pandas as pd\n",
    "import datetime"
   ]
  },
  {
   "cell_type": "code",
   "execution_count": 3,
   "metadata": {},
   "outputs": [],
   "source": [
    "with open(\"spreads.html\") as fp:\n",
    "    soup = bs(fp, \"html.parser\")"
   ]
  },
  {
   "cell_type": "code",
   "execution_count": 10,
   "metadata": {},
   "outputs": [],
   "source": [
    "spreads_results = pd.read_html(\"spreads.html\")[0]"
   ]
  },
  {
   "cell_type": "code",
   "execution_count": 12,
   "metadata": {},
   "outputs": [],
   "source": [
    "spreads_results.to_csv(\"spreads.csv\")"
   ]
  },
  {
   "cell_type": "code",
   "execution_count": 2,
   "metadata": {},
   "outputs": [],
   "source": [
    "from tda import auth, client\n",
    "import json\n",
    " \n",
    "token_path = R'.\\token.pickle'\n",
    "api_key = 'DRSMU4TL964FO3QNBQHVL78X9SUPGGIL@AMER.OAUTHAP'\n",
    "redirect_uri = \"http://localhost\"\n",
    "try:\n",
    "    c = auth.client_from_token_file(token_path, api_key)\n",
    "except FileNotFoundError:\n",
    "    from selenium import webdriver\n",
    "    with webdriver.Chrome() as driver:\n",
    "        c = auth.client_from_login_flow(\n",
    "            driver, api_key, redirect_uri, token_path)"
   ]
  },
  {
   "cell_type": "code",
   "execution_count": 4,
   "metadata": {},
   "outputs": [],
   "source": [
    "para = c.Options\n",
    "\n",
    "chains = c.get_option_chain(symbol=\"SPY\", contract_type=para.ContractType.PUT, to_date=datetime.date(2021,5,28))"
   ]
  },
  {
   "cell_type": "code",
   "execution_count": 31,
   "metadata": {},
   "outputs": [],
   "source": [
    "initial = pd.json_normalize(chains.json(), record_path=\"monthlyStrategyList\")"
   ]
  },
  {
   "cell_type": "code",
   "execution_count": 6,
   "metadata": {},
   "outputs": [],
   "source": [
    "initial = pd.json_normalize(chains.json())"
   ]
  },
  {
   "cell_type": "code",
   "execution_count": 7,
   "metadata": {},
   "outputs": [
    {
     "output_type": "execute_result",
     "data": {
      "text/plain": [
       "  symbol   status underlying strategy  interval  isDelayed  isIndex  \\\n",
       "0    SPY  SUCCESS       None   SINGLE       0.0       True    False   \n",
       "\n",
       "   interestRate  underlyingPrice  volatility  ...  \\\n",
       "0           0.1           415.43        29.0  ...   \n",
       "\n",
       "                    putExpDateMap.2021-05-28:6.475.0  \\\n",
       "0  [{'putCall': 'PUT', 'symbol': 'SPY_052821P475'...   \n",
       "\n",
       "                    putExpDateMap.2021-05-28:6.480.0  \\\n",
       "0  [{'putCall': 'PUT', 'symbol': 'SPY_052821P480'...   \n",
       "\n",
       "                    putExpDateMap.2021-05-28:6.485.0  \\\n",
       "0  [{'putCall': 'PUT', 'symbol': 'SPY_052821P485'...   \n",
       "\n",
       "                    putExpDateMap.2021-05-28:6.490.0  \\\n",
       "0  [{'putCall': 'PUT', 'symbol': 'SPY_052821P490'...   \n",
       "\n",
       "                    putExpDateMap.2021-05-28:6.495.0  \\\n",
       "0  [{'putCall': 'PUT', 'symbol': 'SPY_052821P495'...   \n",
       "\n",
       "                    putExpDateMap.2021-05-28:6.500.0  \\\n",
       "0  [{'putCall': 'PUT', 'symbol': 'SPY_052821P500'...   \n",
       "\n",
       "                    putExpDateMap.2021-05-28:6.510.0  \\\n",
       "0  [{'putCall': 'PUT', 'symbol': 'SPY_052821P510'...   \n",
       "\n",
       "                    putExpDateMap.2021-05-28:6.520.0  \\\n",
       "0  [{'putCall': 'PUT', 'symbol': 'SPY_052821P520'...   \n",
       "\n",
       "                    putExpDateMap.2021-05-28:6.530.0  \\\n",
       "0  [{'putCall': 'PUT', 'symbol': 'SPY_052821P530'...   \n",
       "\n",
       "                    putExpDateMap.2021-05-28:6.540.0  \n",
       "0  [{'putCall': 'PUT', 'symbol': 'SPY_052821P540'...  \n",
       "\n",
       "[1 rows x 617 columns]"
      ],
      "text/html": "<div>\n<style scoped>\n    .dataframe tbody tr th:only-of-type {\n        vertical-align: middle;\n    }\n\n    .dataframe tbody tr th {\n        vertical-align: top;\n    }\n\n    .dataframe thead th {\n        text-align: right;\n    }\n</style>\n<table border=\"1\" class=\"dataframe\">\n  <thead>\n    <tr style=\"text-align: right;\">\n      <th></th>\n      <th>symbol</th>\n      <th>status</th>\n      <th>underlying</th>\n      <th>strategy</th>\n      <th>interval</th>\n      <th>isDelayed</th>\n      <th>isIndex</th>\n      <th>interestRate</th>\n      <th>underlyingPrice</th>\n      <th>volatility</th>\n      <th>...</th>\n      <th>putExpDateMap.2021-05-28:6.475.0</th>\n      <th>putExpDateMap.2021-05-28:6.480.0</th>\n      <th>putExpDateMap.2021-05-28:6.485.0</th>\n      <th>putExpDateMap.2021-05-28:6.490.0</th>\n      <th>putExpDateMap.2021-05-28:6.495.0</th>\n      <th>putExpDateMap.2021-05-28:6.500.0</th>\n      <th>putExpDateMap.2021-05-28:6.510.0</th>\n      <th>putExpDateMap.2021-05-28:6.520.0</th>\n      <th>putExpDateMap.2021-05-28:6.530.0</th>\n      <th>putExpDateMap.2021-05-28:6.540.0</th>\n    </tr>\n  </thead>\n  <tbody>\n    <tr>\n      <th>0</th>\n      <td>SPY</td>\n      <td>SUCCESS</td>\n      <td>None</td>\n      <td>SINGLE</td>\n      <td>0.0</td>\n      <td>True</td>\n      <td>False</td>\n      <td>0.1</td>\n      <td>415.43</td>\n      <td>29.0</td>\n      <td>...</td>\n      <td>[{'putCall': 'PUT', 'symbol': 'SPY_052821P475'...</td>\n      <td>[{'putCall': 'PUT', 'symbol': 'SPY_052821P480'...</td>\n      <td>[{'putCall': 'PUT', 'symbol': 'SPY_052821P485'...</td>\n      <td>[{'putCall': 'PUT', 'symbol': 'SPY_052821P490'...</td>\n      <td>[{'putCall': 'PUT', 'symbol': 'SPY_052821P495'...</td>\n      <td>[{'putCall': 'PUT', 'symbol': 'SPY_052821P500'...</td>\n      <td>[{'putCall': 'PUT', 'symbol': 'SPY_052821P510'...</td>\n      <td>[{'putCall': 'PUT', 'symbol': 'SPY_052821P520'...</td>\n      <td>[{'putCall': 'PUT', 'symbol': 'SPY_052821P530'...</td>\n      <td>[{'putCall': 'PUT', 'symbol': 'SPY_052821P540'...</td>\n    </tr>\n  </tbody>\n</table>\n<p>1 rows × 617 columns</p>\n</div>"
     },
     "metadata": {},
     "execution_count": 7
    }
   ],
   "source": [
    "initial"
   ]
  },
  {
   "cell_type": "code",
   "execution_count": 8,
   "metadata": {
    "tags": []
   },
   "outputs": [],
   "source": [
    "explode = []\n",
    "\n",
    "for i in initial.columns:\n",
    "    try: \n",
    "        explode.append(pd.json_normalize(initial[i].explode()))\n",
    "    except:\n",
    "        pass"
   ]
  },
  {
   "cell_type": "code",
   "execution_count": 64,
   "metadata": {},
   "outputs": [],
   "source": [
    "complete = pd.concat(explode).reset_index()\n",
    "complete[\"delta\"] = complete[\"delta\"].astype(float)"
   ]
  },
  {
   "cell_type": "code",
   "execution_count": 194,
   "metadata": {},
   "outputs": [],
   "source": [
    "delta = 0.06\n",
    "dte = 4\n",
    "\n",
    "idx = complete[complete[\"daysToExpiration\"] == dte][\"delta\"].add(delta).abs().idxmin()"
   ]
  },
  {
   "cell_type": "code",
   "execution_count": 78,
   "metadata": {},
   "outputs": [
    {
     "output_type": "execute_result",
     "data": {
      "text/plain": [
       "Index(['index', 'putCall', 'symbol', 'description', 'exchangeName', 'bid',\n",
       "       'ask', 'last', 'mark', 'bidSize', 'askSize', 'bidAskSize', 'lastSize',\n",
       "       'highPrice', 'lowPrice', 'openPrice', 'closePrice', 'totalVolume',\n",
       "       'tradeDate', 'tradeTimeInLong', 'quoteTimeInLong', 'netChange',\n",
       "       'volatility', 'delta', 'gamma', 'theta', 'vega', 'rho', 'openInterest',\n",
       "       'timeValue', 'theoreticalOptionValue', 'theoreticalVolatility',\n",
       "       'optionDeliverablesList', 'strikePrice', 'expirationDate',\n",
       "       'daysToExpiration', 'expirationType', 'lastTradingDay', 'multiplier',\n",
       "       'settlementType', 'deliverableNote', 'isIndexOption', 'percentChange',\n",
       "       'markChange', 'markPercentChange', 'nonStandard', 'inTheMoney', 'mini'],\n",
       "      dtype='object')"
      ]
     },
     "metadata": {},
     "execution_count": 78
    }
   ],
   "source": [
    "complete.columns"
   ]
  },
  {
   "cell_type": "code",
   "execution_count": 90,
   "metadata": {},
   "outputs": [],
   "source": [
    "short_strike = dict(\n",
    "    symbol=complete.iloc[[idx]][\"symbol\"],\n",
    "    strike=complete.iloc[[idx]][\"strikePrice\"],\n",
    "    delta=complete.iloc[[idx]][\"delta\"],\n",
    "    bid=complete.iloc[[idx]][\"bid\"],\n",
    "    expd=complete.iloc[[idx]][\"expirationDate\"],\n",
    ")\n"
   ]
  },
  {
   "cell_type": "code",
   "execution_count": 151,
   "metadata": {},
   "outputs": [],
   "source": [
    "ls_strike = str(int((short_strike[\"strike\"]-10)))\n",
    "ls_symbol = OptionSymbol('SPY', datetime.datetime.fromtimestamp(float(short_strike[\"expd\"])/1000, tz=datetime.timezone(datetime.timedelta(0))), 'P', ls_strike).build()\n",
    "ls_ask = c.get_quote(ls_symbol).json()[ls_symbol]['askPrice']\n",
    "ls_delta = c.get_quote(ls_symbol).json()[ls_symbol]['delta']"
   ]
  },
  {
   "cell_type": "code",
   "execution_count": 152,
   "metadata": {},
   "outputs": [],
   "source": [
    "long_strike = dict(\n",
    "    symbol=ls_symbol, \n",
    "    strike=ls_strike,\n",
    "    ask = ls_ask,\n",
    "    delta= ls_delta,\n",
    ")"
   ]
  },
  {
   "cell_type": "code",
   "execution_count": 32,
   "metadata": {},
   "outputs": [],
   "source": [
    "from tda.orders.options import OptionSymbol\n",
    "import tda\n",
    "\n",
    "symbol_long = OptionSymbol('SPY', datetime.datetime(year=2021, month=5, day=28), 'P', str(397-10)).build()"
   ]
  },
  {
   "cell_type": "code",
   "execution_count": 195,
   "metadata": {},
   "outputs": [
    {
     "output_type": "execute_result",
     "data": {
      "text/plain": [
       "<Response [201 ]>"
      ]
     },
     "metadata": {},
     "execution_count": 195
    }
   ],
   "source": [
    "from tda.orders.options import bull_put_vertical_open\n",
    "\n",
    "c.place_order(220535376, bull_put_vertical_open(str(long_strike[\"symbol\"]), short_strike[\"symbol\"].iloc[0], 1, round(float(short_strike[\"bid\"]-long_strike[\"ask\"]),2)).build())"
   ]
  },
  {
   "cell_type": "code",
   "execution_count": 30,
   "metadata": {},
   "outputs": [],
   "source": [
    "import tda\n",
    "\n",
    "account_json = c.get_account('220535376', fields=tda.client.Client.Account.Fields.POSITIONS).json()"
   ]
  },
  {
   "cell_type": "code",
   "execution_count": 40,
   "metadata": {},
   "outputs": [],
   "source": [
    "account_posits = pd.DataFrame.from_dict(account_json[\"securitiesAccount\"][\"positions\"])[\"instrument\"]"
   ]
  },
  {
   "cell_type": "code",
   "execution_count": 44,
   "metadata": {},
   "outputs": [],
   "source": [
    "for i,d in enumerate(account_posits):\n",
    "    pd.json_normalize(d)"
   ]
  },
  {
   "cell_type": "code",
   "execution_count": 47,
   "metadata": {},
   "outputs": [
    {
     "output_type": "execute_result",
     "data": {
      "text/plain": [
       "  assetType             cusip           symbol                description  \\\n",
       "0    OPTION  0AMD..FI10082500  AMD_061821C82.5  AMD Jun 18 2021 82.5 Call   \n",
       "\n",
       "  putCall underlyingSymbol  \n",
       "0    CALL              AMD  "
      ],
      "text/html": "<div>\n<style scoped>\n    .dataframe tbody tr th:only-of-type {\n        vertical-align: middle;\n    }\n\n    .dataframe tbody tr th {\n        vertical-align: top;\n    }\n\n    .dataframe thead th {\n        text-align: right;\n    }\n</style>\n<table border=\"1\" class=\"dataframe\">\n  <thead>\n    <tr style=\"text-align: right;\">\n      <th></th>\n      <th>assetType</th>\n      <th>cusip</th>\n      <th>symbol</th>\n      <th>description</th>\n      <th>putCall</th>\n      <th>underlyingSymbol</th>\n    </tr>\n  </thead>\n  <tbody>\n    <tr>\n      <th>0</th>\n      <td>OPTION</td>\n      <td>0AMD..FI10082500</td>\n      <td>AMD_061821C82.5</td>\n      <td>AMD Jun 18 2021 82.5 Call</td>\n      <td>CALL</td>\n      <td>AMD</td>\n    </tr>\n  </tbody>\n</table>\n</div>"
     },
     "metadata": {},
     "execution_count": 47
    }
   ],
   "source": [
    "pd.json_normalize(account_posits[3])"
   ]
  },
  {
   "cell_type": "code",
   "execution_count": null,
   "metadata": {},
   "outputs": [],
   "source": []
  }
 ]
}