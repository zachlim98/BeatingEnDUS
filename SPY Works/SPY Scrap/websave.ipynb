{
 "metadata": {
  "language_info": {
   "codemirror_mode": {
    "name": "ipython",
    "version": 3
   },
   "file_extension": ".py",
   "mimetype": "text/x-python",
   "name": "python",
   "nbconvert_exporter": "python",
   "pygments_lexer": "ipython3",
   "version": "3.8.5"
  },
  "orig_nbformat": 2,
  "kernelspec": {
   "name": "python385jvsc74a57bd0048f1fa9a33d9a89442c8aba85d23c95ec4be7278da4853ec993d63bd37cc981",
   "display_name": "Python 3.8.5 64-bit ('base': conda)"
  }
 },
 "nbformat": 4,
 "nbformat_minor": 2,
 "cells": [
  {
   "cell_type": "code",
   "execution_count": 1,
   "metadata": {},
   "outputs": [],
   "source": [
    "from bs4 import BeautifulSoup as bs\n",
    "import selenium\n",
    "import requests \n",
    "import pandas as pd\n",
    "import datetime"
   ]
  },
  {
   "cell_type": "code",
   "execution_count": 3,
   "metadata": {},
   "outputs": [],
   "source": [
    "with open(\"spreads.html\") as fp:\n",
    "    soup = bs(fp, \"html.parser\")"
   ]
  },
  {
   "cell_type": "code",
   "execution_count": 10,
   "metadata": {},
   "outputs": [],
   "source": [
    "spreads_results = pd.read_html(\"spreads.html\")[0]"
   ]
  },
  {
   "cell_type": "code",
   "execution_count": 12,
   "metadata": {},
   "outputs": [],
   "source": [
    "spreads_results.to_csv(\"spreads.csv\")"
   ]
  },
  {
   "cell_type": "code",
   "execution_count": 2,
   "metadata": {},
   "outputs": [],
   "source": [
    "from tda import auth, client\n",
    "import json\n",
    " \n",
    "token_path = R'.\\token.pickle'\n",
    "api_key = 'DRSMU4TL964FO3QNBQHVL78X9SUPGGIL@AMER.OAUTHAP'\n",
    "redirect_uri = \"http://localhost\"\n",
    "try:\n",
    "    c = auth.client_from_token_file(token_path, api_key)\n",
    "except FileNotFoundError:\n",
    "    from selenium import webdriver\n",
    "    with webdriver.Chrome() as driver:\n",
    "        c = auth.client_from_login_flow(\n",
    "            driver, api_key, redirect_uri, token_path)"
   ]
  },
  {
   "cell_type": "code",
   "execution_count": 3,
   "metadata": {},
   "outputs": [],
   "source": [
    "para = c.Options\n",
    "\n",
    "chains = c.get_option_chain(symbol=\"SPY\", contract_type=para.ContractType.PUT, to_date=datetime.date(2021,5,28))"
   ]
  },
  {
   "cell_type": "code",
   "execution_count": 31,
   "metadata": {},
   "outputs": [],
   "source": [
    "initial = pd.json_normalize(chains.json(), record_path=\"monthlyStrategyList\")"
   ]
  },
  {
   "cell_type": "code",
   "execution_count": 4,
   "metadata": {},
   "outputs": [],
   "source": [
    "initial = pd.json_normalize(chains.json())\n",
    "spreads = pd.json_normalize(initial[\"putExpDateMap.2021-05-28:7.475.0\"].explode())"
   ]
  },
  {
   "cell_type": "code",
   "execution_count": 5,
   "metadata": {},
   "outputs": [
    {
     "output_type": "execute_result",
     "data": {
      "text/plain": [
       "  symbol   status underlying strategy  interval  isDelayed  isIndex  \\\n",
       "0    SPY  SUCCESS       None   SINGLE       0.0       True    False   \n",
       "\n",
       "   interestRate  underlyingPrice  volatility  ...  \\\n",
       "0           0.1          417.005        29.0  ...   \n",
       "\n",
       "                    putExpDateMap.2021-05-28:7.475.0  \\\n",
       "0  [{'putCall': 'PUT', 'symbol': 'SPY_052821P475'...   \n",
       "\n",
       "                    putExpDateMap.2021-05-28:7.480.0  \\\n",
       "0  [{'putCall': 'PUT', 'symbol': 'SPY_052821P480'...   \n",
       "\n",
       "                    putExpDateMap.2021-05-28:7.485.0  \\\n",
       "0  [{'putCall': 'PUT', 'symbol': 'SPY_052821P485'...   \n",
       "\n",
       "                    putExpDateMap.2021-05-28:7.490.0  \\\n",
       "0  [{'putCall': 'PUT', 'symbol': 'SPY_052821P490'...   \n",
       "\n",
       "                    putExpDateMap.2021-05-28:7.495.0  \\\n",
       "0  [{'putCall': 'PUT', 'symbol': 'SPY_052821P495'...   \n",
       "\n",
       "                    putExpDateMap.2021-05-28:7.500.0  \\\n",
       "0  [{'putCall': 'PUT', 'symbol': 'SPY_052821P500'...   \n",
       "\n",
       "                    putExpDateMap.2021-05-28:7.510.0  \\\n",
       "0  [{'putCall': 'PUT', 'symbol': 'SPY_052821P510'...   \n",
       "\n",
       "                    putExpDateMap.2021-05-28:7.520.0  \\\n",
       "0  [{'putCall': 'PUT', 'symbol': 'SPY_052821P520'...   \n",
       "\n",
       "                    putExpDateMap.2021-05-28:7.530.0  \\\n",
       "0  [{'putCall': 'PUT', 'symbol': 'SPY_052821P530'...   \n",
       "\n",
       "                    putExpDateMap.2021-05-28:7.540.0  \n",
       "0  [{'putCall': 'PUT', 'symbol': 'SPY_052821P540'...  \n",
       "\n",
       "[1 rows x 617 columns]"
      ],
      "text/html": "<div>\n<style scoped>\n    .dataframe tbody tr th:only-of-type {\n        vertical-align: middle;\n    }\n\n    .dataframe tbody tr th {\n        vertical-align: top;\n    }\n\n    .dataframe thead th {\n        text-align: right;\n    }\n</style>\n<table border=\"1\" class=\"dataframe\">\n  <thead>\n    <tr style=\"text-align: right;\">\n      <th></th>\n      <th>symbol</th>\n      <th>status</th>\n      <th>underlying</th>\n      <th>strategy</th>\n      <th>interval</th>\n      <th>isDelayed</th>\n      <th>isIndex</th>\n      <th>interestRate</th>\n      <th>underlyingPrice</th>\n      <th>volatility</th>\n      <th>...</th>\n      <th>putExpDateMap.2021-05-28:7.475.0</th>\n      <th>putExpDateMap.2021-05-28:7.480.0</th>\n      <th>putExpDateMap.2021-05-28:7.485.0</th>\n      <th>putExpDateMap.2021-05-28:7.490.0</th>\n      <th>putExpDateMap.2021-05-28:7.495.0</th>\n      <th>putExpDateMap.2021-05-28:7.500.0</th>\n      <th>putExpDateMap.2021-05-28:7.510.0</th>\n      <th>putExpDateMap.2021-05-28:7.520.0</th>\n      <th>putExpDateMap.2021-05-28:7.530.0</th>\n      <th>putExpDateMap.2021-05-28:7.540.0</th>\n    </tr>\n  </thead>\n  <tbody>\n    <tr>\n      <th>0</th>\n      <td>SPY</td>\n      <td>SUCCESS</td>\n      <td>None</td>\n      <td>SINGLE</td>\n      <td>0.0</td>\n      <td>True</td>\n      <td>False</td>\n      <td>0.1</td>\n      <td>417.005</td>\n      <td>29.0</td>\n      <td>...</td>\n      <td>[{'putCall': 'PUT', 'symbol': 'SPY_052821P475'...</td>\n      <td>[{'putCall': 'PUT', 'symbol': 'SPY_052821P480'...</td>\n      <td>[{'putCall': 'PUT', 'symbol': 'SPY_052821P485'...</td>\n      <td>[{'putCall': 'PUT', 'symbol': 'SPY_052821P490'...</td>\n      <td>[{'putCall': 'PUT', 'symbol': 'SPY_052821P495'...</td>\n      <td>[{'putCall': 'PUT', 'symbol': 'SPY_052821P500'...</td>\n      <td>[{'putCall': 'PUT', 'symbol': 'SPY_052821P510'...</td>\n      <td>[{'putCall': 'PUT', 'symbol': 'SPY_052821P520'...</td>\n      <td>[{'putCall': 'PUT', 'symbol': 'SPY_052821P530'...</td>\n      <td>[{'putCall': 'PUT', 'symbol': 'SPY_052821P540'...</td>\n    </tr>\n  </tbody>\n</table>\n<p>1 rows × 617 columns</p>\n</div>"
     },
     "metadata": {},
     "execution_count": 5
    }
   ],
   "source": [
    "initial"
   ]
  },
  {
   "cell_type": "code",
   "execution_count": 7,
   "metadata": {
    "tags": []
   },
   "outputs": [],
   "source": [
    "explode = []\n",
    "\n",
    "for i in initial.columns:\n",
    "    try: \n",
    "        explode.append(pd.json_normalize(initial[i].explode()))\n",
    "    except:\n",
    "        pass"
   ]
  },
  {
   "cell_type": "code",
   "execution_count": 9,
   "metadata": {},
   "outputs": [],
   "source": [
    "complete = pd.concat(explode)"
   ]
  },
  {
   "cell_type": "code",
   "execution_count": 53,
   "metadata": {},
   "outputs": [
    {
     "output_type": "execute_result",
     "data": {
      "text/plain": [
       "             symbol  daysToExpiration  delta  mark\n",
       "0    SPY_052121P411                 0 -0.034  0.05\n",
       "0    SPY_052121P412                 0 -0.056  0.08\n",
       "0    SPY_052421P402                 3 -0.032  0.11\n",
       "0    SPY_052421P403                 3 -0.038  0.13\n",
       "0    SPY_052421P404                 3 -0.043  0.14\n",
       "0    SPY_052421P405                 3 -0.050  0.16\n",
       "0    SPY_052421P406                 3 -0.059  0.19\n",
       "0    SPY_052621P393                 5 -0.033  0.18\n",
       "0    SPY_052621P394                 5 -0.035  0.19\n",
       "0    SPY_052621P395                 5 -0.039  0.21\n",
       "0    SPY_052621P396                 5 -0.042  0.22\n",
       "0    SPY_052621P397                 5 -0.047  0.25\n",
       "0    SPY_052621P398                 5 -0.052  0.27\n",
       "0    SPY_052621P399                 5 -0.058  0.30\n",
       "0    SPY_052621P400                 5 -0.064  0.33\n",
       "0    SPY_052821P385                 7 -0.030  0.22\n",
       "0    SPY_052821P386                 7 -0.032  0.23\n",
       "0    SPY_052821P387                 7 -0.035  0.25\n",
       "0  SPY_052821P387.5                 7 -0.037  0.26\n",
       "0    SPY_052821P388                 7 -0.037  0.26\n",
       "0    SPY_052821P389                 7 -0.040  0.28\n",
       "0    SPY_052821P390                 7 -0.043  0.30\n",
       "0    SPY_052821P391                 7 -0.047  0.33\n",
       "0    SPY_052821P392                 7 -0.051  0.35\n",
       "0  SPY_052821P392.5                 7 -0.054  0.37\n",
       "0    SPY_052821P393                 7 -0.055  0.38\n",
       "0    SPY_052821P394                 7 -0.060  0.41\n",
       "0    SPY_052821P395                 7 -0.065  0.44"
      ],
      "text/html": "<div>\n<style scoped>\n    .dataframe tbody tr th:only-of-type {\n        vertical-align: middle;\n    }\n\n    .dataframe tbody tr th {\n        vertical-align: top;\n    }\n\n    .dataframe thead th {\n        text-align: right;\n    }\n</style>\n<table border=\"1\" class=\"dataframe\">\n  <thead>\n    <tr style=\"text-align: right;\">\n      <th></th>\n      <th>symbol</th>\n      <th>daysToExpiration</th>\n      <th>delta</th>\n      <th>mark</th>\n    </tr>\n  </thead>\n  <tbody>\n    <tr>\n      <th>0</th>\n      <td>SPY_052121P411</td>\n      <td>0</td>\n      <td>-0.034</td>\n      <td>0.05</td>\n    </tr>\n    <tr>\n      <th>0</th>\n      <td>SPY_052121P412</td>\n      <td>0</td>\n      <td>-0.056</td>\n      <td>0.08</td>\n    </tr>\n    <tr>\n      <th>0</th>\n      <td>SPY_052421P402</td>\n      <td>3</td>\n      <td>-0.032</td>\n      <td>0.11</td>\n    </tr>\n    <tr>\n      <th>0</th>\n      <td>SPY_052421P403</td>\n      <td>3</td>\n      <td>-0.038</td>\n      <td>0.13</td>\n    </tr>\n    <tr>\n      <th>0</th>\n      <td>SPY_052421P404</td>\n      <td>3</td>\n      <td>-0.043</td>\n      <td>0.14</td>\n    </tr>\n    <tr>\n      <th>0</th>\n      <td>SPY_052421P405</td>\n      <td>3</td>\n      <td>-0.050</td>\n      <td>0.16</td>\n    </tr>\n    <tr>\n      <th>0</th>\n      <td>SPY_052421P406</td>\n      <td>3</td>\n      <td>-0.059</td>\n      <td>0.19</td>\n    </tr>\n    <tr>\n      <th>0</th>\n      <td>SPY_052621P393</td>\n      <td>5</td>\n      <td>-0.033</td>\n      <td>0.18</td>\n    </tr>\n    <tr>\n      <th>0</th>\n      <td>SPY_052621P394</td>\n      <td>5</td>\n      <td>-0.035</td>\n      <td>0.19</td>\n    </tr>\n    <tr>\n      <th>0</th>\n      <td>SPY_052621P395</td>\n      <td>5</td>\n      <td>-0.039</td>\n      <td>0.21</td>\n    </tr>\n    <tr>\n      <th>0</th>\n      <td>SPY_052621P396</td>\n      <td>5</td>\n      <td>-0.042</td>\n      <td>0.22</td>\n    </tr>\n    <tr>\n      <th>0</th>\n      <td>SPY_052621P397</td>\n      <td>5</td>\n      <td>-0.047</td>\n      <td>0.25</td>\n    </tr>\n    <tr>\n      <th>0</th>\n      <td>SPY_052621P398</td>\n      <td>5</td>\n      <td>-0.052</td>\n      <td>0.27</td>\n    </tr>\n    <tr>\n      <th>0</th>\n      <td>SPY_052621P399</td>\n      <td>5</td>\n      <td>-0.058</td>\n      <td>0.30</td>\n    </tr>\n    <tr>\n      <th>0</th>\n      <td>SPY_052621P400</td>\n      <td>5</td>\n      <td>-0.064</td>\n      <td>0.33</td>\n    </tr>\n    <tr>\n      <th>0</th>\n      <td>SPY_052821P385</td>\n      <td>7</td>\n      <td>-0.030</td>\n      <td>0.22</td>\n    </tr>\n    <tr>\n      <th>0</th>\n      <td>SPY_052821P386</td>\n      <td>7</td>\n      <td>-0.032</td>\n      <td>0.23</td>\n    </tr>\n    <tr>\n      <th>0</th>\n      <td>SPY_052821P387</td>\n      <td>7</td>\n      <td>-0.035</td>\n      <td>0.25</td>\n    </tr>\n    <tr>\n      <th>0</th>\n      <td>SPY_052821P387.5</td>\n      <td>7</td>\n      <td>-0.037</td>\n      <td>0.26</td>\n    </tr>\n    <tr>\n      <th>0</th>\n      <td>SPY_052821P388</td>\n      <td>7</td>\n      <td>-0.037</td>\n      <td>0.26</td>\n    </tr>\n    <tr>\n      <th>0</th>\n      <td>SPY_052821P389</td>\n      <td>7</td>\n      <td>-0.040</td>\n      <td>0.28</td>\n    </tr>\n    <tr>\n      <th>0</th>\n      <td>SPY_052821P390</td>\n      <td>7</td>\n      <td>-0.043</td>\n      <td>0.30</td>\n    </tr>\n    <tr>\n      <th>0</th>\n      <td>SPY_052821P391</td>\n      <td>7</td>\n      <td>-0.047</td>\n      <td>0.33</td>\n    </tr>\n    <tr>\n      <th>0</th>\n      <td>SPY_052821P392</td>\n      <td>7</td>\n      <td>-0.051</td>\n      <td>0.35</td>\n    </tr>\n    <tr>\n      <th>0</th>\n      <td>SPY_052821P392.5</td>\n      <td>7</td>\n      <td>-0.054</td>\n      <td>0.37</td>\n    </tr>\n    <tr>\n      <th>0</th>\n      <td>SPY_052821P393</td>\n      <td>7</td>\n      <td>-0.055</td>\n      <td>0.38</td>\n    </tr>\n    <tr>\n      <th>0</th>\n      <td>SPY_052821P394</td>\n      <td>7</td>\n      <td>-0.060</td>\n      <td>0.41</td>\n    </tr>\n    <tr>\n      <th>0</th>\n      <td>SPY_052821P395</td>\n      <td>7</td>\n      <td>-0.065</td>\n      <td>0.44</td>\n    </tr>\n  </tbody>\n</table>\n</div>"
     },
     "metadata": {},
     "execution_count": 53
    }
   ],
   "source": [
    "complete.loc[(complete[\"delta\"] > -0.070) & (complete[\"delta\"] < -0.029)][[\"symbol\", \"daysToExpiration\",\"delta\",\"mark\"]]"
   ]
  },
  {
   "cell_type": "code",
   "execution_count": null,
   "metadata": {},
   "outputs": [],
   "source": []
  }
 ]
}